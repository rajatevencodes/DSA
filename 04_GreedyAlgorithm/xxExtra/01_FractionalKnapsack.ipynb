{
 "cells": [
  {
   "cell_type": "markdown",
   "id": "f4894f4f",
   "metadata": {},
   "source": [
    "[Fractional Knapsack Problem - Greedy Approach](https://takeuforward.org/data-structure/fractional-knapsack-problem-greedy-approach/)\n",
    "\n",
    "Given the weights and values of `N` items, determine the optimal selection of items to place in a knapsack with capacity `W` so that the total value is maximized.\n",
    "\n",
    "- **Values:** `[60, 100, 120]`\n",
    "- **Weights:** `[10, 20, 30]`\n",
    "- **Knapsack Capacity (W):** `50`\n",
    "\n",
    "For the given values and weights, the maximum profit is **240.0**.\n",
    "\n"
   ]
  },
  {
   "cell_type": "code",
   "execution_count": 6,
   "id": "3d858f48",
   "metadata": {},
   "outputs": [
    {
     "name": "stdout",
     "output_type": "stream",
     "text": [
      "Maximum profit: 240.0\n"
     ]
    }
   ],
   "source": [
    "class Solution:\n",
    "    def fractionalKnapsack(self, values, weights, knapsackCapacity):\n",
    "        # step 1: calculate ratios\n",
    "        ratio = [values[i] / weights[i] for i in range(len(values))]\n",
    "\n",
    "        # step 2: combine into tuples (ratio, value, weight)\n",
    "        items = list(zip(ratio, values, weights))\n",
    "\n",
    "        # step 3: sort by ratio descending\n",
    "        items.sort(key=lambda x: x[0], reverse=True)\n",
    "\n",
    "        # print(items)   # [(6.0, 60, 10), (5.0, 100, 20), (4.0, 120, 30)]\n",
    "        currentWeight = 0\n",
    "        totalProfit = 0\n",
    "        \n",
    "        for itemRatio,itemValue,itemWeight in items:\n",
    "            # Pick Whole\n",
    "            if knapsackCapacity - itemWeight >= 0:\n",
    "                totalProfit += itemValue\n",
    "                currentWeight += itemWeight\n",
    "                knapsackCapacity -= itemWeight\n",
    "            # Pick Fractional\n",
    "            else:\n",
    "                totalProfit += itemRatio * knapsackCapacity\n",
    "                    \n",
    "        return totalProfit\n",
    "\n",
    "if __name__ == \"__main__\":\n",
    "    values = [60, 100, 120]   # profits/values\n",
    "    weights = [10, 20, 30]    # corresponding weights\n",
    "    W = 50                    # knapsack capacity\n",
    "\n",
    "    # Calculate the maximum profit\n",
    "    solution = Solution()\n",
    "    max_profit = solution.fractionalKnapsack(values, weights, W)\n",
    "    print(\"Maximum profit:\", max_profit)"
   ]
  }
 ],
 "metadata": {
  "kernelspec": {
   "display_name": ".venv",
   "language": "python",
   "name": "python3"
  },
  "language_info": {
   "codemirror_mode": {
    "name": "ipython",
    "version": 3
   },
   "file_extension": ".py",
   "mimetype": "text/x-python",
   "name": "python",
   "nbconvert_exporter": "python",
   "pygments_lexer": "ipython3",
   "version": "3.11.13"
  }
 },
 "nbformat": 4,
 "nbformat_minor": 5
}
