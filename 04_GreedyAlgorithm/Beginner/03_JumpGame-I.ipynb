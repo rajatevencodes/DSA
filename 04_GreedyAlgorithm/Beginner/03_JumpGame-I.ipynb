{
 "cells": [
  {
   "cell_type": "code",
   "execution_count": 2,
   "id": "1bc59c9d",
   "metadata": {},
   "outputs": [
    {
     "name": "stdout",
     "output_type": "stream",
     "text": [
      "Array representing maximum jump from each index: 4 3 7 1 2 \n",
      "True\n"
     ]
    }
   ],
   "source": [
    "class Solution:\n",
    "    def canJump(self, nums):\n",
    "        maxIndexReached = 0\n",
    "        for i in range(len(nums)):\n",
    "            # if i > maxIndexReached:\n",
    "            # we *cannot* stand on index i because the farthest tile we can reach so far is before i,\n",
    "            # so the rest of the array is unreachable → return False\n",
    "            if i > maxIndexReached:\n",
    "                return False\n",
    "\n",
    "            maxIndexReached = max(maxIndexReached, i + nums[i])\n",
    "\n",
    "            # Optional fast path: if we've already reached or passed the last index,\n",
    "            # we can return True early (saves time for large inputs).\n",
    "            if maxIndexReached >= len(nums) - 1:\n",
    "                return True\n",
    "        return True\n",
    "\n",
    "# Example usage\n",
    "if __name__ == \"__main__\":\n",
    "    nums = [4, 3, 7, 1, 2]\n",
    "    print(\"Array representing maximum jump from each index: \", end=\"\")\n",
    "    for num in nums:\n",
    "        print(num, end=\" \")\n",
    "    print()\n",
    "    solution = Solution()\n",
    "    ans = solution.canJump(nums)\n",
    "    print(ans)"
   ]
  },
  {
   "cell_type": "markdown",
   "id": "a2454bf7",
   "metadata": {},
   "source": [
    "#### Possible To Reach\n",
    "\n",
    "| [![Image 1](https://static.takeuforward.org/premium/Greedy%20Algorithms/Easy/Jump%20Game%20-%20I/1.png-qO7DVnOL)](LINK1) | [![Image 2](https://static.takeuforward.org/premium/Greedy%20Algorithms/Easy/Jump%20Game%20-%20I/2.png-7O0WPREg)](LINK2) |\n",
    "|----------------------------------|----------------------------------|\n",
    "\n",
    "#### Not Possible To Reach\n",
    "\n",
    "| [![Image 3](https://static.takeuforward.org/premium/Greedy%20Algorithms/Easy/Jump%20Game%20-%20I/1.png-2Caud2wQ)](LINK3) | [![Image 4](https://static.takeuforward.org/premium/Greedy%20Algorithms/Easy/Jump%20Game%20-%20I/2.png-UwD7vD0f)](LINK4) |\n",
    "|----------------------------------|----------------------------------|\n"
   ]
  }
 ],
 "metadata": {
  "kernelspec": {
   "display_name": "DSA (3.11.13)",
   "language": "python",
   "name": "python3"
  },
  "language_info": {
   "codemirror_mode": {
    "name": "ipython",
    "version": 3
   },
   "file_extension": ".py",
   "mimetype": "text/x-python",
   "name": "python",
   "nbconvert_exporter": "python",
   "pygments_lexer": "ipython3",
   "version": "3.11.13"
  }
 },
 "nbformat": 4,
 "nbformat_minor": 5
}
