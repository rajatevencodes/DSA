{
 "cells": [
  {
   "cell_type": "code",
   "execution_count": 1,
   "id": "2f1069a1",
   "metadata": {},
   "outputs": [
    {
     "name": "stdout",
     "output_type": "stream",
     "text": [
      "Queues of customers: 5 5 5 10 20 \n",
      "It is possible to provide change for all customers.\n"
     ]
    }
   ],
   "source": [
    "class Solution:\n",
    "    def lemonadeChange(self, bills):\n",
    "        bills_5_counter = 0\n",
    "        bills_10_counter = 0\n",
    "        isPossible = True\n",
    "        for i in range(len(bills)):\n",
    "            if bills[i] == 5:\n",
    "                bills_5_counter += 1\n",
    "            elif bills[i] == 10:\n",
    "                bills_10_counter += 1\n",
    "                if bills_5_counter >= 1:\n",
    "                    bills_5_counter -= 1\n",
    "                else:\n",
    "                    isPossible = False\n",
    "            elif bills[i] == 20:\n",
    "                if bills_10_counter >= 1 and bills_5_counter >= 1:\n",
    "                    bills_10_counter -= 1\n",
    "                    bills_5_counter -= 1\n",
    "                elif bills_5_counter >= 3:\n",
    "                    bills_5_counter -= 3\n",
    "                else:\n",
    "                    isPossible = False\n",
    "        return isPossible\n",
    "\n",
    "# Example usage\n",
    "if __name__ == \"__main__\":\n",
    "    bills = [5, 5, 5, 10, 20]\n",
    "    print(\"Queues of customers: \", end=\"\")\n",
    "    for bill in bills:\n",
    "        print(bill, end=\" \")\n",
    "    print()\n",
    "    solution = Solution()\n",
    "    ans = solution.lemonadeChange(bills)\n",
    "    if ans:\n",
    "        print(\"It is possible to provide change for all customers.\")\n",
    "    else:\n",
    "        print(\"It is not possible to provide change for all customers.\")"
   ]
  }
 ],
 "metadata": {
  "kernelspec": {
   "display_name": "DSA (3.11.13)",
   "language": "python",
   "name": "python3"
  },
  "language_info": {
   "codemirror_mode": {
    "name": "ipython",
    "version": 3
   },
   "file_extension": ".py",
   "mimetype": "text/x-python",
   "name": "python",
   "nbconvert_exporter": "python",
   "pygments_lexer": "ipython3",
   "version": "3.11.13"
  }
 },
 "nbformat": 4,
 "nbformat_minor": 5
}
