{
 "cells": [
  {
   "cell_type": "markdown",
   "id": "757d645f",
   "metadata": {},
   "source": [
    "_This is reverse of N Meetings Problem_"
   ]
  },
  {
   "cell_type": "code",
   "execution_count": null,
   "id": "c14e9360",
   "metadata": {},
   "outputs": [],
   "source": [
    "class Solution:\n",
    "    # ! This is wrong name - This should be MinimumNonOverLappingIntervals\n",
    "    def MaximumNonOverlappingIntervals(self, Intervals):\n",
    "        Intervals.sort(key=lambda x: x[1])\n",
    "\n",
    "        # Initialize with the first interval\n",
    "        counter = 1\n",
    "        yetIntervalEndTime = Intervals[0][1]\n",
    "\n",
    "        # Iterate through the rest of the intervals\n",
    "        for i in range(1, len(Intervals)):\n",
    "            current_start_time = Intervals[i][0]\n",
    "\n",
    "            # If the current interval starts after or at the same time the last one ended,\n",
    "            # it means they don't overlap. So, we can keep it.\n",
    "            if current_start_time >= yetIntervalEndTime:\n",
    "                counter += 1\n",
    "                yetIntervalEndTime = Intervals[i][1]\n",
    "\n",
    "        ans = len(Intervals) - counter\n",
    "        return ans\n",
    "\n",
    "\n",
    "# Example usage\n",
    "if __name__ == \"__main__\":\n",
    "    obj = Solution()\n",
    "    intervals = [[0, 5], [3, 4], [1, 2], [5, 9], [7, 9]]\n",
    "    \n",
    "    for i, interval in enumerate(intervals):\n",
    "        print(f\"Interval {i + 1} Start: {interval[0]} End: {interval[1]}\")\n",
    "    \n",
    "    ans = obj.MaximumNonOverlappingIntervals(intervals)\n",
    "    print(f\"Maximum Non-Overlapping Intervals: {ans}\")"
   ]
  },
  {
   "cell_type": "markdown",
   "id": "678179d1",
   "metadata": {},
   "source": [
    "<p align=\"center\">\n",
    "    <img src=\"https://static.takeuforward.org/premium/Greedy%20Algorithms/Scheduling%20and%20Interval%20Problems/Non-overlapping%20Intervals/image1-5UYjluQn\" alt=\"Dry Run Illustration\" width=\"500\"/>\n",
    "</p>"
   ]
  }
 ],
 "metadata": {
  "language_info": {
   "name": "python"
  }
 },
 "nbformat": 4,
 "nbformat_minor": 5
}
