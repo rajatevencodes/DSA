{
 "cells": [
  {
   "cell_type": "markdown",
   "id": "4beb56b1",
   "metadata": {},
   "source": [
    "_Popular similar questions ~ Disjoint Set , Activity Selection_.     \n",
    "**Logic: _Choose Meetings that finish earliest so we can fit in more meetings and are not overlapping_**"
   ]
  },
  {
   "cell_type": "code",
   "execution_count": 2,
   "id": "e48db5b8",
   "metadata": {},
   "outputs": [
    {
     "name": "stdout",
     "output_type": "stream",
     "text": [
      "4\n"
     ]
    }
   ],
   "source": [
    "class Solution:\n",
    "    def maxMeetings(self, start, end):\n",
    "        # 1. Pair start and end times together\n",
    "        meetings = []\n",
    "        for i in range(len(start)):\n",
    "            meetings.append([start[i], end[i]])\n",
    "\n",
    "        # 2. Sort the meetings based on their end times\n",
    "        meetings.sort(key=lambda x: x[1])\n",
    "\n",
    "        totalMeetings = 0\n",
    "        yetMeetingEndTime = 0\n",
    "\n",
    "        # 3. Apply the greedy logic on the sorted list\n",
    "        for meeting in meetings:\n",
    "            # If the current meeting's start time is after the last one ended\n",
    "            if yetMeetingEndTime < meeting[0]:\n",
    "                totalMeetings += 1\n",
    "                yetMeetingEndTime = meeting[1]  # Update the end time\n",
    "\n",
    "        return totalMeetings\n",
    "\n",
    "\n",
    "if __name__ == \"__main__\":\n",
    "    # Start and end times of the meetings\n",
    "    start = [1, 3, 0, 5, 8, 5]\n",
    "    end = [2, 4, 6, 7, 9, 9]\n",
    "    sol = Solution()\n",
    "    print(sol.maxMeetings(start, end))"
   ]
  },
  {
   "cell_type": "markdown",
   "id": "b98b4ba5",
   "metadata": {},
   "source": [
    "| [![Image 1](https://static.takeuforward.org/premium/Greedy%20Algorithms/Scheduling%20and%20Interval%20Problems/N%20meetings%20in%20one%20room/1.png-_kGeY1Nx)](LINK1) | [![Image 2](https://static.takeuforward.org/premium/Greedy%20Algorithms/Scheduling%20and%20Interval%20Problems/N%20meetings%20in%20one%20room/2.png-WK5s171y)](LINK2) |\n",
    "|:--------------------------------:|:--------------------------------:|"
   ]
  },
  {
   "cell_type": "markdown",
   "id": "66ce4e89",
   "metadata": {},
   "source": [
    "_We might be asked to return list down all the meetings also_"
   ]
  },
  {
   "cell_type": "code",
   "execution_count": 4,
   "id": "1c4e4304",
   "metadata": {},
   "outputs": [
    {
     "name": "stdout",
     "output_type": "stream",
     "text": [
      "[[1, 2], [3, 4], [5, 7], [8, 9]]\n"
     ]
    }
   ],
   "source": [
    "class Solution:\n",
    "    def maxMeetings(self, start, end):\n",
    "        meetings = []\n",
    "        for i in range(len(start)):\n",
    "            meetings.append([start[i], end[i]])\n",
    "        meetings.sort(key=lambda x: x[1])\n",
    "        totalMeetings = 0\n",
    "        yetMeetingEndTime = 0\n",
    "        # ! Added\n",
    "        ans = []\n",
    "        for meeting in meetings:\n",
    "            if yetMeetingEndTime < meeting[0]:\n",
    "                totalMeetings += 1\n",
    "                # ! Added\n",
    "                ans.append(meeting)\n",
    "                yetMeetingEndTime = meeting[1] \n",
    "\n",
    "        return ans\n",
    "\n",
    "if __name__ == \"__main__\":\n",
    "    start = [1, 3, 0, 5, 8, 5]\n",
    "    end = [2, 4, 6, 7, 9, 9]\n",
    "    sol = Solution()\n",
    "    print(sol.maxMeetings(start, end))"
   ]
  }
 ],
 "metadata": {
  "kernelspec": {
   "display_name": "DSA (3.11.13)",
   "language": "python",
   "name": "python3"
  },
  "language_info": {
   "codemirror_mode": {
    "name": "ipython",
    "version": 3
   },
   "file_extension": ".py",
   "mimetype": "text/x-python",
   "name": "python",
   "nbconvert_exporter": "python",
   "pygments_lexer": "ipython3",
   "version": "3.11.13"
  }
 },
 "nbformat": 4,
 "nbformat_minor": 5
}
