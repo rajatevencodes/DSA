{
 "cells": [
  {
   "cell_type": "markdown",
   "id": "696a1693",
   "metadata": {},
   "source": [
    "**Shortest Job First**   \n",
    "_Scheduling policy that selects the waiting process with the shortest execution time to execute next_"
   ]
  },
  {
   "cell_type": "code",
   "execution_count": 5,
   "id": "ca9b7df2",
   "metadata": {},
   "outputs": [
    {
     "name": "stdout",
     "output_type": "stream",
     "text": [
      "Array Representing Job Durations: 1 2 3 4 7 \n",
      "Total waiting time:  4\n"
     ]
    }
   ],
   "source": [
    "class Solution:\n",
    "    def solve(self, bt):\n",
    "        bt.sort()\n",
    "        waitingTime = 0\n",
    "\n",
    "        ans = [0] * len(bt)\n",
    "        for i in range(len(bt) - 1):\n",
    "            waitingTime += bt[i]\n",
    "            ans[i + 1] = waitingTime\n",
    "\n",
    "        totalWaitingTime = 0\n",
    "        for i in range(len(ans)):\n",
    "            totalWaitingTime += ans[i]\n",
    "\n",
    "        averageWaitingTime = totalWaitingTime // (len(bt))\n",
    "        return averageWaitingTime\n",
    "\n",
    "\n",
    "if __name__ == \"__main__\":\n",
    "    jobs = [1, 2, 3, 4 , 7]\n",
    "    print(\"Array Representing Job Durations: \", end=\"\")\n",
    "    for job in jobs:\n",
    "        print(job, end=\" \")\n",
    "    print()\n",
    "    solution = Solution()\n",
    "    ans = solution.solve(jobs)\n",
    "    print(\"Total waiting time: \", ans)"
   ]
  }
 ],
 "metadata": {
  "kernelspec": {
   "display_name": "DSA (3.11.13)",
   "language": "python",
   "name": "python3"
  },
  "language_info": {
   "codemirror_mode": {
    "name": "ipython",
    "version": 3
   },
   "file_extension": ".py",
   "mimetype": "text/x-python",
   "name": "python",
   "nbconvert_exporter": "python",
   "pygments_lexer": "ipython3",
   "version": "3.11.13"
  }
 },
 "nbformat": 4,
 "nbformat_minor": 5
}
