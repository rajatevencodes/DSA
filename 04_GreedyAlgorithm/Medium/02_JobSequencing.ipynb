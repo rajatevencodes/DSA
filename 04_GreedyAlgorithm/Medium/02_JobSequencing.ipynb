{
 "cells": [
  {
   "cell_type": "markdown",
   "id": "025a43af",
   "metadata": {},
   "source": [
    "### **Understanding the Problem Correctly**\n",
    "\n",
    "Here are the key rules:\n",
    "- Each job requires **one unit of time** to complete.\n",
    "- Only **one job** can be scheduled at any given time slot.\n",
    "- Every job has a specific **deadline** (the latest time slot it can be scheduled) and a **profit**.\n",
    "\n",
    "**Objective:**  \n",
    "Select jobs to maximize the **total profit**, ensuring each job is completed before its deadline.\n",
    "\n",
    "A job’s deadline indicates the last possible time slot for its completion. For example, a job with a deadline of 5 can be scheduled in any slot from 1 to 5.\n",
    "\n",
    "**Illustration:**  \n",
    "Suppose you have three jobs, each with a deadline of 5. Since there are five available slots, all three jobs can be scheduled.  \n",
    "If you have six jobs with a deadline of 5, only five can be scheduled—so you should choose the five jobs with the highest profits.\n",
    "\n",
    "**Example:**  \n",
    "- Job 1: Deadline = 2, Profit = 100  \n",
    "- Job 2: Deadline = 1, Profit = 90  \n",
    "Ans: Both jobs can be scheduled = **190**."
   ]
  },
  {
   "cell_type": "code",
   "execution_count": null,
   "id": "951468a7",
   "metadata": {},
   "outputs": [
    {
     "name": "stdout",
     "output_type": "stream",
     "text": [
      "Number of Jobs: 2\n",
      "Maximum Profit: 60\n"
     ]
    }
   ],
   "source": [
    "class Solution:\n",
    "    def JobScheduling(self, Jobs):\n",
    "        # Sort jobs by profit (highest first)\n",
    "        Jobs.sort(key=lambda x: -x[2])\n",
    "\n",
    "        # Find the max deadline to know how many time slots we have\n",
    "        max_deadline = 0\n",
    "        for job in Jobs:\n",
    "            max_deadline = max(max_deadline, job[1])\n",
    "\n",
    "        # Create an array to track if a time slot is taken (-1 means free)\n",
    "        # Size is max_deadline + 1 to allow for 1-based slot indexing\n",
    "        schedule = [-1] * (max_deadline + 1)\n",
    "\n",
    "        job_count = 0\n",
    "        total_profit = 0\n",
    "\n",
    "        for job in Jobs:\n",
    "            deadline = job[1]\n",
    "            profit = job[2]\n",
    "\n",
    "            # Find the latest free slot for this job by searching backward from its deadline\n",
    "            for i in range(deadline, 0, -1):\n",
    "                if schedule[i] == -1:\n",
    "                    # Found a free slot, schedule the job\n",
    "                    schedule[i] = job[0]  # Mark slot as taken\n",
    "                    total_profit += profit\n",
    "                    job_count += 1\n",
    "\n",
    "                    # IMPORTANT: Stop searching and move to the next job\n",
    "                    break\n",
    "\n",
    "        return [job_count, total_profit]\n",
    "    \n",
    "if __name__ == \"__main__\":\n",
    "    jobs = [[1, 4, 20], [2, 1, 10], [3, 1, 40], [4, 1, 30]]\n",
    "\n",
    "    solution = Solution()\n",
    "    result = solution.JobScheduling(jobs)\n",
    "\n",
    "    # Output the result\n",
    "    print(\"Number of Jobs:\", result[0])\n",
    "    print(\"Maximum Profit:\", result[1])"
   ]
  },
  {
   "cell_type": "markdown",
   "id": "4d1e0e1e",
   "metadata": {},
   "source": [
    "| | |\n",
    "|:---:|:---:|\n",
    "| [![Image 1](https://static.takeuforward.org/premium/Greedy%20Algorithms/Scheduling%20and%20Interval%20Problems/Job%20sequencing%20Problem/2.png-bqYN0zQH)](https://static.takeuforward.org/premium/Greedy%20Algorithms/Scheduling%20and%20Interval%20Problems/Job%20sequencing%20Problem/2.png-bqYN0zQH) | [![Image 2](https://static.takeuforward.org/premium/Greedy%20Algorithms/Scheduling%20and%20Interval%20Problems/Job%20sequencing%20Problem/2.png-bqYN0zQH)](https://static.takeuforward.org/premium/Greedy%20Algorithms/Scheduling%20and%20Interval%20Problems/Job%20sequencing%20Problem/2.png-bqYN0zQH) |\n",
    "| [![Image 3](https://static.takeuforward.org/premium/Greedy%20Algorithms/Scheduling%20and%20Interval%20Problems/Job%20sequencing%20Problem/3.png-iSclrXWr)](https://static.takeuforward.org/premium/Greedy%20Algorithms/Scheduling%20and%20Interval%20Problems/Job%20sequencing%20Problem/3.png-iSclrXWr) | [![Image 4](https://static.takeuforward.org/premium/Greedy%20Algorithms/Scheduling%20and%20Interval%20Problems/Job%20sequencing%20Problem/4.png-nWyg2fLo)](https://static.takeuforward.org/premium/Greedy%20Algorithms/Scheduling%20and%20Interval%20Problems/Job%20sequencing%20Problem/4.png-nWyg2fLo) |\n",
    "| [![Image 5](https://static.takeuforward.org/premium/Greedy%20Algorithms/Scheduling%20and%20Interval%20Problems/Job%20sequencing%20Problem/5.png-RGZSQS5Y)](https://static.takeuforward.org/premium/Greedy%20Algorithms/Scheduling%20and%20Interval%20Problems/Job%20sequencing%20Problem/5.png-RGZSQS5Y) | |"
   ]
  }
 ],
 "metadata": {
  "kernelspec": {
   "display_name": "DSA (3.11.13)",
   "language": "python",
   "name": "python3"
  },
  "language_info": {
   "codemirror_mode": {
    "name": "ipython",
    "version": 3
   },
   "file_extension": ".py",
   "mimetype": "text/x-python",
   "name": "python",
   "nbconvert_exporter": "python",
   "pygments_lexer": "ipython3",
   "version": "3.11.13"
  }
 },
 "nbformat": 4,
 "nbformat_minor": 5
}
