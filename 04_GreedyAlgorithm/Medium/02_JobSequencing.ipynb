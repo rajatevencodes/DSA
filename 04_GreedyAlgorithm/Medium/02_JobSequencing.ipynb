{
 "cells": [
  {
   "cell_type": "markdown",
   "id": "025a43af",
   "metadata": {},
   "source": [
    "Very Easy Question.   \n",
    "_**Note** : Each Job takes 1 unit of time to complete and only one job can be scheduled at a time._"
   ]
  },
  {
   "cell_type": "code",
   "execution_count": null,
   "id": "951468a7",
   "metadata": {},
   "outputs": [],
   "source": [
    "class Solution:\n",
    "    def JobScheduling(self, Jobs):\n",
    "        "
   ]
  }
 ],
 "metadata": {
  "language_info": {
   "name": "python"
  }
 },
 "nbformat": 4,
 "nbformat_minor": 5
}
