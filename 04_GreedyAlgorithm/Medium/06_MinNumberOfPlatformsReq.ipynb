{
 "cells": [
  {
   "cell_type": "code",
   "execution_count": null,
   "id": "f6ef244b",
   "metadata": {},
   "outputs": [],
   "source": [
    "class Solution:\n",
    "    def findPlatform(self, Arrival, Departure):\n",
    "        # Sort both arrival and departure arrays.\n",
    "        # This allows us to process events in chronological order.\n",
    "        Arrival.sort()\n",
    "        Departure.sort()\n",
    "\n",
    "        n = len(Arrival)\n",
    "\n",
    "        # Pointers for arrival and departure arrays\n",
    "        i = 0  # Points to the next arrival\n",
    "        j = 0  # Points to the next departure\n",
    "\n",
    "        platforms_needed = 0  # Current platforms in use\n",
    "        max_platforms = 0  # Maximum platforms needed so far\n",
    "\n",
    "        # Loop until all arrivals have been processed\n",
    "        while i < n:\n",
    "            # --- Case 1: Next event is an arrival ---\n",
    "            # If the next arrival occurs before or at the same time as the next departure,\n",
    "            # we need one more platform for the arriving train.\n",
    "            if Arrival[i] <= Departure[j]:\n",
    "                platforms_needed += 1\n",
    "                i += 1  # Move to the next arrival\n",
    "\n",
    "            # --- Case 2: Next event is a departure ---\n",
    "            # If the next departure occurs before the next arrival,\n",
    "            # a platform is freed up.\n",
    "            else:\n",
    "                platforms_needed -= 1\n",
    "                j += 1  # Move to the next departure\n",
    "\n",
    "            # Update the overall maximum platforms required\n",
    "            if platforms_needed > max_platforms:\n",
    "                max_platforms = platforms_needed\n",
    "\n",
    "        return max_platforms\n",
    "\n",
    "\n",
    "# --- Test the function ---\n",
    "if __name__ == \"__main__\":\n",
    "    arr = [900, 945, 955, 1100, 1500, 1800]\n",
    "    dep = [920, 1200, 1130, 1150, 1900, 2000]\n",
    "\n",
    "    sol = Solution()\n",
    "    ans = sol.findPlatform(arr, dep)\n",
    "\n",
    "    print(\"Minimum number of Platforms required:\", ans)\n",
    "    # Expected Output: 3"
   ]
  }
 ],
 "metadata": {
  "language_info": {
   "name": "python"
  }
 },
 "nbformat": 4,
 "nbformat_minor": 5
}
