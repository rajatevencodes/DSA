{
 "cells": [
  {
   "cell_type": "code",
   "execution_count": null,
   "id": "c8bab1cd",
   "metadata": {},
   "outputs": [
    {
     "name": "stdout",
     "output_type": "stream",
     "text": [
      "[[1, 2], [3, 4], [5, 10], [12, 16]]\n"
     ]
    }
   ],
   "source": [
    "class Solution:\n",
    "    def insertNewInterval(self, Intervals, newInterval):\n",
    "        ans = []\n",
    "\n",
    "        for i in range(len(Intervals)):\n",
    "            current_interval = Intervals[i]\n",
    "\n",
    "            # --- Case 1: newInterval is AFTER the current_interval ---\n",
    "            # If the new interval starts after the current one ends, there's no overlap.\n",
    "            # The current_interval is placed safely before the new one.\n",
    "            # Example: current=[1,2], new=[4,5]\n",
    "            if newInterval[0] > current_interval[1]:\n",
    "                ans.append(current_interval)\n",
    "\n",
    "            # --- Case 2: newInterval is BEFORE the current_interval ---\n",
    "            # If the new interval ends before the current one starts, there's no overlap.\n",
    "            # This is the first time we see an interval that belongs after our newInterval.\n",
    "            # So, we can add our newInterval and all remaining intervals, then finish.\n",
    "            # Example: current=[6,7], new=[4,5]\n",
    "            elif newInterval[1] < current_interval[0]:\n",
    "                ans.append(newInterval)\n",
    "                # Add the rest of the intervals from the original list and return\n",
    "                return ans + Intervals[i:]\n",
    "\n",
    "            # --- Case 3: Overlap exists ---\n",
    "            # If neither of the above is true, the intervals overlap.\n",
    "            # Merge the current_interval into newInterval by finding the earliest start\n",
    "            # and the latest end time. Don't add to ans yet; wait until all merges are done.\n",
    "            # Example: current=[3,6], new=[4,5] -> merged new=[3,6]\n",
    "            else:\n",
    "                newInterval[0] = min(newInterval[0], current_interval[0])\n",
    "                newInterval[1] = max(newInterval[1], current_interval[1])\n",
    "\n",
    "        # After the loop, if we haven't returned, it means the (possibly merged)\n",
    "        # newInterval belongs at the very end of the list.\n",
    "        ans.append(newInterval)\n",
    "        return ans\n",
    "    \n",
    "if __name__ == \"__main__\":\n",
    "    intervals = [[1, 2], [3, 4], [6, 7], [8, 10], [12, 16]]\n",
    "    new_interval = [5, 8]\n",
    "    solution = Solution()\n",
    "    print(solution.insertNewInterval(intervals, new_interval))"
   ]
  }
 ],
 "metadata": {
  "kernelspec": {
   "display_name": "DSA (3.11.13)",
   "language": "python",
   "name": "python3"
  },
  "language_info": {
   "codemirror_mode": {
    "name": "ipython",
    "version": 3
   },
   "file_extension": ".py",
   "mimetype": "text/x-python",
   "name": "python",
   "nbconvert_exporter": "python",
   "pygments_lexer": "ipython3",
   "version": "3.11.13"
  }
 },
 "nbformat": 4,
 "nbformat_minor": 5
}
