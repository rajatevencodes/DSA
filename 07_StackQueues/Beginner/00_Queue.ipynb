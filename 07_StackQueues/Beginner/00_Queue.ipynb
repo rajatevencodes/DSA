{
 "cells": [
  {
   "cell_type": "markdown",
   "id": "b362ea64",
   "metadata": {},
   "source": [
    "# Queue\n",
    "\n",
    "A queue is a linear data structure that follows the First In, First Out (FIFO) principle. It is a collection of elements where elements are added at the rear (end) and removed from the front.\n",
    "\n",
    "#### Operations:\n",
    "- **Enqueue**: Adds an element to the rear of the queue.\n",
    "- **Dequeue**: Removes an element from the front of the queue.\n",
    "- **Front**: Retrieves the front element without removing it.\n",
    "- **IsEmpty**: Checks if the queue is empty.\n",
    "- **Size**: Returns the number of elements in the queue.\n",
    "\n",
    "\n",
    "Queues are widely used in scenarios like scheduling processes in operating systems, handling requests in web servers, and in breadth-first search algorithms."
   ]
  },
  {
   "cell_type": "code",
   "execution_count": 16,
   "id": "01c6d5ed",
   "metadata": {},
   "outputs": [
    {
     "name": "stdout",
     "output_type": "stream",
     "text": [
      "---- Queue ----\n",
      "Front -> 10 20 30 <- Rear\n",
      "---------------\n"
     ]
    }
   ],
   "source": [
    "class Queue:\n",
    "    def __init__(self):\n",
    "        self.queue = []\n",
    "\n",
    "    def enqueue(self, element):\n",
    "        self.queue.append(element)\n",
    "\n",
    "    def dequeue(self):\n",
    "        if self.isEmpty():\n",
    "            return \"Queue is empty\"\n",
    "        return self.queue.pop(0)\n",
    "\n",
    "    def front(self):\n",
    "        if self.isEmpty():\n",
    "            return \"Queue is empty\"\n",
    "        return self.queue[0]\n",
    "\n",
    "    def isEmpty(self):\n",
    "        if len(self.queue) == 0:\n",
    "            return True\n",
    "        return False\n",
    "\n",
    "    def size(self):\n",
    "        return len(self.queue)\n",
    "\n",
    "    # --- Improved Display Method ---\n",
    "    def display(self):\n",
    "        print(\"---- Queue ----\")\n",
    "        if self.isEmpty():\n",
    "            print(\"Empty\")\n",
    "        else:\n",
    "            # Add labels and use join for a clean output\n",
    "            print(\"Front ->\", \" \".join(map(str, self.queue)), \"<- Rear\")\n",
    "        print(\"---------------\")\n",
    "\n",
    "\n",
    "if __name__ == \"__main__\":\n",
    "    q = Queue()\n",
    "    q.enqueue(10)\n",
    "    q.enqueue(20)\n",
    "    q.enqueue(30)\n",
    "\n",
    "    # The new output is much clearer\n",
    "    q.display()"
   ]
  },
  {
   "cell_type": "code",
   "execution_count": null,
   "id": "5a5ccd33",
   "metadata": {},
   "outputs": [],
   "source": [
    "class ArrayQueue:\n",
    "    def __init__(self, size=1000):\n",
    "        self.capacity = size\n",
    "        self.queue = [None] * size\n",
    "        self.currentSize = 0  \n",
    "\n",
    "    def enqueue(self, x): # Push\n",
    "        if self.currentSize >= self.capacity:\n",
    "            raise Exception(\"Queue is full\")\n",
    "        self.queue[self.currentSize] = x\n",
    "        self.currentSize += 1\n",
    "\n",
    "    def dequeue(self): # Pop\n",
    "        if self.isEmpty():\n",
    "            raise Exception(\"Queue is Empty. Can't dequeue\")\n",
    "\n",
    "        element = self.queue[0]\n",
    "        for i in range(self.currentSize - 1):\n",
    "            self.queue[i] = self.queue[i + 1]\n",
    "\n",
    "        self.currentSize -= 1\n",
    "        return element\n",
    "\n",
    "    def peek(self):\n",
    "        if self.isEmpty():\n",
    "            raise Exception(\"Queue is Empty. Can't peek\")\n",
    "        return self.queue[0]\n",
    "\n",
    "    def isEmpty(self):\n",
    "        if self.currentSize == 0:\n",
    "            return True\n",
    "        return False"
   ]
  }
 ],
 "metadata": {
  "kernelspec": {
   "display_name": "DSA (3.11.13)",
   "language": "python",
   "name": "python3"
  },
  "language_info": {
   "codemirror_mode": {
    "name": "ipython",
    "version": 3
   },
   "file_extension": ".py",
   "mimetype": "text/x-python",
   "name": "python",
   "nbconvert_exporter": "python",
   "pygments_lexer": "ipython3",
   "version": "3.11.13"
  }
 },
 "nbformat": 4,
 "nbformat_minor": 5
}
