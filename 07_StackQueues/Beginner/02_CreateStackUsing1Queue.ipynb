{
 "cells": [
  {
   "cell_type": "code",
   "execution_count": null,
   "id": "d7e825b4",
   "metadata": {},
   "outputs": [
    {
     "ename": "ImportError",
     "evalue": "cannot import name 'q' from 'queue' (/opt/homebrew/Cellar/python@3.11/3.11.13/Frameworks/Python.framework/Versions/3.11/lib/python3.11/queue.py)",
     "output_type": "error",
     "traceback": [
      "\u001b[31m---------------------------------------------------------------------------\u001b[39m",
      "\u001b[31mImportError\u001b[39m                               Traceback (most recent call last)",
      "\u001b[36mCell\u001b[39m\u001b[36m \u001b[39m\u001b[32mIn[1]\u001b[39m\u001b[32m, line 1\u001b[39m\n\u001b[32m----> \u001b[39m\u001b[32m1\u001b[39m \u001b[38;5;28;01mfrom\u001b[39;00m\u001b[38;5;250m \u001b[39m\u001b[34;01mqueue\u001b[39;00m\u001b[38;5;250m \u001b[39m\u001b[38;5;28;01mimport\u001b[39;00m q\n\u001b[32m      2\u001b[39m \u001b[38;5;28mprint\u001b[39m(q)\n",
      "\u001b[31mImportError\u001b[39m: cannot import name 'q' from 'queue' (/opt/homebrew/Cellar/python@3.11/3.11.13/Frameworks/Python.framework/Versions/3.11/lib/python3.11/queue.py)"
     ]
    }
   ],
   "source": [
    "from queue import Queue\n",
    "\n",
    "\n",
    "# Stack implementation using Queue\n",
    "class QueueStack:\n",
    "    def __init__(self):\n",
    "        # Queue\n",
    "        self.q = Queue()\n",
    "\n",
    "    # Method to push element in the stack\n",
    "    def push(self, x):\n",
    "        # Get size\n",
    "        s = self.q.qsize()\n",
    "        # Add element\n",
    "        self.q.put(x)\n",
    "\n",
    "        # Move elements before new element to back\n",
    "        for _ in range(s):\n",
    "            self.q.put(self.q.get())\n",
    "\n",
    "    # Method to pop element from stack\n",
    "    def pop(self):\n",
    "        # Get front element\n",
    "        n = self.q.queue[0]\n",
    "        # Remove front element\n",
    "        self.q.get()\n",
    "        # Return removed element\n",
    "        return n\n",
    "\n",
    "    # Method to return the top of stack\n",
    "    def top(self):\n",
    "        # Return front element\n",
    "        return self.q.queue[0]\n",
    "\n",
    "    # Method to check if the stack is empty\n",
    "    def isEmpty(self):\n",
    "        return self.q.empty()"
   ]
  }
 ],
 "metadata": {
  "kernelspec": {
   "display_name": "DSA (3.11.13)",
   "language": "python",
   "name": "python3"
  },
  "language_info": {
   "codemirror_mode": {
    "name": "ipython",
    "version": 3
   },
   "file_extension": ".py",
   "mimetype": "text/x-python",
   "name": "python",
   "nbconvert_exporter": "python",
   "pygments_lexer": "ipython3",
   "version": "3.11.13"
  }
 },
 "nbformat": 4,
 "nbformat_minor": 5
}
