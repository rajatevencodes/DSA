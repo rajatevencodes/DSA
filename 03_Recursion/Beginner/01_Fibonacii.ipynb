{
 "cells": [
  {
   "cell_type": "code",
   "execution_count": null,
   "id": "955c5ad3",
   "metadata": {},
   "outputs": [
    {
     "ename": "AttributeError",
     "evalue": "'Solution' object has no attribute 'result'",
     "output_type": "error",
     "traceback": [
      "\u001b[31m---------------------------------------------------------------------------\u001b[39m",
      "\u001b[31mAttributeError\u001b[39m                            Traceback (most recent call last)",
      "\u001b[36mCell\u001b[39m\u001b[36m \u001b[39m\u001b[32mIn[1]\u001b[39m\u001b[32m, line 18\u001b[39m\n\u001b[32m     16\u001b[39m nums = \u001b[32m6\u001b[39m\n\u001b[32m     17\u001b[39m sol = Solution()\n\u001b[32m---> \u001b[39m\u001b[32m18\u001b[39m result = \u001b[43msol\u001b[49m\u001b[43m.\u001b[49m\u001b[43mfib\u001b[49m\u001b[43m(\u001b[49m\u001b[43mnums\u001b[49m\u001b[43m)\u001b[49m\n\u001b[32m     19\u001b[39m \u001b[38;5;28mprint\u001b[39m(result)\n",
      "\u001b[36mCell\u001b[39m\u001b[36m \u001b[39m\u001b[32mIn[1]\u001b[39m\u001b[32m, line 7\u001b[39m, in \u001b[36mSolution.fib\u001b[39m\u001b[34m(self, n)\u001b[39m\n\u001b[32m      5\u001b[39m     \u001b[38;5;28;01mreturn\u001b[39;00m n\n\u001b[32m      6\u001b[39m \u001b[38;5;66;03m# Recursive Call\u001b[39;00m\n\u001b[32m----> \u001b[39m\u001b[32m7\u001b[39m fnMinus1 = \u001b[38;5;28;43mself\u001b[39;49m\u001b[43m.\u001b[49m\u001b[43mresult\u001b[49m(n - \u001b[32m1\u001b[39m)\n\u001b[32m      8\u001b[39m fnMinus2 = \u001b[38;5;28mself\u001b[39m.result(n - \u001b[32m2\u001b[39m)\n\u001b[32m      9\u001b[39m \u001b[38;5;66;03m# Kaam\u001b[39;00m\n",
      "\u001b[31mAttributeError\u001b[39m: 'Solution' object has no attribute 'result'"
     ]
    }
   ],
   "source": [
    "class Solution:\n",
    "    def fib(self, n):\n",
    "        return self.result(n)\n",
    "\n",
    "    def result(self, n):\n",
    "        # Base Call\n",
    "        if n == 0 or n == 1:\n",
    "            return n\n",
    "        # Recursive Call\n",
    "        fnMinus1 = self.result(n - 1)\n",
    "        fnMinus2 = self.result(n - 2)\n",
    "        # Kaam\n",
    "        sum = fnMinus1 + fnMinus2\n",
    "        return sum\n",
    "\n",
    "\n",
    "# Example usage\n",
    "if __name__ == \"__main__\":\n",
    "    nums = 6\n",
    "    sol = Solution()\n",
    "    result = sol.fib(nums)\n",
    "    print(result)"
   ]
  }
 ],
 "metadata": {
  "kernelspec": {
   "display_name": "DSA (3.11.13)",
   "language": "python",
   "name": "python3"
  },
  "language_info": {
   "codemirror_mode": {
    "name": "ipython",
    "version": 3
   },
   "file_extension": ".py",
   "mimetype": "text/x-python",
   "name": "python",
   "nbconvert_exporter": "python",
   "pygments_lexer": "ipython3",
   "version": "3.11.13"
  }
 },
 "nbformat": 4,
 "nbformat_minor": 5
}
