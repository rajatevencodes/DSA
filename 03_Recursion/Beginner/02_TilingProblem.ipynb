{
 "cells": [
  {
   "cell_type": "markdown",
   "id": "93062266",
   "metadata": {},
   "source": [
    "\n",
    "[Tiling Problem](https://www.geeksforgeeks.org/dsa/tiling-problem/)\n"
   ]
  },
  {
   "cell_type": "code",
   "execution_count": 1,
   "id": "4f76dde8",
   "metadata": {},
   "outputs": [
    {
     "name": "stdout",
     "output_type": "stream",
     "text": [
      "5\n"
     ]
    }
   ],
   "source": [
    "class Solution:\n",
    "    def fib(self, n):\n",
    "        return self.result(n)\n",
    "\n",
    "    def result(self, n):\n",
    "        if n == 0 or n == 1:\n",
    "            return 1\n",
    "        fnMinus1 = self.result(n - 1)\n",
    "        fnMinus2 = self.result(n - 2)\n",
    "        totalWays = fnMinus1 + fnMinus2\n",
    "        return totalWays\n",
    "\n",
    "\n",
    "# Example usage\n",
    "if __name__ == \"__main__\":\n",
    "    nums = 4\n",
    "    sol = Solution()\n",
    "    result = sol.fib(nums)\n",
    "    print(result)"
   ]
  }
 ],
 "metadata": {
  "kernelspec": {
   "display_name": ".venv",
   "language": "python",
   "name": "python3"
  },
  "language_info": {
   "codemirror_mode": {
    "name": "ipython",
    "version": 3
   },
   "file_extension": ".py",
   "mimetype": "text/x-python",
   "name": "python",
   "nbconvert_exporter": "python",
   "pygments_lexer": "ipython3",
   "version": "3.11.13"
  }
 },
 "nbformat": 4,
 "nbformat_minor": 5
}
