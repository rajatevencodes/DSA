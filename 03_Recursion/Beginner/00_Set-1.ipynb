{
 "cells": [
  {
   "cell_type": "code",
   "execution_count": 1,
   "id": "c108a3f1",
   "metadata": {},
   "outputs": [
    {
     "name": "stdout",
     "output_type": "stream",
     "text": [
      "24\n"
     ]
    }
   ],
   "source": [
    "\"\"\"1. Factorial\"\"\"\n",
    "class Solution:\n",
    "    def factorial(self, n):\n",
    "        return self.result(n)\n",
    "\n",
    "    def result(self, n):\n",
    "        if n == 0:\n",
    "            return 1\n",
    "        fn = self.result(n - 1)\n",
    "        return n * fn\n",
    "\n",
    "\n",
    "# Example usage\n",
    "if __name__ == \"__main__\":\n",
    "    n = int(4)\n",
    "    sol = Solution()\n",
    "    result = sol.factorial(n)\n",
    "    print(result)"
   ]
  },
  {
   "cell_type": "code",
   "execution_count": 2,
   "id": "5f5ca905",
   "metadata": {},
   "outputs": [
    {
     "name": "stdout",
     "output_type": "stream",
     "text": [
      "15\n"
     ]
    }
   ],
   "source": [
    "\"\"\"2. Sum of first N Natural Numbers\"\"\"\n",
    "class Solution:\n",
    "    def N_numberSum(self,n):\n",
    "        return self.result(n)\n",
    "\n",
    "    def result(self,n):\n",
    "        if n == 1:\n",
    "            return 1\n",
    "        fn = self.result(n-1)\n",
    "        return n + fn\n",
    "\n",
    "# Example usage\n",
    "if __name__ == \"__main__\":\n",
    "    n = int(5)\n",
    "    sol = Solution()\n",
    "    result = sol.N_numberSum(n)\n",
    "    print(result)"
   ]
  },
  {
   "cell_type": "code",
   "execution_count": 3,
   "id": "dfde47b1",
   "metadata": {},
   "outputs": [
    {
     "name": "stdout",
     "output_type": "stream",
     "text": [
      "38\n"
     ]
    }
   ],
   "source": [
    "\"\"\"3. Sum of Array Elements\"\"\"\n",
    "\n",
    "class Solution:\n",
    "    def arraySum(self, arr):\n",
    "        return self.result(arr,0)\n",
    "\n",
    "    def result(self, arr,i):\n",
    "        if i == len(arr):\n",
    "            return 0\n",
    "        fn = self.result(arr,i+1)\n",
    "        return arr[i] + fn\n",
    "\n",
    "# Example usage\n",
    "if __name__ == \"__main__\":\n",
    "    arr = [12, 9, 17]\n",
    "    sol = Solution()\n",
    "    result = sol.arraySum(arr)\n",
    "    print(result)"
   ]
  },
  {
   "cell_type": "code",
   "execution_count": 4,
   "id": "b95eecb3",
   "metadata": {},
   "outputs": [
    {
     "name": "stdout",
     "output_type": "stream",
     "text": [
      "['o', 'l', 'l', 'e', 'h']\n"
     ]
    }
   ],
   "source": [
    "\"\"\"4. Reverse String\"\"\"\n",
    "\n",
    "class Solution:\n",
    "    def reverseString(self, s):\n",
    "        newList = []\n",
    "        return self.result(s, 0, newList)\n",
    "\n",
    "    def result(self, s, i, newList):\n",
    "        if i == len(s):\n",
    "            return newList\n",
    "        # Kaam\n",
    "        newList.insert(0, s[i])\n",
    "        return self.result(s, i + 1, newList)\n",
    "\n",
    "\n",
    "# Example usage\n",
    "if __name__ == \"__main__\":\n",
    "    arr = [\"h\", \"e\", \"l\", \"l\", \"o\"]\n",
    "    sol = Solution()\n",
    "    result = sol.reverseString(arr)\n",
    "    print(result)"
   ]
  },
  {
   "cell_type": "code",
   "execution_count": 5,
   "id": "c85cc0ef",
   "metadata": {},
   "outputs": [
    {
     "name": "stdout",
     "output_type": "stream",
     "text": [
      "True\n"
     ]
    }
   ],
   "source": [
    "\"\"\"5. Palindrome\"\"\"\n",
    "class Solution:\n",
    "    def palindromeCheck(self, s):\n",
    "        left = 0\n",
    "        right = len(s) - 1\n",
    "        return self.result(s, left, right)\n",
    "\n",
    "    def result(self, s, left, right):\n",
    "        if left >= right:\n",
    "            return True\n",
    "\n",
    "        if s[left] != s[right]:\n",
    "            return False\n",
    "\n",
    "        return self.result(s, left + 1, right - 1)\n",
    "\n",
    "\n",
    "# Example usage\n",
    "if __name__ == \"__main__\":\n",
    "    arr = [\"h\", \"a\", \"n\", \"n\", \"a\", \"h\"]\n",
    "    sol = Solution()\n",
    "    result = sol.palindromeCheck(arr)\n",
    "    print(result)"
   ]
  },
  {
   "cell_type": "code",
   "execution_count": 6,
   "id": "515655d8",
   "metadata": {},
   "outputs": [
    {
     "name": "stdout",
     "output_type": "stream",
     "text": [
      "True\n"
     ]
    }
   ],
   "source": [
    "\"\"\"6. Check Prime\"\"\"\n",
    "\n",
    "class Solution:\n",
    "    def checkPrime(self, num):\n",
    "        return self.result(num, 2)\n",
    "\n",
    "    def result(self, num, i):\n",
    "        if num // 2 < i:\n",
    "            return True\n",
    "        if num % i == 0:\n",
    "            return False\n",
    "        return self.result(num, i + 1)\n",
    "\n",
    "\n",
    "# Example usage\n",
    "if __name__ == \"__main__\":\n",
    "    n = 101\n",
    "    sol = Solution()\n",
    "    result = sol.checkPrime(n)\n",
    "    print(result)"
   ]
  },
  {
   "cell_type": "code",
   "execution_count": 7,
   "id": "371a1607",
   "metadata": {},
   "outputs": [
    {
     "name": "stdout",
     "output_type": "stream",
     "text": [
      "[5, 4, 3, 2, 1]\n"
     ]
    }
   ],
   "source": [
    "\"\"\"7. Reverse Array\"\"\"\n",
    "class Solution:\n",
    "    def reverseArray(self, nums):\n",
    "        left = 0\n",
    "        right = len(nums) - 1\n",
    "        return self.result(nums, left, right)\n",
    "\n",
    "    def result(self, nums, left, right):\n",
    "        if left > right:\n",
    "            return nums\n",
    "        temp = nums[left]\n",
    "        nums[left] = nums[right]\n",
    "        nums[right] = temp\n",
    "        return self.result(nums, left + 1, right - 1)\n",
    "\n",
    "\n",
    "# Example usage\n",
    "if __name__ == \"__main__\":\n",
    "    nums = [1, 2, 3, 4, 5]\n",
    "    sol = Solution()\n",
    "    result = sol.reverseArray(nums)\n",
    "    print(result)"
   ]
  },
  {
   "cell_type": "code",
   "execution_count": 8,
   "id": "7deb3303",
   "metadata": {},
   "outputs": [
    {
     "name": "stdout",
     "output_type": "stream",
     "text": [
      "False\n"
     ]
    }
   ],
   "source": [
    "\"\"\"8. Check Is Array Sorted\"\"\"\n",
    "\n",
    "class Solution:\n",
    "    def isSorted(self, nums):\n",
    "        return self.result(nums, 0)\n",
    "\n",
    "    def result(self, nums, i):\n",
    "        if i == len(nums) - 1:\n",
    "            return True\n",
    "        if nums[i] > nums[i + 1]:\n",
    "            return False\n",
    "        return self.result(nums, i + 1)\n",
    "\n",
    "\n",
    "# Example usage\n",
    "if __name__ == \"__main__\":\n",
    "    nums = [1, 9, 6, 8, 5, 4, 0]\n",
    "    sol = Solution()\n",
    "    result = sol.isSorted(nums)\n",
    "    print(result)"
   ]
  },
  {
   "cell_type": "code",
   "execution_count": 9,
   "id": "feb27c3d",
   "metadata": {},
   "outputs": [
    {
     "name": "stdout",
     "output_type": "stream",
     "text": [
      "8\n"
     ]
    }
   ],
   "source": [
    "\"\"\"9. Sum Of Digits\"\"\"\n",
    "class Solution:\n",
    "    def addDigits(self, num):\n",
    "        return self.result(num)\n",
    "\n",
    "    def result(self, num):\n",
    "        if num < 10:\n",
    "            return num\n",
    "        sumOfDigits = self.sumOfDigits(num)\n",
    "        return self.result(sumOfDigits)\n",
    "\n",
    "    def sumOfDigits(self, num):\n",
    "        if num == 0:\n",
    "            return 0\n",
    "\n",
    "        total = 0\n",
    "        while num > 0:\n",
    "            total += num % 10\n",
    "            num = num // 10\n",
    "        return total\n",
    "\n",
    "\n",
    "# Example usage\n",
    "if __name__ == \"__main__\":\n",
    "    nums = 2123\n",
    "    sol = Solution()\n",
    "    result = sol.addDigits(nums)\n",
    "    print(result)"
   ]
  }
 ],
 "metadata": {
  "kernelspec": {
   "display_name": "DSA (3.11.13)",
   "language": "python",
   "name": "python3"
  },
  "language_info": {
   "codemirror_mode": {
    "name": "ipython",
    "version": 3
   },
   "file_extension": ".py",
   "mimetype": "text/x-python",
   "name": "python",
   "nbconvert_exporter": "python",
   "pygments_lexer": "ipython3",
   "version": "3.11.13"
  }
 },
 "nbformat": 4,
 "nbformat_minor": 5
}
