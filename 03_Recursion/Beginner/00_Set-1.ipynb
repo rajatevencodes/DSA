{
 "cells": [
  {
   "cell_type": "code",
   "execution_count": null,
   "id": "c108a3f1",
   "metadata": {},
   "outputs": [
    {
     "name": "stdout",
     "output_type": "stream",
     "text": [
      "24\n"
     ]
    }
   ],
   "source": [
    "\"\"\"1. Factorial\"\"\"\n",
    "\n",
    "class Solution:\n",
    "    def factorial(self, n):\n",
    "        ans = 1\n",
    "        return self.result(ans, n)\n",
    "\n",
    "    def result(self, ans, n):\n",
    "        # Base Call\n",
    "        if n == 0:\n",
    "            return ans\n",
    "        # Kaam\n",
    "        ans *= n\n",
    "        # Recursive call\n",
    "        return self.result(ans, n - 1)\n",
    "\n",
    "\n",
    "# Example usage\n",
    "if __name__ == \"__main__\":\n",
    "    n = int(4)\n",
    "    sol = Solution()\n",
    "    result = sol.factorial(n)\n",
    "    print(result)"
   ]
  },
  {
   "cell_type": "code",
   "execution_count": 3,
   "id": "5f5ca905",
   "metadata": {},
   "outputs": [
    {
     "name": "stdout",
     "output_type": "stream",
     "text": [
      "15\n"
     ]
    }
   ],
   "source": [
    "\"\"\"2. Sum of first N Natural Numbers\"\"\"\n",
    "class Solution:\n",
    "    def N_numberSum(self,n):\n",
    "        sum = 0\n",
    "        return self.result(n,sum)\n",
    "\n",
    "    def result(self,n,sum):\n",
    "        # Base call\n",
    "        if n == 0:\n",
    "            return sum\n",
    "        # Kaam\n",
    "        sum += n\n",
    "        # Recursive call\n",
    "        return self.result(n - 1, sum)\n",
    "\n",
    "# Example usage\n",
    "if __name__ == \"__main__\":\n",
    "    n = int(5)\n",
    "    sol = Solution()\n",
    "    result = sol.N_numberSum(n)\n",
    "    print(result)"
   ]
  },
  {
   "cell_type": "code",
   "execution_count": null,
   "id": "dfde47b1",
   "metadata": {},
   "outputs": [
    {
     "name": "stdout",
     "output_type": "stream",
     "text": [
      "38\n"
     ]
    }
   ],
   "source": [
    "\"\"\"3. Sum of Array Elements\"\"\"\n",
    "\n",
    "class Solution:\n",
    "    def arraySum(self, nums):\n",
    "        sum = 0\n",
    "        i = 0\n",
    "        return self.result(nums, sum, i)\n",
    "\n",
    "    def result(self, arr, sum, i):\n",
    "        # Base call\n",
    "        if i == len(arr):\n",
    "            return sum\n",
    "        # Kaam\n",
    "        sum += arr[i]\n",
    "        # Recursive call\n",
    "        return self.result(arr, sum, i + 1)\n",
    "\n",
    "\n",
    "# Example usage\n",
    "if __name__ == \"__main__\":\n",
    "    arr = [12, 9, 17]\n",
    "    sol = Solution()\n",
    "    result = sol.arraySum(arr)\n",
    "    print(result)"
   ]
  },
  {
   "cell_type": "code",
   "execution_count": 8,
   "id": "b95eecb3",
   "metadata": {},
   "outputs": [
    {
     "name": "stdout",
     "output_type": "stream",
     "text": [
      "['o', 'l', 'l', 'e', 'h']\n"
     ]
    }
   ],
   "source": [
    "\"\"\"4. Reverse String\"\"\"\n",
    "\n",
    "class Solution:\n",
    "    def reverseString(self, s):\n",
    "        ans = []\n",
    "        i = 0\n",
    "        return self.result(s, ans, i)\n",
    "\n",
    "    def result(self, arr, ans, i):\n",
    "        # Base Call\n",
    "        if i == len(arr):\n",
    "            return ans\n",
    "        # Recurssive Call\n",
    "        self.result(arr, ans, i + 1)\n",
    "        # Kaam\n",
    "        ans.append(arr[i])\n",
    "        return ans\n",
    "\n",
    "\n",
    "# Example usage\n",
    "if __name__ == \"__main__\":\n",
    "    arr = [\"h\", \"e\", \"l\", \"l\", \"o\"]\n",
    "    sol = Solution()\n",
    "    result = sol.reverseString(arr)\n",
    "    print(result)"
   ]
  },
  {
   "cell_type": "code",
   "execution_count": 9,
   "id": "c85cc0ef",
   "metadata": {},
   "outputs": [
    {
     "name": "stdout",
     "output_type": "stream",
     "text": [
      "True\n"
     ]
    }
   ],
   "source": [
    "\"\"\"5. Palindrome\"\"\"\n",
    "class Solution:\n",
    "    def palindromeCheck(self, s):\n",
    "        left = 0\n",
    "        right = len(s) - 1\n",
    "        return self.result(s, left, right)\n",
    "\n",
    "    def result(self, arr, left, right):\n",
    "        # Base call\n",
    "        if left > right:\n",
    "            return True\n",
    "        # Kaam\n",
    "        if arr[left] != arr[right]:\n",
    "            return False\n",
    "        # Recursive Call\n",
    "        return self.result(arr, left + 1, right - 1)\n",
    "\n",
    "\n",
    "# Example usage\n",
    "if __name__ == \"__main__\":\n",
    "    arr = [\"h\", \"a\", \"n\", \"n\", \"a\", \"h\"]\n",
    "    sol = Solution()\n",
    "    result = sol.palindromeCheck(arr)\n",
    "    print(result)"
   ]
  },
  {
   "cell_type": "code",
   "execution_count": 12,
   "id": "515655d8",
   "metadata": {},
   "outputs": [
    {
     "name": "stdout",
     "output_type": "stream",
     "text": [
      "True\n"
     ]
    }
   ],
   "source": [
    "\"\"\"6. Check Prime\"\"\"\n",
    "\n",
    "\n",
    "class Solution:\n",
    "    def checkPrime(self, num):\n",
    "        i = 2\n",
    "        return self.result(num, i)\n",
    "\n",
    "    def result(self, n, i):\n",
    "        # Edge Case\n",
    "        if n == 1:\n",
    "            return False\n",
    "        # Base Call\n",
    "        if i > n / 2:\n",
    "            return True\n",
    "        # Kaam\n",
    "        if n % i == 0:\n",
    "            return False\n",
    "        # Recursive Call\n",
    "        return self.result(n, i + 1)\n",
    "\n",
    "\n",
    "# Example usage\n",
    "if __name__ == \"__main__\":\n",
    "    n = 2\n",
    "    sol = Solution()\n",
    "    result = sol.checkPrime(n)\n",
    "    print(result)"
   ]
  },
  {
   "cell_type": "code",
   "execution_count": 13,
   "id": "371a1607",
   "metadata": {},
   "outputs": [
    {
     "name": "stdout",
     "output_type": "stream",
     "text": [
      "[5, 4, 3, 2, 1]\n"
     ]
    }
   ],
   "source": [
    "\"\"\"7. Reverse Array\"\"\"\n",
    "class Solution:\n",
    "    def reverseArray(self, nums):\n",
    "        left = 0\n",
    "        right = len(nums) - 1\n",
    "        return self.result(nums, left, right)\n",
    "\n",
    "    def result(self, arr, left, right):\n",
    "        # Base Call\n",
    "        if left > right:\n",
    "            return arr\n",
    "        # Kaam\n",
    "        self.swap(arr, left, right)\n",
    "        # Recursive Call\n",
    "        return self.result(arr, left + 1, right - 1)\n",
    "\n",
    "    def swap(self, arr, i, j):\n",
    "        temp = arr[i]\n",
    "        arr[i] = arr[j]\n",
    "        arr[j] = temp\n",
    "\n",
    "\n",
    "# Example usage\n",
    "if __name__ == \"__main__\":\n",
    "    nums = [1, 2, 3, 4, 5]\n",
    "    sol = Solution()\n",
    "    result = sol.reverseArray(nums)\n",
    "    print(result)"
   ]
  },
  {
   "cell_type": "code",
   "execution_count": null,
   "id": "7deb3303",
   "metadata": {},
   "outputs": [
    {
     "name": "stdout",
     "output_type": "stream",
     "text": [
      "False\n"
     ]
    }
   ],
   "source": [
    "\"\"\"8. Check Is Array Sorted\"\"\"\n",
    "\n",
    "\n",
    "class Solution:\n",
    "    def isSorted(self, nums):\n",
    "        i = 0\n",
    "        return self.result(nums, i)\n",
    "\n",
    "    def result(self, arr, i):\n",
    "        # Base Call\n",
    "        if i == len(arr) - 1:\n",
    "            return True\n",
    "        # Kaam\n",
    "        if arr[i] > arr[i + 1]:\n",
    "            return False\n",
    "        # Recursive Call\n",
    "        return self.result(arr, i + 1)\n",
    "\n",
    "\n",
    "# Example usage\n",
    "if __name__ == \"__main__\":\n",
    "    nums = [1, 9, 6, 8, 5, 4, 0]\n",
    "    sol = Solution()\n",
    "    result = sol.isSorted(nums)\n",
    "    print(result)"
   ]
  },
  {
   "cell_type": "code",
   "execution_count": 9,
   "id": "feb27c3d",
   "metadata": {},
   "outputs": [
    {
     "name": "stdout",
     "output_type": "stream",
     "text": [
      "8\n"
     ]
    }
   ],
   "source": [
    "\"\"\"9. Sum Of Digits\"\"\"\n",
    "class Solution:\n",
    "    def addDigits(self, num):\n",
    "        return self.result(num)\n",
    "\n",
    "    def result(self, num):\n",
    "        if num < 10:\n",
    "            return num\n",
    "        sumOfDigits = self.sumOfDigits(num)\n",
    "        return self.result(sumOfDigits)\n",
    "\n",
    "    def sumOfDigits(self, num):\n",
    "        if num == 0:\n",
    "            return 0\n",
    "\n",
    "        total = 0\n",
    "        while num > 0:\n",
    "            total += num % 10\n",
    "            num = num // 10\n",
    "        return total\n",
    "\n",
    "\n",
    "# Example usage\n",
    "if __name__ == \"__main__\":\n",
    "    nums = 2123\n",
    "    sol = Solution()\n",
    "    result = sol.addDigits(nums)\n",
    "    print(result)"
   ]
  }
 ],
 "metadata": {
  "kernelspec": {
   "display_name": "DSA (3.11.13)",
   "language": "python",
   "name": "python3"
  },
  "language_info": {
   "codemirror_mode": {
    "name": "ipython",
    "version": 3
   },
   "file_extension": ".py",
   "mimetype": "text/x-python",
   "name": "python",
   "nbconvert_exporter": "python",
   "pygments_lexer": "ipython3",
   "version": "3.11.13"
  }
 },
 "nbformat": 4,
 "nbformat_minor": 5
}
