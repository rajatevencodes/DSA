{
 "cells": [
  {
   "cell_type": "markdown",
   "id": "3103f1fd",
   "metadata": {},
   "source": [
    "_consist of 2 questions_"
   ]
  }
 ],
 "metadata": {
  "language_info": {
   "name": "python"
  }
 },
 "nbformat": 4,
 "nbformat_minor": 5
}
