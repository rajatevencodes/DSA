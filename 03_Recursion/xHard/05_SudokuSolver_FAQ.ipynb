{
 "cells": [
  {
   "cell_type": "code",
   "execution_count": 1,
   "id": "c6d00556",
   "metadata": {},
   "outputs": [
    {
     "name": "stdout",
     "output_type": "stream",
     "text": [
      "5 3 4 6 7 8 9 1 2\n",
      "6 7 2 1 9 5 3 4 8\n",
      "1 9 8 3 4 2 5 6 7\n",
      "8 5 9 7 6 1 4 2 3\n",
      "4 2 6 8 5 3 7 9 1\n",
      "7 1 3 9 2 4 8 5 6\n",
      "9 6 1 5 3 7 2 8 4\n",
      "2 8 7 4 1 9 6 3 5\n",
      "3 4 5 2 8 6 1 7 9\n"
     ]
    }
   ],
   "source": [
    "class Solution:\n",
    "    def solveSudoku(self, board):\n",
    "        self.solve(board)\n",
    "\n",
    "    # Recursive method to solve the Sudoku\n",
    "    def solve(self, board):\n",
    "        # Size of the board\n",
    "        n = 9\n",
    "        for i in range(n):\n",
    "            for j in range(n):\n",
    "                # Empty cell found\n",
    "                if board[i][j] == \".\":\n",
    "                    for digit in \"123456789\":\n",
    "                        # Check if digit can be placed\n",
    "                        if self.isSafe(board, i, j, digit):\n",
    "                            # Place digit\n",
    "                            board[i][j] = digit\n",
    "                            # Recur to place next digits\n",
    "                            if self.solve(board):\n",
    "                                return True\n",
    "                            else:\n",
    "                                # Reset if placing digit doesn't solve Sudoku\n",
    "                                board[i][j] = \".\"\n",
    "                    # If no digit can be placed, return False\n",
    "                    return False\n",
    "        # Sudoku solved\n",
    "        return True\n",
    "\n",
    "    # Method to check if placing a digit follows Sudoku rules\n",
    "    def isSafe(self, board, row, col, digit):\n",
    "        # Row and column check\n",
    "        for i in range(9):\n",
    "            if board[row][i] == digit or board[i][col] == digit:\n",
    "                # Digit already in row or column\n",
    "                return False\n",
    "            \n",
    "        # 3x3 sub-box check \n",
    "        start_row, start_col = 3 * (row // 3), 3 * (col // 3)\n",
    "        for i in range(start_row, start_row + 3):\n",
    "            for j in range(start_col, start_col + 3):\n",
    "                if board[i][j] == digit:\n",
    "                    # Digit already in 3x3 sub-box\n",
    "                    return False\n",
    "        # Digit can be placed\n",
    "        return True\n",
    "\n",
    "\n",
    "if __name__ == \"__main__\":\n",
    "    solution = Solution()\n",
    "    board = [\n",
    "        [\"5\", \"3\", \".\", \".\", \"7\", \".\", \".\", \".\", \".\"],\n",
    "        [\"6\", \".\", \".\", \"1\", \"9\", \"5\", \".\", \".\", \".\"],\n",
    "        [\".\", \"9\", \"8\", \".\", \".\", \".\", \".\", \"6\", \".\"],\n",
    "        [\"8\", \".\", \".\", \".\", \"6\", \".\", \".\", \".\", \"3\"],\n",
    "        [\"4\", \".\", \".\", \"8\", \".\", \"3\", \".\", \".\", \"1\"],\n",
    "        [\"7\", \".\", \".\", \".\", \"2\", \".\", \".\", \".\", \"6\"],\n",
    "        [\".\", \"6\", \".\", \".\", \".\", \".\", \"2\", \"8\", \".\"],\n",
    "        [\".\", \".\", \".\", \"4\", \"1\", \"9\", \".\", \".\", \"5\"],\n",
    "        [\".\", \".\", \".\", \".\", \"8\", \".\", \".\", \"7\", \"9\"],\n",
    "    ]\n",
    "    solution.solveSudoku(board)\n",
    "    for row in board:\n",
    "        print(\" \".join(row))"
   ]
  }
 ],
 "metadata": {
  "kernelspec": {
   "display_name": "DSA (3.11.13)",
   "language": "python",
   "name": "python3"
  },
  "language_info": {
   "codemirror_mode": {
    "name": "ipython",
    "version": 3
   },
   "file_extension": ".py",
   "mimetype": "text/x-python",
   "name": "python",
   "nbconvert_exporter": "python",
   "pygments_lexer": "ipython3",
   "version": "3.11.13"
  }
 },
 "nbformat": 4,
 "nbformat_minor": 5
}
