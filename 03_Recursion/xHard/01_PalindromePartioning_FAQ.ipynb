{
 "cells": [
  {
   "cell_type": "code",
   "execution_count": null,
   "id": "78ab7b41",
   "metadata": {},
   "outputs": [
    {
     "name": "stdout",
     "output_type": "stream",
     "text": [
      "['n', 'i', 't', 'i', 'n']\n",
      "['n', 'iti', 'n']\n",
      "['nitin']\n"
     ]
    }
   ],
   "source": [
    "class Solution:\n",
    "    def is_palindrome(self, string, left, right):\n",
    "        while left <= right:\n",
    "            if string[left] != string[right]:\n",
    "                return False\n",
    "            left += 1\n",
    "            right -= 1\n",
    "        return True\n",
    "\n",
    "    def partition(self, string: str):\n",
    "        ans = []\n",
    "\n",
    "        def dfs(start_index, current_partition):\n",
    "            # If we've reached the end of the string, save the partition\n",
    "            if start_index == len(string):\n",
    "                ans.append(current_partition[:]) # ':' Makes a shallow copy of the list\n",
    "                return\n",
    "\n",
    "            # Try all possible cuts\n",
    "            for cut_index in range(start_index, len(string)):\n",
    "                # If substring is a palindrome\n",
    "                if self.is_palindrome(string, start_index, cut_index):\n",
    "                    # Add substring to current partition\n",
    "                    current_partition.append(string[start_index : cut_index + 1])\n",
    "                    # Recurse for remaining substring\n",
    "                    dfs(cut_index + 1, current_partition)\n",
    "                    # Backtrack\n",
    "                    current_partition.pop()\n",
    "\n",
    "        dfs(0, [])\n",
    "        return ans\n",
    "\n",
    "\n",
    "# Main method for testing\n",
    "if __name__ == \"__main__\":\n",
    "    solution = Solution()\n",
    "    input_string = \"nitin\"\n",
    "    partitions = solution.partition(input_string)\n",
    "    for part in partitions:\n",
    "        print(part)"
   ]
  }
 ],
 "metadata": {
  "kernelspec": {
   "display_name": "DSA (3.11.13)",
   "language": "python",
   "name": "python3"
  },
  "language_info": {
   "codemirror_mode": {
    "name": "ipython",
    "version": 3
   },
   "file_extension": ".py",
   "mimetype": "text/x-python",
   "name": "python",
   "nbconvert_exporter": "python",
   "pygments_lexer": "ipython3",
   "version": "3.11.13"
  }
 },
 "nbformat": 4,
 "nbformat_minor": 5
}
