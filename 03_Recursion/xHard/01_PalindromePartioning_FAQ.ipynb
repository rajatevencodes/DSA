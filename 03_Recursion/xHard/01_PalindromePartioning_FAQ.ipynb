{
 "cells": [
  {
   "cell_type": "code",
   "execution_count": 37,
   "id": "78ab7b41",
   "metadata": {},
   "outputs": [
    {
     "name": "stdout",
     "output_type": "stream",
     "text": [
      "['n', 'i', 't', 'i', 'n']\n",
      "['n', 'iti', 'n']\n",
      "['nitin']\n"
     ]
    }
   ],
   "source": [
    "class Solution:\n",
    "    def __init__(self):\n",
    "        self.ans = []  # store all partitions\n",
    "\n",
    "    def is_palindrome(self, string: str) -> bool:\n",
    "        left = 0\n",
    "        right = len(string) - 1\n",
    "        while left <= right:\n",
    "            if string[left] != string[right]:\n",
    "                return False\n",
    "            left += 1\n",
    "            right -= 1\n",
    "        return True\n",
    "\n",
    "                \n",
    "    def partitioning(self, remaining_str, current_partition):\n",
    "        # Base case: no characters left\n",
    "        if len(remaining_str) == 0:\n",
    "            self.ans.append(list(current_partition))  # store a valid partition\n",
    "            return\n",
    "\n",
    "        # Try every possible prefix cut\n",
    "        for cut in range(1, len(remaining_str) + 1):\n",
    "            prefix = remaining_str[:cut]\n",
    "            if self.is_palindrome(prefix):\n",
    "                current_partition.append(prefix)                # choose\n",
    "                self.partitioning(remaining_str[cut:], current_partition)  # explore\n",
    "                current_partition.pop()  # Backtrack to try next prefix\n",
    "\n",
    "\n",
    "    def partition(self, string: str):\n",
    "        self.ans = []  # reset for each call\n",
    "        self.partitioning(string, [])\n",
    "        return self.ans\n",
    "\n",
    "\n",
    "if __name__ == \"__main__\":\n",
    "    solution = Solution()\n",
    "    input_string = \"nitin\"\n",
    "    partitions = solution.partition(input_string)\n",
    "    for part in partitions:\n",
    "        print(part)"
   ]
  }
 ],
 "metadata": {
  "kernelspec": {
   "display_name": "DSA (3.11.13)",
   "language": "python",
   "name": "python3"
  },
  "language_info": {
   "codemirror_mode": {
    "name": "ipython",
    "version": 3
   },
   "file_extension": ".py",
   "mimetype": "text/x-python",
   "name": "python",
   "nbconvert_exporter": "python",
   "pygments_lexer": "ipython3",
   "version": "3.11.13"
  }
 },
 "nbformat": 4,
 "nbformat_minor": 5
}
