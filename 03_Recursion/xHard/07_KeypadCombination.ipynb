{
 "cells": [
  {
   "cell_type": "markdown",
   "id": "b8f0f175",
   "metadata": {},
   "source": [
    "TODO : Make sure to DRY RUN THIS CODE"
   ]
  },
  {
   "cell_type": "code",
   "execution_count": null,
   "id": "1d584b8b",
   "metadata": {},
   "outputs": [
    {
     "name": "stdout",
     "output_type": "stream",
     "text": [
      "['dg', 'dh', 'di', 'eg', 'eh', 'ei', 'fg', 'fh', 'fi']\n"
     ]
    }
   ],
   "source": [
    "class Solution:\n",
    "    def __init__(self):\n",
    "        # 0 , 1 , 2, 3 ... 9\n",
    "        # As in question Explicitally mention starts from 2 to 9 inclusive\n",
    "        self.map = [\"\", \"\", \"abc\", \"def\", \"ghi\", \"jkl\", \"mno\", \"pqrs\", \"tuv\", \"wxyz\"]\n",
    "\n",
    "    \"\"\"\n",
    "    digits -> string of digits we input - like \"23\"\n",
    "    ans -> Stores all combination\n",
    "    index -> keeps track of which digit we are processing\n",
    "    current -> stores the current string being built\n",
    "    \"\"\"\n",
    "    def helper(self, digits, ans, index, current):\n",
    "        if index == len(digits):\n",
    "            ans.append(current)\n",
    "            return\n",
    "        # Get characters corresponding to the current digit\n",
    "        s = self.map[int(digits[index])] # digits = 23 ; digits[0] = \"2\" => int(2) = 2 => self.map(2) = \"abc\"\n",
    "        # Loop through all the characters - \"d\", \"e\", \"f\"\n",
    "        for char in s:\n",
    "            # Recursively call function with next index\n",
    "            # Add current character to the string\n",
    "            self.helper(digits, ans, index + 1, current + char)\n",
    "\n",
    "    # Function to get all letter combinations for a given digit string\n",
    "    def letterCombinations(self, digits):\n",
    "        ans = [] \n",
    "        if not digits:\n",
    "            return ans\n",
    "        self.helper(digits, ans, 0, \"\")\n",
    "        return ans \n",
    "\n",
    "\n",
    "if __name__ == \"__main__\":\n",
    "    solution = Solution()\n",
    "    digits = \"34\" \n",
    "    result = solution.letterCombinations(digits) \n",
    "    print(result)"
   ]
  }
 ],
 "metadata": {
  "kernelspec": {
   "display_name": ".venv",
   "language": "python",
   "name": "python3"
  },
  "language_info": {
   "codemirror_mode": {
    "name": "ipython",
    "version": 3
   },
   "file_extension": ".py",
   "mimetype": "text/x-python",
   "name": "python",
   "nbconvert_exporter": "python",
   "pygments_lexer": "ipython3",
   "version": "3.11.13"
  }
 },
 "nbformat": 4,
 "nbformat_minor": 5
}
