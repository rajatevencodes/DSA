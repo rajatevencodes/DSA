{
 "cells": [
  {
   "cell_type": "code",
   "execution_count": 4,
   "id": "51ae45f7",
   "metadata": {},
   "outputs": [
    {
     "name": "stdout",
     "output_type": "stream",
     "text": [
      "True\n"
     ]
    }
   ],
   "source": [
    "class Solution:\n",
    "    # Helper function to check if the word exists starting from cell (i, j)\n",
    "    def search(self, board, currentRow, currentCol, word, index):\n",
    "        # If all characters of the word are found\n",
    "        if index == len(word):\n",
    "            return True\n",
    "        # Boundary conditions and character mismatch check\n",
    "        if (\n",
    "            currentRow < 0\n",
    "            or currentCol < 0\n",
    "            or currentRow >= len(board)\n",
    "            or currentCol >= len(board[0])\n",
    "            or word[index] != board[currentRow][currentCol]\n",
    "        ):\n",
    "            return False\n",
    "\n",
    "        # Temporarily mark the cell as visited\n",
    "        temp = board[currentRow][currentCol]\n",
    "        board[currentRow][currentCol] = \" \"\n",
    "\n",
    "        # Check all four possible directions (down, up, right, left)\n",
    "        ans = (\n",
    "            self.search(board, currentRow + 1, currentCol, word, index + 1)\n",
    "            or self.search(board, currentRow - 1, currentCol, word, index + 1)\n",
    "            or self.search(board, currentRow, currentCol + 1, word, index + 1)\n",
    "            or self.search(board, currentRow, currentCol - 1, word, index + 1)\n",
    "        )\n",
    "\n",
    "        # Restore the original character in the cell\n",
    "        board[currentRow][currentCol] = temp\n",
    "\n",
    "        return ans\n",
    "\n",
    "    def exist(self, board, word):\n",
    "        # Iterate through each cell in the board to find the first character of the word\n",
    "        for row in range(len(board)):\n",
    "            for col in range(len(board[0])):\n",
    "                # If the first character matches, start the search\n",
    "                if board[row][col] == word[0]:\n",
    "                    # If the word is found, return true\n",
    "                    if self.search(board, row, col, word, 0):\n",
    "                        return True\n",
    "        # If the word is not found, return False\n",
    "        return False\n",
    "\n",
    "\n",
    "if __name__ == \"__main__\":\n",
    "    solution = Solution()\n",
    "    board = [[\"d\", \"r\", \"a\"], [\"r\", \"a\", \"j\"]]\n",
    "    word = \"raj\"\n",
    "    print(solution.exist(board, word))"
   ]
  }
 ],
 "metadata": {
  "kernelspec": {
   "display_name": "DSA (3.11.13)",
   "language": "python",
   "name": "python3"
  },
  "language_info": {
   "codemirror_mode": {
    "name": "ipython",
    "version": 3
   },
   "file_extension": ".py",
   "mimetype": "text/x-python",
   "name": "python",
   "nbconvert_exporter": "python",
   "pygments_lexer": "ipython3",
   "version": "3.11.13"
  }
 },
 "nbformat": 4,
 "nbformat_minor": 5
}
