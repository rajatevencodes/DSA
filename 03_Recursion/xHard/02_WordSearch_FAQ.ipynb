{
 "cells": [
  {
   "cell_type": "code",
   "execution_count": null,
   "id": "51ae45f7",
   "metadata": {},
   "outputs": [],
   "source": [
    "class Solution:\n",
    "    def exist(self, board, word):\n",
    "        return self.search(board, word)\n",
    "\n",
    "    def search(self, board, word):\n",
    "        rows = len(board)\n",
    "        cols = len(board[0])\n",
    "        first_char = word[0]\n",
    "\n",
    "        print(self.getFirstCharLocation(board, first_char))\n",
    "\n",
    "    def getFirstCharLocation(self, board, first_char):\n",
    "        locations = []\n",
    "        for r in range(len(board)):\n",
    "            for c in range(len(board[0])):\n",
    "                if board[r][c] == first_char:\n",
    "                    locations.append((r, c))\n",
    "        return locations\n",
    "\n",
    "\n",
    "if __name__ == \"__main__\":\n",
    "    solution = Solution()\n",
    "    board = [[\"d\", \"r\", \"a\"], [\"r\", \"a\", \"j\"]]\n",
    "    word = \"raj\"\n",
    "    print(solution.exist(board, word))"
   ]
  }
 ],
 "metadata": {
  "language_info": {
   "name": "python"
  }
 },
 "nbformat": 4,
 "nbformat_minor": 5
}
