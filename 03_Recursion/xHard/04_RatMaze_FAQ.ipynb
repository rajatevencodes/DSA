{
 "cells": [
  {
   "cell_type": "code",
   "execution_count": 28,
   "id": "f2b59380",
   "metadata": {},
   "outputs": [
    {
     "name": "stdout",
     "output_type": "stream",
     "text": [
      "Paths found: ['DDRDRR', 'DRDDRR']\n"
     ]
    }
   ],
   "source": [
    "class Solution:\n",
    "    def findPath(self, maze):\n",
    "        allPaths = []\n",
    "        self.result(maze, allPaths, 0, 0, \"\")\n",
    "        return allPaths\n",
    "\n",
    "    def result(self, maze, allPaths, currentRow, currentCol, moves):\n",
    "        totalRows = len(maze)\n",
    "        totalCols = len(maze[0])\n",
    "\n",
    "        # Base case: reached destination\n",
    "        if (currentRow == totalRows - 1 and currentCol == totalCols - 1 and maze[currentRow][currentCol] == 1):\n",
    "            allPaths.append(moves)\n",
    "            return\n",
    "\n",
    "        # Out of bounds or blocked\n",
    "        if (currentRow < 0 or currentCol < 0 or currentRow >= totalRows or currentCol >= totalCols or maze[currentRow][currentCol] == 0):\n",
    "            return\n",
    "\n",
    "        # Mark as visited\n",
    "        maze[currentRow][currentCol] = 0\n",
    "\n",
    "        # Explore all 4 directions\n",
    "        self.result(maze, allPaths, currentRow + 1, currentCol, moves + \"D\")  # Down\n",
    "        self.result(maze, allPaths, currentRow, currentCol + 1, moves + \"R\")  # Right\n",
    "        self.result(maze, allPaths, currentRow - 1, currentCol, moves + \"U\")  # Up\n",
    "        self.result(maze, allPaths, currentRow, currentCol - 1, moves + \"L\")  # Left\n",
    "\n",
    "        # Backtrack\n",
    "        maze[currentRow][currentCol] = 1\n",
    "\n",
    "\n",
    "if __name__ == \"__main__\":\n",
    "    maze = [\n",
    "        [1, 0, 0, 0],\n",
    "        [1, 1, 0, 1],\n",
    "        [1, 1, 0, 0],\n",
    "        [0, 1, 1, 1],\n",
    "    ]\n",
    "    solution = Solution()\n",
    "    result = solution.findPath(maze)\n",
    "    if result:\n",
    "        print(\"Paths found:\", result)\n",
    "    else:\n",
    "        print(\"No path exists\")"
   ]
  }
 ],
 "metadata": {
  "kernelspec": {
   "display_name": "DSA (3.11.13)",
   "language": "python",
   "name": "python3"
  },
  "language_info": {
   "codemirror_mode": {
    "name": "ipython",
    "version": 3
   },
   "file_extension": ".py",
   "mimetype": "text/x-python",
   "name": "python",
   "nbconvert_exporter": "python",
   "pygments_lexer": "ipython3",
   "version": "3.11.13"
  }
 },
 "nbformat": 4,
 "nbformat_minor": 5
}
