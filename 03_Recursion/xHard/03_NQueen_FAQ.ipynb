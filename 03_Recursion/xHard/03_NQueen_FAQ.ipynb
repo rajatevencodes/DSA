{
 "cells": [
  {
   "cell_type": "code",
   "execution_count": 23,
   "id": "f65f9fdc",
   "metadata": {},
   "outputs": [
    {
     "name": "stdout",
     "output_type": "stream",
     "text": [
      ". Q . . \n",
      ". . . Q \n",
      "Q . . . \n",
      ". . Q . \n",
      "\n",
      ". . Q . \n",
      "Q . . . \n",
      ". . . Q \n",
      ". Q . . \n",
      "\n"
     ]
    }
   ],
   "source": [
    "class NQueen:\n",
    "    def __init__(self, n):\n",
    "        self.n = n\n",
    "        self.board = [[False for _ in range(n)] for _ in range(n)]\n",
    "\n",
    "    def isSafe(self, row, col):\n",
    "        # check same column upwards\n",
    "        r = row\n",
    "        while r >= 0:\n",
    "            if self.board[r][col]:\n",
    "                return False\n",
    "            r -= 1\n",
    "\n",
    "        # check left-up diagonal\n",
    "        r, c = row, col\n",
    "        while r >= 0 and c >= 0:\n",
    "            if self.board[r][c]:\n",
    "                return False\n",
    "            r -= 1\n",
    "            c -= 1\n",
    "\n",
    "        # check right-up diagonal\n",
    "        r, c = row, col\n",
    "        while r >= 0 and c < self.n:\n",
    "            if self.board[r][c]:\n",
    "                return False\n",
    "            r -= 1\n",
    "            c += 1\n",
    "\n",
    "        return True\n",
    "\n",
    "    def place_queen(self, row=0):\n",
    "        if row == self.n:\n",
    "            self.display(self.board)\n",
    "            return\n",
    "        for col in range(self.n):\n",
    "            if self.isSafe(row, col):\n",
    "                self.board[row][col] = True\n",
    "                self.place_queen(row + 1)\n",
    "                self.board[row][col] = False  # backtrack\n",
    "\n",
    "    def display(self, board):\n",
    "        for row in range(self.n):\n",
    "            for col in range(self.n):\n",
    "                print(\"Q\" if board[row][col] else \".\", end=\" \")\n",
    "            print()\n",
    "        print()\n",
    "\n",
    "\n",
    "if __name__ == \"__main__\":\n",
    "    solver = NQueen(4)\n",
    "    solver.place_queen()\n"
   ]
  }
 ],
 "metadata": {
  "kernelspec": {
   "display_name": "DSA (3.11.13)",
   "language": "python",
   "name": "python3"
  },
  "language_info": {
   "codemirror_mode": {
    "name": "ipython",
    "version": 3
   },
   "file_extension": ".py",
   "mimetype": "text/x-python",
   "name": "python",
   "nbconvert_exporter": "python",
   "pygments_lexer": "ipython3",
   "version": "3.11.13"
  }
 },
 "nbformat": 4,
 "nbformat_minor": 5
}
