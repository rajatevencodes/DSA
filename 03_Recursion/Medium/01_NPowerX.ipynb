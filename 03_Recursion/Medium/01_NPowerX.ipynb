{
 "cells": [
  {
   "cell_type": "code",
   "execution_count": null,
   "id": "3eb2a077",
   "metadata": {},
   "outputs": [
    {
     "name": "stdout",
     "output_type": "stream",
     "text": [
      "1024\n",
      "0.25\n",
      "0.037037037037037035\n",
      "1\n"
     ]
    }
   ],
   "source": [
    "\"\"\"\n",
    "    Brute Force\n",
    "    Time Complexity: O(n)\n",
    "    Space Complexity: O(n)\n",
    "\"\"\"\n",
    "class Solution:\n",
    "    def myPow(self, x, n):\n",
    "        # x = number\n",
    "        # n = power\n",
    "        # Handling negative power\n",
    "        if n < 0:\n",
    "            x = 1 / x\n",
    "            n = -(n)\n",
    "        return self.result(x, n, 1)\n",
    "\n",
    "    def result(self, base, exp, ans):\n",
    "        # Base call\n",
    "        if exp == 0:\n",
    "            return ans\n",
    "        # Kaam\n",
    "        ans = ans * base\n",
    "        # Recursive Call\n",
    "        return self.result(base, exp - 1, ans)\n",
    "\n",
    "\n",
    "if __name__ == \"__main__\":\n",
    "    sol = Solution()\n",
    "    print(sol.myPow(2, 10))\n",
    "    print(sol.myPow(2, -2))\n",
    "    print(sol.myPow(3, -3))\n",
    "    print(sol.myPow(5, 0))"
   ]
  },
  {
   "cell_type": "code",
   "execution_count": null,
   "id": "f1509293",
   "metadata": {},
   "outputs": [],
   "source": [
    "\"\"\"\n",
    "    Optimized Approach\n",
    "    Time Complexity: O(log n)\n",
    "    Space Complexity: O(log n)\n",
    "\"\"\"\n",
    "class Solution:\n",
    "    def myPow(self, x, n):\n",
    "        # Handle negative exponent\n",
    "        if n < 0:\n",
    "            x = 1 / x\n",
    "            n = -n\n",
    "        return self.result(x, n)\n",
    "\n",
    "    def result(self, base, exp):\n",
    "        # Base case\n",
    "        if exp == 0:\n",
    "            return 1\n",
    "        # Recursive call\n",
    "        half = self.result(base, exp // 2)\n",
    "        # Case 1 : if exp is even\n",
    "        if exp % 2 == 0:\n",
    "            return half * half\n",
    "        # Case 2 : if exp is odd:\n",
    "        return half * half * base\n",
    "\n",
    "if __name__ == \"__main__\":\n",
    "    sol = Solution()\n",
    "    print(sol.myPow(2, 10))\n",
    "    print(sol.myPow(2, -2))\n",
    "    print(sol.myPow(3, -3))\n",
    "    print(sol.myPow(5, 0))"
   ]
  }
 ],
 "metadata": {
  "kernelspec": {
   "display_name": "DSA (3.11.13)",
   "language": "python",
   "name": "python3"
  },
  "language_info": {
   "codemirror_mode": {
    "name": "ipython",
    "version": 3
   },
   "file_extension": ".py",
   "mimetype": "text/x-python",
   "name": "python",
   "nbconvert_exporter": "python",
   "pygments_lexer": "ipython3",
   "version": "3.11.13"
  }
 },
 "nbformat": 4,
 "nbformat_minor": 5
}
