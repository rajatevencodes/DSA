{
 "cells": [
  {
   "cell_type": "code",
   "execution_count": null,
   "id": "3e39340d",
   "metadata": {},
   "outputs": [
    {
     "name": "stdout",
     "output_type": "stream",
     "text": [
      "[[1, 1, 1], [1, 2], [3]]\n"
     ]
    }
   ],
   "source": [
    "\"\"\"1. Combination Sum\"\"\"\n",
    "class Solution:\n",
    "    def CombinationSum(self, nums, target):\n",
    "        self.FinalAns = []\n",
    "        # Start the recursive function\n",
    "        self.result(nums, target, 0, [])\n",
    "        return self.FinalAns\n",
    "\n",
    "    def result(self, nums, target, index, current_ans):\n",
    "        # Base case 1: if target becomes 0, add the current sequence to the final answer\n",
    "        if target == 0:\n",
    "            self.FinalAns.append(list(current_ans))\n",
    "            return\n",
    "\n",
    "        # Base case 2: if target becomes negative or index is out of bounds\n",
    "        if target < 0 or index >= len(nums):\n",
    "            return\n",
    "\n",
    "        # Recursive case 1: Include the current number\n",
    "        current_ans.append(nums[index])\n",
    "        self.result(nums, target - nums[index], index, current_ans)\n",
    "\n",
    "        current_ans.pop()  # Backtrack\n",
    "\n",
    "        # Recursive case 2: Exclude the current number\n",
    "        self.result(nums, target, index + 1, current_ans)\n",
    "\n",
    "\n",
    "# Example usage\n",
    "if __name__ == \"__main__\":\n",
    "    nums = [1, 3, 2]\n",
    "    target = 3\n",
    "    sol = Solution()\n",
    "    result = sol.CombinationSum(nums, target)\n",
    "    print(result)"
   ]
  },
  {
   "cell_type": "code",
   "execution_count": 1,
   "id": "5dfbc8c8",
   "metadata": {},
   "outputs": [
    {
     "name": "stdout",
     "output_type": "stream",
     "text": [
      "[[1, 1, 6], [1, 2, 5], [1, 7], [2, 6]]\n"
     ]
    }
   ],
   "source": [
    "\"\"\"2. Combination Sum\"\"\"\n",
    "class Solution:    \n",
    "    def CombinationSum2(self, nums, target):\n",
    "        self.FinalAns = []\n",
    "        nums.sort()  # Sort to handle duplicates and simplify logic\n",
    "        self.result(nums, target, 0, [])\n",
    "        return self.FinalAns\n",
    "\n",
    "    def result(self, nums, target, index, current_ans):\n",
    "        # Base case 1: If target becomes 0, add the current combination to the result\n",
    "        if target == 0:\n",
    "            self.FinalAns.append(list(current_ans))\n",
    "            return\n",
    "        \n",
    "        # Base case 2: If target is negative or no more candidates\n",
    "        if target < 0 or index >= len(nums):\n",
    "            return\n",
    "        \n",
    "        # Iterate through candidates starting from index\n",
    "        for i in range(index, len(nums)):\n",
    "            # Skip duplicate numbers at the same recursive level\n",
    "            if i > index and nums[i] == nums[i - 1]:\n",
    "                continue\n",
    "\n",
    "            # Include nums[i] in the combination and recurse with reduced target\n",
    "            current_ans.append(nums[i])\n",
    "            self.result(nums, target - nums[i], i + 1, current_ans)  # i + 1 to avoid reusing elements\n",
    "            \n",
    "            # Backtrack by removing the last element\n",
    "            current_ans.pop()\n",
    "\n",
    "# Example usage\n",
    "if __name__ == \"__main__\":\n",
    "    nums = [10, 1, 2, 7, 6, 1, 5]\n",
    "    target = 8\n",
    "    sol = Solution()\n",
    "    result = sol.CombinationSum2(nums, target)\n",
    "    print(result)\n"
   ]
  },
  {
   "cell_type": "code",
   "execution_count": null,
   "id": "217589a0",
   "metadata": {},
   "outputs": [],
   "source": [
    "\"\"\"3. Combination Sum\"\"\"\n",
    "class Solution:\n",
    "    def func(self, sum, last, nums, k, ans):\n",
    "        # If the sum is zero and the number of elements is k\n",
    "        if sum == 0 and len(nums) == k:\n",
    "            # Add the current combination to the answer\n",
    "            ans.append(list(nums))\n",
    "            return\n",
    "        # If the sum is less than or equal to zero or the number of elements exceeds k\n",
    "        if sum <= 0 or len(nums) > k:\n",
    "            return\n",
    "\n",
    "        # Iterate from the last number to 9\n",
    "        for i in range(last, 10):\n",
    "            # If the current number is less than or equal to the sum\n",
    "            if i <= sum:\n",
    "                # Add the number to the current combination\n",
    "                nums.append(i)\n",
    "                # Recursive call with updated sum and next number\n",
    "                self.func(sum - i, i + 1, nums, k, ans)\n",
    "                # Remove the last number to backtrack\n",
    "                nums.pop()\n",
    "            else:\n",
    "                # If the number is greater than the sum, break the loop\n",
    "                break\n",
    "\n",
    "    def combinationSum3(self, k, n):\n",
    "        ans = []\n",
    "        nums = []\n",
    "        # Call the recursive function with initial parameters\n",
    "        self.func(n, 1, nums, k, ans)\n",
    "        return ans\n",
    "\n",
    "\n",
    "# Example usage\n",
    "sol = Solution()\n",
    "k = 3  # Number of elements in the combination\n",
    "n = 7  # Target sum\n",
    "result = sol.combinationSum3(k, n)\n",
    "\n",
    "# Print the result\n",
    "for combination in result:\n",
    "    print(combination)"
   ]
  }
 ],
 "metadata": {
  "kernelspec": {
   "display_name": "DSA (3.11.13)",
   "language": "python",
   "name": "python3"
  },
  "language_info": {
   "codemirror_mode": {
    "name": "ipython",
    "version": 3
   },
   "file_extension": ".py",
   "mimetype": "text/x-python",
   "name": "python",
   "nbconvert_exporter": "python",
   "pygments_lexer": "ipython3",
   "version": "3.11.13"
  }
 },
 "nbformat": 4,
 "nbformat_minor": 5
}
