{
 "cells": [
  {
   "cell_type": "markdown",
   "id": "e68cf494",
   "metadata": {},
   "source": [
    "_**Note : Same logic as Subsets , PowerSets**_"
   ]
  },
  {
   "cell_type": "code",
   "execution_count": 1,
   "id": "fe5d4f69",
   "metadata": {},
   "outputs": [
    {
     "name": "stdout",
     "output_type": "stream",
     "text": [
      "['abc', 'ab_', 'a_c', 'a__', '_bc', '_b_', '__c', '___']\n"
     ]
    }
   ],
   "source": [
    "\"\"\"1. Print all the subsequences\"\"\"\n",
    "\n",
    "class Solution:\n",
    "    def powerSet(self, nums):\n",
    "        self.ans_list = []  # Store the subsets\n",
    "        self.result(nums, 0, \"\")\n",
    "        return self.ans_list\n",
    "    \n",
    "    def result(self, nums, i, ans):\n",
    "        if i == len(nums):\n",
    "            # print(ans)\n",
    "            self.ans_list.append(ans)  # Collect the subset\n",
    "            return\n",
    "        \n",
    "        currentChar = nums[i]\n",
    "        \n",
    "        # Include - Choose \n",
    "        self.result(nums, i + 1, ans + currentChar)\n",
    "        \n",
    "        # Exclude - Not Choose\n",
    "        self.result(nums, i + 1, ans + \"_\")\n",
    "        \n",
    "\n",
    "# Example usage\n",
    "if __name__ == \"__main__\":\n",
    "    nums = \"abc\"\n",
    "    sol = Solution()\n",
    "    result = sol.powerSet(nums)\n",
    "    print(result)"
   ]
  },
  {
   "cell_type": "code",
   "execution_count": 2,
   "id": "cdb7aa44",
   "metadata": {},
   "outputs": [
    {
     "name": "stdout",
     "output_type": "stream",
     "text": [
      "Count: 1\n",
      "Subsequences: ['1_2']\n"
     ]
    }
   ],
   "source": [
    "\"\"\"2. Check if a subsequence with sum K exists and also count how many such subsequences exist.\"\"\"\n",
    "class Solution:\n",
    "    def checkSubsequenceSum(self, nums, k):\n",
    "        self.finalArray = []\n",
    "        count = self.result(nums, k, 0, 0, \"\")\n",
    "        return count, self.finalArray\n",
    "\n",
    "    def result(self, nums, k, i, current_sum, ans):\n",
    "        if i == len(nums):\n",
    "            if current_sum == k:\n",
    "                self.finalArray.append(ans)\n",
    "                return 1\n",
    "            return 0\n",
    "        include = self.result(nums, k, i + 1, current_sum + nums[i], ans + str(nums[i]))\n",
    "        exclude = self.result(nums, k, i + 1, current_sum, ans + \"_\")\n",
    "        return include + exclude\n",
    "\n",
    "\n",
    "if __name__ == \"__main__\":\n",
    "    nums = [1, 4,2]\n",
    "    k = 3\n",
    "    sol = Solution()\n",
    "    count, finalArray = sol.checkSubsequenceSum(nums, k)\n",
    "    print(\"Count:\", count)\n",
    "    print(\"Subsequences:\", finalArray)"
   ]
  }
 ],
 "metadata": {
  "kernelspec": {
   "display_name": ".venv",
   "language": "python",
   "name": "python3"
  },
  "language_info": {
   "codemirror_mode": {
    "name": "ipython",
    "version": 3
   },
   "file_extension": ".py",
   "mimetype": "text/x-python",
   "name": "python",
   "nbconvert_exporter": "python",
   "pygments_lexer": "ipython3",
   "version": "3.11.13"
  }
 },
 "nbformat": 4,
 "nbformat_minor": 5
}
