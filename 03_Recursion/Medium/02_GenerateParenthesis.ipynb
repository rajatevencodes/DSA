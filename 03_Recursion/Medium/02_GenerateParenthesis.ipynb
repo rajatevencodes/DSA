{
 "cells": [
  {
   "cell_type": "code",
   "execution_count": null,
   "id": "5512e030",
   "metadata": {},
   "outputs": [
    {
     "name": "stdout",
     "output_type": "stream",
     "text": [
      "['(())', '()()']\n"
     ]
    }
   ],
   "source": [
    "class Solution:\n",
    "    def generateParenthesis(self, n):\n",
    "        ans = []\n",
    "        self.result(n, ans, 0, 0, \"\")\n",
    "        return ans\n",
    "\n",
    "    def result(self, n, ans, OpenP, CloseP, s):\n",
    "        # Base Case: Valid combination completed\n",
    "        if (OpenP == n) and (CloseP == n):\n",
    "            ans.append(s)\n",
    "            return\n",
    "\n",
    "        # Add an open parenthesis if possible\n",
    "        if OpenP < n:\n",
    "            self.result(n, ans, OpenP + 1, CloseP, s + \"(\")\n",
    "\n",
    "        # Add a close parenthesis if valid\n",
    "        if CloseP < OpenP:\n",
    "            self.result(n, ans, OpenP, CloseP + 1, s + \")\")\n",
    "\n",
    "\n",
    "# Example usage\n",
    "if __name__ == \"__main__\":\n",
    "    n = 2\n",
    "    sol = Solution()\n",
    "    result = sol.generateParenthesis(n)\n",
    "    print(result)"
   ]
  }
 ],
 "metadata": {
  "kernelspec": {
   "display_name": "DSA (3.11.13)",
   "language": "python",
   "name": "python3"
  },
  "language_info": {
   "codemirror_mode": {
    "name": "ipython",
    "version": 3
   },
   "file_extension": ".py",
   "mimetype": "text/x-python",
   "name": "python",
   "nbconvert_exporter": "python",
   "pygments_lexer": "ipython3",
   "version": "3.11.13"
  }
 },
 "nbformat": 4,
 "nbformat_minor": 5
}
