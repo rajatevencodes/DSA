{
 "cells": [
  {
   "cell_type": "markdown",
   "id": "e68cf494",
   "metadata": {},
   "source": [
    "_**Note : Same logic as Subsets , PowerSet**_"
   ]
  },
  {
   "cell_type": "code",
   "execution_count": null,
   "id": "fe5d4f69",
   "metadata": {},
   "outputs": [
    {
     "name": "stdout",
     "output_type": "stream",
     "text": [
      "['abc', 'ab_', 'a_c', 'a__', '_bc', '_b_', '__c', '___']\n"
     ]
    }
   ],
   "source": [
    "\"\"\"1. Print all the subsequences of string\"\"\"\n",
    "\n",
    "class Solution:\n",
    "    def powerSet(self, nums):\n",
    "        ans_list = []  # Store the subsequences\n",
    "        self.result(nums, 0, \"\", ans_list)\n",
    "        return ans_list\n",
    "\n",
    "    def result(self, nums, i, ans, ans_list):\n",
    "        if i == len(nums):\n",
    "            ans_list.append(ans)  # Collect the subsequence\n",
    "            return ans_list\n",
    "        \n",
    "        currentChar = nums[i]\n",
    "\n",
    "        # Include - Choose\n",
    "        self.result(nums, i + 1, ans + currentChar, ans_list)\n",
    "        \n",
    "        # Exclude - Not Choose\n",
    "        self.result(nums, i + 1, ans + \"_\", ans_list)\n",
    "\n",
    "# Example usage\n",
    "if __name__ == \"__main__\":\n",
    "    nums = \"abc\"\n",
    "    sol = Solution()\n",
    "    result = sol.powerSet(nums)\n",
    "    print(result)"
   ]
  },
  {
   "cell_type": "code",
   "execution_count": null,
   "id": "653d68ec",
   "metadata": {},
   "outputs": [
    {
     "name": "stdout",
     "output_type": "stream",
     "text": [
      "[[1, 2], [1], [2], []]\n",
      "[[0], []]\n"
     ]
    }
   ],
   "source": [
    "# TODO : MAKE SURE TO MAKE NOTES HOW IT WORKS\n",
    "class Solution:\n",
    "    def powerSet(self, nums):\n",
    "        ans_list = []\n",
    "        self.result(nums, 0, [], ans_list)  # build ans_list via recursion\n",
    "        return ans_list\n",
    "\n",
    "    def result(self, nums, i, cur, ans_list):\n",
    "        if i == len(nums):\n",
    "            ans_list.append(cur.copy())  # collect a copy of the current subset\n",
    "            return\n",
    "        # Include\n",
    "        cur.append(nums[i])\n",
    "        self.result(nums, i + 1, cur, ans_list)\n",
    "        cur.pop()\n",
    "        # Exclude\n",
    "        self.result(nums, i + 1, cur, ans_list)\n",
    "\n",
    "\n",
    "# Example usage\n",
    "if __name__ == \"__main__\":\n",
    "    sol = Solution()\n",
    "    print(sol.powerSet([1, 2]))  # [[], [1], [2], [1, 2]]\n",
    "    print(sol.powerSet([0]))  # [[], [0]]"
   ]
  },
  {
   "cell_type": "code",
   "execution_count": null,
   "id": "cdb7aa44",
   "metadata": {},
   "outputs": [
    {
     "name": "stdout",
     "output_type": "stream",
     "text": [
      "Count: 1\n",
      "Subsequences: ['1_2']\n"
     ]
    }
   ],
   "source": [
    "\"\"\"3. Check if a subsequence with sum K exists &\n",
    "      Count how many such subsequences exist.\"\"\"\n",
    "class Solution:\n",
    "    def checkSubsequenceSum(self, nums, k):\n",
    "        self.finalArray = []\n",
    "        count = self.result(nums, k, 0, 0, \"\")\n",
    "        return count, self.finalArray\n",
    "\n",
    "    def result(self, nums, k, i, current_sum, ans):\n",
    "        if i == len(nums):\n",
    "            if current_sum == k:\n",
    "                self.finalArray.append(ans)\n",
    "                return 1\n",
    "            return 0\n",
    "        include = self.result(nums, k, i + 1, current_sum + nums[i], ans + str(nums[i]))\n",
    "        exclude = self.result(nums, k, i + 1, current_sum, ans + \"_\")\n",
    "        return include + exclude\n",
    "\n",
    "\n",
    "if __name__ == \"__main__\":\n",
    "    nums = [1, 4,2]\n",
    "    k = 3\n",
    "    sol = Solution()\n",
    "    count, finalArray = sol.checkSubsequenceSum(nums, k)\n",
    "    print(\"Count:\", count)\n",
    "    print(\"Subsequences:\", finalArray)"
   ]
  },
  {
   "cell_type": "code",
   "execution_count": 8,
   "id": "d4006096",
   "metadata": {},
   "outputs": [
    {
     "name": "stdout",
     "output_type": "stream",
     "text": [
      "[0, 2, 3, 5]\n"
     ]
    }
   ],
   "source": [
    "\"\"\"4. Return array of sum of all subsequence of the array\"\"\"\n",
    "class Solution:\n",
    "    def subsequenceSums(self, nums):\n",
    "        self.ans = []\n",
    "        self.result(nums, 0, 0)\n",
    "        self.ans = sorted(self.ans)  # Sort the result for consistency\n",
    "        return self.ans\n",
    "\n",
    "    def result(self, nums, i, current_sum):\n",
    "        if i == len(nums):\n",
    "            self.ans.append(current_sum)\n",
    "            return\n",
    "        # Include\n",
    "        self.result(nums, i + 1, current_sum + nums[i])\n",
    "        # Exclude\n",
    "        self.result(nums, i + 1, current_sum)\n",
    "\n",
    "# Example usage\n",
    "if __name__ == \"__main__\":\n",
    "    nums = [2, 3]\n",
    "    sol = Solution()\n",
    "    result = sol.subsequenceSums(nums)\n",
    "    print(result)"
   ]
  },
  {
   "cell_type": "code",
   "execution_count": null,
   "id": "37134746",
   "metadata": {},
   "outputs": [
    {
     "name": "stdout",
     "output_type": "stream",
     "text": [
      "[[1, 2, 3], [1, 2], [1, 3], [1], [2, 3], [2], [3], []]\n",
      "[[1, 2], [1], [2], []]\n",
      "[[0], []]\n"
     ]
    }
   ],
   "source": [
    "\"\"\"5. Given an integer array nums, which can have duplicate entries, provide the power set.\n",
    "Duplicate subsets cannot exist in the solution set. Return the answer in any sequence.\n",
    "\"\"\"\n",
    "class Solution:\n",
    "    def subsetsWithDup(self, nums):\n",
    "        ans_list = []\n",
    "        nums.sort()  # Step 1: Sort the array\n",
    "        self.find_subsets(nums, 0, [], ans_list)\n",
    "        return ans_list\n",
    "\n",
    "    def find_subsets(self, nums, index, cur, ans_list):\n",
    "        # Add the current subset path to the answer list\n",
    "        ans_list.append(cur.copy())\n",
    "\n",
    "        # Explore further options by adding more elements\n",
    "        for i in range(index, len(nums)):\n",
    "            # Step 2: The \"skip\" logic\n",
    "            # If the current element is the same as the previous one,\n",
    "            # and we are not at the start of this loop, skip it.\n",
    "            if i > index and nums[i] == nums[i - 1]:\n",
    "                continue\n",
    "\n",
    "            # Include the element\n",
    "            cur.append(nums[i])\n",
    "            self.find_subsets(nums, i + 1, cur, ans_list)\n",
    "\n",
    "            # Backtrack (Exclude the element)\n",
    "            cur.pop()\n",
    "\n",
    "\n",
    "# Example usage\n",
    "if __name__ == \"__main__\":\n",
    "    sol = Solution()\n",
    "    print(sol.powerSet([1, 2, 3]))  # [[], [1], [2], [1, 2], [3], [1, 3], [2, 3], [1, 2, 3]]\n",
    "    print(sol.powerSet([1, 2]))     # [[], [1], [2], [1, 2]]\n",
    "    print(sol.powerSet([0]))        # [[], [0]]"
   ]
  }
 ],
 "metadata": {
  "kernelspec": {
   "display_name": "DSA (3.11.13)",
   "language": "python",
   "name": "python3"
  },
  "language_info": {
   "codemirror_mode": {
    "name": "ipython",
    "version": 3
   },
   "file_extension": ".py",
   "mimetype": "text/x-python",
   "name": "python",
   "nbconvert_exporter": "python",
   "pygments_lexer": "ipython3",
   "version": "3.11.13"
  }
 },
 "nbformat": 4,
 "nbformat_minor": 5
}
