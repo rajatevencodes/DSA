{
 "cells": [
  {
   "cell_type": "markdown",
   "id": "68256d30",
   "metadata": {},
   "source": [
    "There are 4 ways to represent a graph:\n",
    "\n",
    "1. **Adjacency List**: A list of lists, where each index represents a node and contains a list of its adjacent nodes.\n",
    "2. **Adjacency Matrix**: A 2D matrix where each cell (i, j) indicates the presence or absence of an edge between nodes i and j.\n",
    "3. **Edge List**: A list of all edges in the graph, where each edge is represented as a pair of nodes.\n",
    "4. **2D Matrix (Implicit Graph)**: Used to represent grids or matrices as graphs, where each cell can be considered a node."
   ]
  },
  {
   "cell_type": "code",
   "execution_count": null,
   "id": "2433ad57",
   "metadata": {},
   "outputs": [
    {
     "name": "stdout",
     "output_type": "stream",
     "text": [
      "Adjacency list: [[1, 2], [0, 2, 3], [0, 1, 4], [1, 4], [2, 3]]\n"
     ]
    }
   ],
   "source": [
    "\"\"\"Create a Graph with Adjancy List\"\"\"\n",
    "class Edge:\n",
    "    def __init__(self, source, destination, weight):\n",
    "        self.source = source\n",
    "        self.destination = destination\n",
    "        self.weight = weight\n",
    "\n",
    "edges = [\n",
    "    Edge(0, 1, 5),\n",
    "    Edge(1, 0, 5),\n",
    "    Edge(1, 2, 1),\n",
    "    Edge(1, 3, 3),\n",
    "    Edge(2, 1, 1),\n",
    "    Edge(2, 3, 1),\n",
    "    Edge(2, 4, 2),\n",
    "    Edge(3, 1, 3),\n",
    "    Edge(3, 2, 1),\n",
    "    Edge(4, 2, 2),\n",
    "]\n",
    "\n",
    "nodes = 5\n",
    "adj = [[] for _ in range(nodes)]\n",
    "\n",
    "for e in edges:\n",
    "    # append (neighbor, weight)\n",
    "    adj[e.source].append((e.destination, e.weight))\n",
    "\n",
    "# print adjacency list\n",
    "print(\"Weighted adjacency list:\")\n",
    "for i, nbrs in enumerate(adj):\n",
    "    print(f\"{i} -> {nbrs}\")"
   ]
  }
 ],
 "metadata": {
  "kernelspec": {
   "display_name": "DSA (3.11.13)",
   "language": "python",
   "name": "python3"
  },
  "language_info": {
   "codemirror_mode": {
    "name": "ipython",
    "version": 3
   },
   "file_extension": ".py",
   "mimetype": "text/x-python",
   "name": "python",
   "nbconvert_exporter": "python",
   "pygments_lexer": "ipython3",
   "version": "3.11.13"
  }
 },
 "nbformat": 4,
 "nbformat_minor": 5
}
