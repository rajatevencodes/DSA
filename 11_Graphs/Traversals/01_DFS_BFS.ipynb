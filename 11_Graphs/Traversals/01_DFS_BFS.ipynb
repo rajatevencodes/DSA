{
 "cells": [
  {
   "cell_type": "code",
   "execution_count": null,
   "id": "8870d1bb",
   "metadata": {},
   "outputs": [],
   "source": [
    "class Edge:\n",
    "    def __init__(self,source,destination):\n",
    "        self.source = source\n",
    "        self.destination = destination\n",
    "        \n",
    "        "
   ]
  }
 ],
 "metadata": {
  "language_info": {
   "name": "python"
  }
 },
 "nbformat": 4,
 "nbformat_minor": 5
}
