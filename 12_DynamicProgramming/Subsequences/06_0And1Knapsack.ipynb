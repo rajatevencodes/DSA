{
 "cells": [
  {
   "cell_type": "code",
   "execution_count": null,
   "id": "84d3b027",
   "metadata": {},
   "outputs": [
    {
     "name": "stdout",
     "output_type": "stream",
     "text": [
      "greedy (wrong): 4\n"
     ]
    }
   ],
   "source": [
    "\"\"\"❌ GREEDY Wrong approach\"\"\"\n",
    "class Solution:\n",
    "    def greedy_wrong(self, values, weights, W):\n",
    "        # Greedy by value — wrong for 0/1 knapsack (keeps whole items only).\n",
    "        items = list(zip(values, weights))\n",
    "        items.sort(key=lambda x: x[0], reverse=True)\n",
    "        total = 0\n",
    "        for v, w in items:\n",
    "            if W - w >= 0:\n",
    "                W -= w\n",
    "                total += v\n",
    "        return total\n",
    "\n",
    "\n",
    "if __name__ == \"__main__\":\n",
    "    sol = Solution()\n",
    "    values = [4, 3, 3]\n",
    "    weights = [3, 2, 2]\n",
    "    W = 4\n",
    "\n",
    "    print(\"greedy (wrong):\", sol.greedy_wrong(values, weights, W))  # prints 4\n",
    "    # Solution is should pick the last 2 items = 6"
   ]
  },
  {
   "cell_type": "code",
   "execution_count": null,
   "id": "106b19f4",
   "metadata": {},
   "outputs": [
    {
     "name": "stdout",
     "output_type": "stream",
     "text": [
      "6\n"
     ]
    }
   ],
   "source": [
    "\"\"\"Recurssion\"\"\"\n",
    "class Solution:\n",
    "    def knapsack01(self, wt, val, W):\n",
    "        index = 0\n",
    "        n = len(val)\n",
    "        return self.result(wt, val, n, W, index)\n",
    "\n",
    "    def result(self, wt, val, n, W, index):\n",
    "        # Base Call\n",
    "        if index == n:\n",
    "            return 0\n",
    "        # Recurssive Call\n",
    "        include = 0\n",
    "        if wt[index] <= W:\n",
    "            include = val[index] + self.result(wt, val, n, W - wt[index], index + 1)\n",
    "        exclude = self.result(wt, val, n, W, index + 1)\n",
    "        # Kaam\n",
    "        return max(include, exclude)\n",
    "\n",
    "if __name__ == \"__main__\":\n",
    "    sol = Solution()\n",
    "    values = [4, 3, 3]\n",
    "    weights = [3, 2, 2]\n",
    "    W = 4\n",
    "\n",
    "    print(sol.knapsack01(weights,values,W))  # prints 6"
   ]
  },
  {
   "cell_type": "code",
   "execution_count": 18,
   "id": "98c43afe",
   "metadata": {},
   "outputs": [
    {
     "name": "stdout",
     "output_type": "stream",
     "text": [
      "6\n"
     ]
    }
   ],
   "source": [
    "class Solution:\n",
    "    def knapsack01(self, wt, val, W):\n",
    "        index = 0\n",
    "        n = len(val)\n",
    "        dp = [[None] * (W + 1) for _ in range(n)]  # <- changed to 2D memo\n",
    "        return self.result(wt, val, n, W, index, dp)\n",
    "\n",
    "    def result(self, wt, val, n, W, index, dp):\n",
    "        # Base Call\n",
    "        if index == n:\n",
    "            return 0\n",
    "\n",
    "        if dp[index][W] != None:  # <- use (index, W)\n",
    "            return dp[index][W]\n",
    "        # Recurssive Call\n",
    "        include = 0\n",
    "        if wt[index] <= W:\n",
    "            include = val[index] + self.result(wt, val, n, W - wt[index], index + 1, dp)\n",
    "        exclude = self.result(wt, val, n, W, index + 1, dp)\n",
    "        # Kaam\n",
    "        dp[index][W] = max(include, exclude)  # <- store at (index, W)\n",
    "        return dp[index][W]\n",
    "\n",
    "if __name__ == \"__main__\":\n",
    "    sol = Solution()\n",
    "    values = [4, 3, 3]\n",
    "    weights = [3, 2, 2]\n",
    "    W = 4\n",
    "\n",
    "    print(sol.knapsack01(weights, values, W))  # prints 6"
   ]
  }
 ],
 "metadata": {
  "kernelspec": {
   "display_name": "DSA (3.11.13)",
   "language": "python",
   "name": "python3"
  },
  "language_info": {
   "codemirror_mode": {
    "name": "ipython",
    "version": 3
   },
   "file_extension": ".py",
   "mimetype": "text/x-python",
   "name": "python",
   "nbconvert_exporter": "python",
   "pygments_lexer": "ipython3",
   "version": "3.11.13"
  }
 },
 "nbformat": 4,
 "nbformat_minor": 5
}
