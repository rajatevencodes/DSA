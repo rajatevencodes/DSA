{
 "cells": [
  {
   "cell_type": "code",
   "execution_count": 1,
   "id": "46255d79",
   "metadata": {},
   "outputs": [
    {
     "name": "stdout",
     "output_type": "stream",
     "text": [
      "The total number of ways is 2\n"
     ]
    }
   ],
   "source": [
    "\"\"\"Recurssion\"\"\"\n",
    "class Solution:\n",
    "    def targetSum(self, n, target, nums):\n",
    "        return self.result(nums, n, target, 0, 0)\n",
    "\n",
    "    def result(self, nums, n, target, index, currentSum):\n",
    "        # Base: all items processed — check sum\n",
    "        if index == n:\n",
    "            if currentSum == target:\n",
    "                return 1\n",
    "            else:\n",
    "                return 0\n",
    "\n",
    "        # two choices: add or subtract current number\n",
    "        add = self.result(nums, n, target, index + 1, currentSum + nums[index])\n",
    "        sub = self.result(nums, n, target, index + 1, currentSum - nums[index])\n",
    "\n",
    "        return add + sub\n",
    "\n",
    "if __name__ == \"__main__\":\n",
    "    sol = Solution()\n",
    "    nums = [1, 2, 3, 1]\n",
    "    target = 3\n",
    "    n = len(nums)\n",
    "\n",
    "    # Print the result\n",
    "    print(\"The total number of ways is\", sol.targetSum(n, target, nums))"
   ]
  }
 ],
 "metadata": {
  "kernelspec": {
   "display_name": "DSA (3.11.13)",
   "language": "python",
   "name": "python3"
  },
  "language_info": {
   "codemirror_mode": {
    "name": "ipython",
    "version": 3
   },
   "file_extension": ".py",
   "mimetype": "text/x-python",
   "name": "python",
   "nbconvert_exporter": "python",
   "pygments_lexer": "ipython3",
   "version": "3.11.13"
  }
 },
 "nbformat": 4,
 "nbformat_minor": 5
}
