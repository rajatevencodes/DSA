{
 "cells": [
  {
   "cell_type": "code",
   "execution_count": null,
   "id": "8c65d963",
   "metadata": {},
   "outputs": [],
   "source": [
    "class Solution:\n",
    "    def nonAdjacent(self, nums):\n",
    "        index = len(nums) - 1\n",
    "        return self.result(nums, index)\n",
    "\n",
    "    def result(self, nums, index):\n",
    "        if index == 0:\n",
    "            return nums[index]\n",
    "        if index < 0:\n",
    "            return 0\n",
    "        pick = nums[index] + self.result(nums, index - 2)\n",
    "        notPick = self.result(nums, index - 1)\n",
    "        return max(pick, notPick)"
   ]
  },
  {
   "cell_type": "code",
   "execution_count": null,
   "id": "c910509a",
   "metadata": {},
   "outputs": [],
   "source": []
  }
 ],
 "metadata": {
  "language_info": {
   "name": "python"
  }
 },
 "nbformat": 4,
 "nbformat_minor": 5
}
