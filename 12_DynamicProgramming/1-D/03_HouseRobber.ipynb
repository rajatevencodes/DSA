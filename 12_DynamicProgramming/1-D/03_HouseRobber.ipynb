{
 "cells": [
  {
   "cell_type": "code",
   "execution_count": null,
   "id": "ee38a123",
   "metadata": {},
   "outputs": [],
   "source": [
    "class Solution:\n",
    "    def houseRobber(self, money):\n",
    "        arr1 = []\n",
    "        arr2 = []\n",
    "        n = len(money) - 1\n",
    "\n",
    "        # Exclude last element\n",
    "        arr1 = money[:-1]\n",
    "        # Exclude first element\n",
    "        arr2 = money[1:]\n",
    "\n",
    "        dp1 = [None] * len(money)\n",
    "        dp2 = [None] * len(money)\n",
    "\n",
    "        ans1 = self.result(arr1, n - 1, dp1)\n",
    "        ans2 = self.result(arr2, n - 1, dp2)\n",
    "        return max(ans1, ans2)\n",
    "\n",
    "    def result(self, money, index, dp):\n",
    "        if index == 0:\n",
    "            return money[index]\n",
    "        if index < 0:\n",
    "            return 0\n",
    "        if dp[index] != None:\n",
    "            return dp[index]\n",
    "        # Choice 1: Rob the current house (money[index]) and skip the next (index + 1).\n",
    "        rob_current_house = money[index] + self.result(money, index - 2, dp)\n",
    "\n",
    "        # Choice 2: Don't rob the current house and move to the next one (index + 1).\n",
    "        dont_rob_current_house = self.result(money, index - 1, dp)\n",
    "\n",
    "        # Return the maximum of the two choices.\n",
    "        return max(rob_current_house, dont_rob_current_house)"
   ]
  }
 ],
 "metadata": {
  "language_info": {
   "name": "python"
  }
 },
 "nbformat": 4,
 "nbformat_minor": 5
}
