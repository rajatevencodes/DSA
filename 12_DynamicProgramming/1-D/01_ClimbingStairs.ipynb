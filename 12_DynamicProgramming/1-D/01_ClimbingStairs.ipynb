{
 "cells": [
  {
   "cell_type": "code",
   "execution_count": 1,
   "id": "462b19db",
   "metadata": {},
   "outputs": [
    {
     "name": "stdout",
     "output_type": "stream",
     "text": [
      "8\n"
     ]
    }
   ],
   "source": [
    "\"\"\"Recurssion\"\"\"\n",
    "class Solution:\n",
    "    def climbStairs(self, n):\n",
    "        # Base call\n",
    "        if n == 0:\n",
    "            return 1\n",
    "        if n < 0:\n",
    "            return 0\n",
    "        # Recussive Call\n",
    "        fn1 = self.climbStairs(n - 1)\n",
    "        fn2 = self.climbStairs(n - 2)\n",
    "        # Kaam\n",
    "        totalSteps = fn1 + fn2\n",
    "        return totalSteps\n",
    "\n",
    "if __name__ == \"__main__\":\n",
    "    sol = Solution()\n",
    "    n = 5\n",
    "    print(sol.climbStairs(n))"
   ]
  },
  {
   "cell_type": "code",
   "execution_count": null,
   "id": "e3b7cbfa",
   "metadata": {},
   "outputs": [],
   "source": [
    "\"\"\"Dp : Memoization\"\"\"\n",
    "class Solution:\n",
    "    def climbStairs(self, n):\n",
    "        dp = [None] * (n + 1)\n",
    "        return self.result(n, dp)\n",
    "\n",
    "    def result(self, n, dp):\n",
    "        # Base call\n",
    "        if n == 0:\n",
    "            return 1\n",
    "        if n < 0:\n",
    "            return 0\n",
    "        if dp[n] != None:\n",
    "            return dp[n]\n",
    "        # Recussive Call\n",
    "        fn1 = self.result(n - 1, dp)\n",
    "        fn2 = self.result(n - 2, dp)\n",
    "        # Kaam\n",
    "        totalSteps = fn1 + fn2\n",
    "        return totalSteps\n",
    "\n",
    "if __name__ == \"__main__\":\n",
    "    sol = Solution()\n",
    "    n = 8\n",
    "    print(sol.climbStairs(n))"
   ]
  },
  {
   "cell_type": "code",
   "execution_count": null,
   "id": "39b955f1",
   "metadata": {},
   "outputs": [],
   "source": [
    "\"\"\"Dp : Tabulation\"\"\"\n",
    "class Solution:\n",
    "    def climbStairs(self, n):\n",
    "        dp = [None] * (n + 1)\n",
    "        dp[0] = 1\n",
    "        dp[1] = 1\n",
    "        for i in range(2, len(dp)):\n",
    "            dp[i] = dp[i - 1] + dp[i - 2]\n",
    "        print(dp)\n",
    "        return dp[n]\n",
    "\n",
    "if __name__ == \"__main__\":\n",
    "    sol = Solution()\n",
    "    n = 8\n",
    "    print(sol.climbStairs(n))"
   ]
  }
 ],
 "metadata": {
  "kernelspec": {
   "display_name": "DSA (3.11.13)",
   "language": "python",
   "name": "python3"
  },
  "language_info": {
   "codemirror_mode": {
    "name": "ipython",
    "version": 3
   },
   "file_extension": ".py",
   "mimetype": "text/x-python",
   "name": "python",
   "nbconvert_exporter": "python",
   "pygments_lexer": "ipython3",
   "version": "3.11.13"
  }
 },
 "nbformat": 4,
 "nbformat_minor": 5
}
