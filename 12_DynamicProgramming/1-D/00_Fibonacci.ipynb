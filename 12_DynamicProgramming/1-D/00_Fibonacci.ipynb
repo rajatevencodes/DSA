{
 "cells": [
  {
   "cell_type": "code",
   "execution_count": null,
   "id": "79b38cd2",
   "metadata": {},
   "outputs": [
    {
     "name": "stdout",
     "output_type": "stream",
     "text": [
      "8\n"
     ]
    }
   ],
   "source": [
    "\"\"\"Recurssion O(n^2)\"\"\"\n",
    "class Solution:\n",
    "    def fib(self,n):\n",
    "        # Base Call\n",
    "        if n == 0 or n == 1:\n",
    "            return n\n",
    "        # Recursive Call\n",
    "        fnMinus1 = self.fib(n - 1)\n",
    "        fnMinus2 = self.fib(n - 2)\n",
    "        # Kaam\n",
    "        sum = fnMinus1 + fnMinus2\n",
    "        return sum\n",
    "\n",
    "if __name__ == \"__main__\":\n",
    "    sol = Solution()\n",
    "    print(sol.fib(6))"
   ]
  },
  {
   "cell_type": "code",
   "execution_count": null,
   "id": "2e354a20",
   "metadata": {},
   "outputs": [
    {
     "name": "stdout",
     "output_type": "stream",
     "text": [
      "8\n"
     ]
    }
   ],
   "source": [
    "\"\"\"Dp : Memoization\"\"\"\n",
    "class Solution:\n",
    "    def fib(self,n):\n",
    "        dp = [None] * (n + 1)\n",
    "        return self.result(n,dp)\n",
    "    \n",
    "    def result(self,n,dp):\n",
    "        # Base Call\n",
    "        if n == 0 or n == 1:\n",
    "            return n\n",
    "        if dp[n] != None:\n",
    "            return dp[n]\n",
    "        # Recussive Call\n",
    "        fn1 = self.result(n - 1,dp)\n",
    "        fn2 = self.result(n - 2,dp)\n",
    "        # Kaam And Save it in array\n",
    "        dp[n] = fn1 + fn2\n",
    "        return dp[n]\n",
    "\n",
    "\n",
    "if __name__ == \"__main__\":\n",
    "    sol = Solution()\n",
    "    print(sol.fib(6))"
   ]
  },
  {
   "cell_type": "code",
   "execution_count": null,
   "id": "f98d36d0",
   "metadata": {},
   "outputs": [
    {
     "name": "stdout",
     "output_type": "stream",
     "text": [
      "8\n"
     ]
    }
   ],
   "source": [
    "\"\"\"Dp : Tabulation\"\"\"\n",
    "class Solution:\n",
    "    def fib(self,n):\n",
    "        dp = [None] * (n + 1)\n",
    "        dp[0] = 0\n",
    "        dp[1] = 1\n",
    "        for i in range(2,len(dp)):\n",
    "            dp[i] = dp[i - 1] + dp[i - 2]\n",
    "        print(dp)\n",
    "        return dp[n]\n",
    "    \n",
    "if __name__ == \"__main__\":\n",
    "    sol = Solution()\n",
    "    print(sol.fib(6))\n",
    "            \n",
    "        "
   ]
  }
 ],
 "metadata": {
  "kernelspec": {
   "display_name": "DSA (3.11.13)",
   "language": "python",
   "name": "python3"
  },
  "language_info": {
   "codemirror_mode": {
    "name": "ipython",
    "version": 3
   },
   "file_extension": ".py",
   "mimetype": "text/x-python",
   "name": "python",
   "nbconvert_exporter": "python",
   "pygments_lexer": "ipython3",
   "version": "3.11.13"
  }
 },
 "nbformat": 4,
 "nbformat_minor": 5
}
