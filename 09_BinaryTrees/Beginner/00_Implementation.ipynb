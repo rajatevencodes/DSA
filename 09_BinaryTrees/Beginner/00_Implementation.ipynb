{
 "cells": [
  {
   "cell_type": "code",
   "execution_count": 7,
   "id": "7fd20c90",
   "metadata": {},
   "outputs": [
    {
     "name": "stdout",
     "output_type": "stream",
     "text": [
      "Inorder Traversal: 4 2 5 1 3 \n"
     ]
    }
   ],
   "source": [
    "\"\"\"PreOrder\"\"\"\n",
    "class Node:\n",
    "    def __init__(self, val):\n",
    "        self.data = val\n",
    "        self.left = None\n",
    "        self.right = None\n",
    "\n",
    "class Solution:\n",
    "    def inorder(self, root):\n",
    "        arr = []\n",
    "        return self.result(root, arr)\n",
    "\n",
    "    def result(self, root, arr):\n",
    "        if root == None:\n",
    "            return\n",
    "        self.result(root.left, arr)\n",
    "        arr.append(root.data)\n",
    "        self.result(root.right, arr)\n",
    "        return arr\n",
    "\n",
    "if __name__ == \"__main__\":\n",
    "    root = Node(1)\n",
    "    root.left = Node(2)\n",
    "    root.right = Node(3)\n",
    "    root.left.left = Node(4)\n",
    "    root.left.right = Node(5)\n",
    "\n",
    "    solution = Solution()\n",
    "    result = solution.inorder(root)\n",
    "\n",
    "    print(\"Inorder Traversal:\", end=\" \")\n",
    "    for val in result:\n",
    "        print(val, end=\" \")\n",
    "    print()"
   ]
  },
  {
   "cell_type": "code",
   "execution_count": 3,
   "id": "8be182af",
   "metadata": {},
   "outputs": [
    {
     "name": "stdout",
     "output_type": "stream",
     "text": [
      "Preorder Traversal: 1 2 4 5 3 \n"
     ]
    }
   ],
   "source": [
    "\"\"\"InOrder\"\"\"\n",
    "class Node:\n",
    "    def __init__(self, val):\n",
    "        self.data = val\n",
    "        self.left = None\n",
    "        self.right = None\n",
    "\n",
    "class Solution:\n",
    "    def preorder(self, root):\n",
    "        arr = []\n",
    "        return self.result(root, arr)\n",
    "\n",
    "    def result(self, root, arr):\n",
    "        if root == None:\n",
    "            return\n",
    "        arr.append(root.data)\n",
    "        self.result(root.left, arr)\n",
    "        self.result(root.right, arr)\n",
    "        return arr\n",
    "\n",
    "if __name__ == \"__main__\":\n",
    "    root = Node(1)\n",
    "    root.left = Node(2)\n",
    "    root.right = Node(3)\n",
    "    root.left.left = Node(4)\n",
    "    root.left.right = Node(5)\n",
    "\n",
    "    solution = Solution()\n",
    "    result = solution.preorder(root)\n",
    "\n",
    "    print(\"Preorder Traversal:\", end=\" \")\n",
    "    for val in result:\n",
    "        print(val, end=\" \")\n",
    "    print()"
   ]
  },
  {
   "cell_type": "code",
   "execution_count": 6,
   "id": "ce6cd8f6",
   "metadata": {},
   "outputs": [
    {
     "name": "stdout",
     "output_type": "stream",
     "text": [
      "Postorder Traversal: 4 5 2 3 1 \n"
     ]
    }
   ],
   "source": [
    "\"\"\"PostOrder\"\"\"\n",
    "class Node:\n",
    "    def __init__(self, val):\n",
    "        self.data = val\n",
    "        self.left = None\n",
    "        self.right = None\n",
    "\n",
    "class Solution:\n",
    "    def postorder(self, root):\n",
    "        arr = []\n",
    "        return self.result(root, arr)\n",
    "\n",
    "    def result(self, root, arr):\n",
    "        if root == None:\n",
    "            return\n",
    "        self.result(root.left, arr)\n",
    "        self.result(root.right, arr)\n",
    "        arr.append(root.data)\n",
    "        return arr\n",
    "\n",
    "\n",
    "if __name__ == \"__main__\":\n",
    "    root = Node(1)\n",
    "    root.left = Node(2)\n",
    "    root.right = Node(3)\n",
    "    root.left.left = Node(4)\n",
    "    root.left.right = Node(5)\n",
    "\n",
    "    solution = Solution()\n",
    "    result = solution.postorder(root)\n",
    "\n",
    "    print(\"Postorder Traversal:\", end=\" \")\n",
    "    for val in result:\n",
    "        print(val, end=\" \")\n",
    "    print()"
   ]
  },
  {
   "cell_type": "code",
   "execution_count": null,
   "id": "1fa0e5ef",
   "metadata": {},
   "outputs": [],
   "source": [
    "\"\"\"Pre-In-Post Order in one Traversal\"\"\""
   ]
  },
  {
   "cell_type": "code",
   "execution_count": null,
   "id": "09b1a5ee",
   "metadata": {},
   "outputs": [],
   "source": [
    "\"\"\"LevelOrder\"\"\""
   ]
  }
 ],
 "metadata": {
  "kernelspec": {
   "display_name": "DSA (3.11.13)",
   "language": "python",
   "name": "python3"
  },
  "language_info": {
   "codemirror_mode": {
    "name": "ipython",
    "version": 3
   },
   "file_extension": ".py",
   "mimetype": "text/x-python",
   "name": "python",
   "nbconvert_exporter": "python",
   "pygments_lexer": "ipython3",
   "version": "3.11.13"
  }
 },
 "nbformat": 4,
 "nbformat_minor": 5
}
