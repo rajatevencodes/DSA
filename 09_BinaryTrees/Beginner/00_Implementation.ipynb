{
 "cells": [
  {
   "cell_type": "code",
   "execution_count": null,
   "id": "7fd20c90",
   "metadata": {},
   "outputs": [],
   "source": [
    "\"\"\"PreOrder\"\"\"\n",
    "class Node:\n",
    "    def __init__(self, val):\n",
    "        self.data = val\n",
    "        self.left = None\n",
    "        self.right = None\n",
    "\n",
    "class Solution:\n",
    "    def inOrder(self, root):\n",
    "        if root == None:\n",
    "            return \n",
    "        self.inOrder(root.left)\n",
    "        print(root.data)\n",
    "        self.inOrder(root.right)\n",
    "\n",
    "if __name__ == \"__main__\":\n",
    "    sol = Solution()\n",
    "    \n",
    "        "
   ]
  },
  {
   "cell_type": "code",
   "execution_count": null,
   "id": "8be182af",
   "metadata": {},
   "outputs": [],
   "source": [
    "\"\"\"InOrder\"\"\""
   ]
  },
  {
   "cell_type": "code",
   "execution_count": null,
   "id": "ce6cd8f6",
   "metadata": {},
   "outputs": [],
   "source": [
    "\"\"\"PostOrder\"\"\""
   ]
  },
  {
   "cell_type": "code",
   "execution_count": null,
   "id": "1fa0e5ef",
   "metadata": {},
   "outputs": [],
   "source": [
    "\"\"\"Pre-In-Post Order in one Traversal\"\"\""
   ]
  },
  {
   "cell_type": "code",
   "execution_count": null,
   "id": "09b1a5ee",
   "metadata": {},
   "outputs": [],
   "source": [
    "\"\"\"LevelOrder\"\"\""
   ]
  }
 ],
 "metadata": {
  "kernelspec": {
   "display_name": "DSA (3.11.13)",
   "language": "python",
   "name": "python3"
  },
  "language_info": {
   "codemirror_mode": {
    "name": "ipython",
    "version": 3
   },
   "file_extension": ".py",
   "mimetype": "text/x-python",
   "name": "python",
   "nbconvert_exporter": "python",
   "pygments_lexer": "ipython3",
   "version": "3.11.13"
  }
 },
 "nbformat": 4,
 "nbformat_minor": 5
}
