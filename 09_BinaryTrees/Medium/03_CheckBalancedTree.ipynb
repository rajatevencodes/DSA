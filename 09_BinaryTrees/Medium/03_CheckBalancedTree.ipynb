{
 "cells": [
  {
   "cell_type": "code",
   "execution_count": null,
   "id": "93bca6ea",
   "metadata": {},
   "outputs": [
    {
     "name": "stdout",
     "output_type": "stream",
     "text": [
      "The tree is not balanced.\n"
     ]
    }
   ],
   "source": [
    "class Node():\n",
    "    def __init__(self, val=0, left=None, right=None):\n",
    "        self.val = val\n",
    "        self.left = left\n",
    "        self.right = right\n",
    "\n",
    "\n",
    "class Solution:\n",
    "    def isBalanced(self, root):\n",
    "        ans = self.maxHeight(root)\n",
    "        if ans == -1:\n",
    "            return False\n",
    "        return True\n",
    "\n",
    "    def maxHeight(self, root):\n",
    "        if root == None:\n",
    "            return 0\n",
    "\n",
    "        leftHeight = self.maxHeight(root.left)\n",
    "        # If the left subtree is unbalanced,\n",
    "        # propagate the unbalance status\n",
    "        if leftHeight == -1:\n",
    "            return -1\n",
    "\n",
    "        rightHeight = self.maxHeight(root.right)\n",
    "        # If the right subtree is unbalanced,\n",
    "        # propagate the unbalance status\n",
    "        if rightHeight == -1:\n",
    "            return -1\n",
    "\n",
    "        # Check if the difference in height between left and right subtrees is greater than 1\n",
    "        # If it's greater, the tree is unbalanced,\n",
    "        # return -1 to propagate the unbalance status\n",
    "        if abs(leftHeight - rightHeight) > 1:\n",
    "            return -1\n",
    "\n",
    "        return max(leftHeight, rightHeight) + 1\n",
    "\n",
    "\n",
    "# Main function\n",
    "if __name__ == \"__main__\":\n",
    "    # Creating a sample binary tree\n",
    "    root = Node(1)\n",
    "    root.left = Node(2)\n",
    "    root.right = Node(3)\n",
    "    root.left.left = Node(4)\n",
    "    root.left.right = Node(5)\n",
    "    root.left.right.right = Node(6)\n",
    "    root.left.right.right.right = Node(7)\n",
    "    solution = Solution()\n",
    "    if solution.isBalanced(root):\n",
    "        print(\"The tree is balanced.\")\n",
    "    else:\n",
    "        print(\"The tree is not balanced.\")"
   ]
  }
 ],
 "metadata": {
  "kernelspec": {
   "display_name": "DSA (3.11.13)",
   "language": "python",
   "name": "python3"
  },
  "language_info": {
   "codemirror_mode": {
    "name": "ipython",
    "version": 3
   },
   "file_extension": ".py",
   "mimetype": "text/x-python",
   "name": "python",
   "nbconvert_exporter": "python",
   "pygments_lexer": "ipython3",
   "version": "3.11.13"
  }
 },
 "nbformat": 4,
 "nbformat_minor": 5
}
