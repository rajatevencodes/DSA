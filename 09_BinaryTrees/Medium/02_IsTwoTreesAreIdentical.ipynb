{
 "cells": [
  {
   "cell_type": "code",
   "execution_count": null,
   "id": "4b8df31d",
   "metadata": {},
   "outputs": [],
   "source": [
    "class Node:\n",
    "    def __init__(self, val=0, left=None, right=None):\n",
    "        self.data = val\n",
    "        self.left = left\n",
    "        self.right = right\n",
    "\n",
    "\n",
    "class Solution:\n",
    "    def isSameTree(self, p, q):\n",
    "        # If both nodes are null, the trees are the same\n",
    "        if not p and not q:\n",
    "            return True\n",
    "\n",
    "        # If one of the nodes is null, the trees are not the same\n",
    "        if not p or not q:\n",
    "            return False\n",
    "\n",
    "        # If the values of the nodes are different, the trees are not the same\n",
    "        if p.data != q.data:\n",
    "            return False\n",
    "\n",
    "        # Recursively check the left and right subtrees\n",
    "        leftSubtree = self.isSameTree(p.left, q.left)\n",
    "        rightSubtree = self.isSameTree(p.right, q.right)\n",
    "        return leftSubtree and rightSubtree\n",
    "\n",
    "\n",
    "# Example usage\n",
    "if __name__ == \"__main__\":\n",
    "    solution = Solution()\n",
    "\n",
    "    # Creating two sample trees\n",
    "    tree1 = Node(1)\n",
    "    tree1.left = Node(2)\n",
    "    tree1.right = Node(3)\n",
    "\n",
    "    tree2 = Node(1)\n",
    "    tree2.left = Node(2)\n",
    "    tree2.right = Node(3)\n",
    "\n",
    "    # Checking if the trees are identical\n",
    "    result = solution.isSameTree(tree1, tree2)\n",
    "    print(\"Are the trees identical?\", result)  # Output: True"
   ]
  },
  {
   "cell_type": "markdown",
   "id": "879bb979",
   "metadata": {},
   "source": [
    "<p align=\"center\">\n",
    "    <img src=\"https://static.takeuforward.org/premium/Binary%20Trees/Medium%20Problems/Check%20if%20two%20trees%20are%20identical%20or%20not/-YcU1UMUX\" alt=\"is twoo trees are identical - TakeUForward\" width=\"500\"/>\n",
    "</p>\n"
   ]
  }
 ],
 "metadata": {
  "language_info": {
   "name": "python"
  }
 },
 "nbformat": 4,
 "nbformat_minor": 5
}
