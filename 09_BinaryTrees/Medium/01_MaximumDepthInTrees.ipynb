{
 "cells": [
  {
   "cell_type": "code",
   "execution_count": 1,
   "id": "525c68c2",
   "metadata": {},
   "outputs": [
    {
     "name": "stdout",
     "output_type": "stream",
     "text": [
      "Maximum Depth: 3\n"
     ]
    }
   ],
   "source": [
    "class Node:\n",
    "    def __init__(self, x):\n",
    "        self.val = x\n",
    "        self.left = None\n",
    "        self.right = None\n",
    "\n",
    "\n",
    "class Solution:\n",
    "    def maxDepth(self, root):\n",
    "        # Base case: if the node is null, return 0\n",
    "        if root is None:\n",
    "            return 0\n",
    "        # Recursively find the depth of the left and right subtrees\n",
    "        left = self.maxDepth(root.left)\n",
    "        right = self.maxDepth(root.right)\n",
    "        # The depth of the tree is 1 current node + the maximum depth of the subtrees\n",
    "        return 1 + max(left, right)\n",
    "\n",
    "\n",
    "# Main method to test the function\n",
    "if __name__ == \"__main__\":\n",
    "    solution = Solution()\n",
    "    root = Node(1)\n",
    "    root.left = Node(2)\n",
    "    root.right = Node(3)\n",
    "    root.left.left = Node(4)\n",
    "    root.left.right = Node(5)\n",
    "    print(\"Maximum Depth:\", solution.maxDepth(root))"
   ]
  },
  {
   "cell_type": "markdown",
   "id": "101c96b0",
   "metadata": {},
   "source": [
    "<p align=\"center\">\n",
    "    <img src=\"https://static.takeuforward.org/premium/Binary%20Trees/Medium%20Problems/Maximum%20Depth%20in%20BT/-cUPI9Jn1\" alt=\"Maximum Depth in Binary Tree - TakeUForward\" width=\"500\"/>\n",
    "</p>\n"
   ]
  }
 ],
 "metadata": {
  "kernelspec": {
   "display_name": "DSA (3.11.13)",
   "language": "python",
   "name": "python3"
  },
  "language_info": {
   "codemirror_mode": {
    "name": "ipython",
    "version": 3
   },
   "file_extension": ".py",
   "mimetype": "text/x-python",
   "name": "python",
   "nbconvert_exporter": "python",
   "pygments_lexer": "ipython3",
   "version": "3.11.13"
  }
 },
 "nbformat": 4,
 "nbformat_minor": 5
}
