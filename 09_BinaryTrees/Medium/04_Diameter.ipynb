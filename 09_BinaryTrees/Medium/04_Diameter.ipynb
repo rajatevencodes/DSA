{
 "cells": [
  {
   "cell_type": "code",
   "execution_count": null,
   "id": "61121fa6",
   "metadata": {},
   "outputs": [],
   "source": [
    "\"\"\"Brute Force\"\"\""
   ]
  },
  {
   "cell_type": "code",
   "execution_count": null,
   "id": "83f598b8",
   "metadata": {},
   "outputs": [],
   "source": [
    "\"\"\"Optimal Approach\"\"\""
   ]
  }
 ],
 "metadata": {
  "language_info": {
   "name": "python"
  }
 },
 "nbformat": 4,
 "nbformat_minor": 5
}
