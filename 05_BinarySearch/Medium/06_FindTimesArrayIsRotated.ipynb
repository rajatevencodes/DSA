{
 "cells": [
  {
   "cell_type": "code",
   "execution_count": 2,
   "id": "431312f9",
   "metadata": {},
   "outputs": [
    {
     "name": "stdout",
     "output_type": "stream",
     "text": [
      "3\n"
     ]
    }
   ],
   "source": [
    "class Solution:\n",
    "    def findKRotation(self, nums):\n",
    "        start = 0\n",
    "        end = len(nums) - 1\n",
    "        ans = float(\"inf\")\n",
    "        index = -1\n",
    "        while start <= end:\n",
    "            mid = (start + end) // 2\n",
    "\n",
    "            \"\"\" Search space is already sorted\n",
    "                then nums[start] will always be\n",
    "                the minimum in that search space \"\"\"\n",
    "            if nums[start] <= nums[end]:\n",
    "                if nums[start] < ans:\n",
    "                    index = start\n",
    "                    ans = nums[start]\n",
    "                break\n",
    "\n",
    "            # If left part is sorted update the ans\n",
    "            if nums[start] <= nums[mid]:\n",
    "                if nums[start] < ans:\n",
    "                    index = start\n",
    "                    ans = nums[start]\n",
    "                # Eliminate left half\n",
    "                start = mid + 1\n",
    "            else:\n",
    "                \"\"\"update the ans if it\n",
    "                is less than nums[mid]\"\"\"\n",
    "                if nums[mid] < ans:\n",
    "                    index = mid\n",
    "                    ans = nums[mid]\n",
    "                # Eliminate right half\n",
    "                end = mid - 1\n",
    "\n",
    "        # Return the index as answer\n",
    "        return index\n",
    "\n",
    "if __name__ == \"__main__\":\n",
    "    # Original sorted array is [0, 1, 2, 3, 4, 5, 6, 7]\n",
    "    nums = [5, 6, 7, 0, 1, 2, 3,4]\n",
    "    sol = Solution()\n",
    "    print(sol.findKRotation(nums))"
   ]
  }
 ],
 "metadata": {
  "kernelspec": {
   "display_name": "DSA (3.11.13)",
   "language": "python",
   "name": "python3"
  },
  "language_info": {
   "codemirror_mode": {
    "name": "ipython",
    "version": 3
   },
   "file_extension": ".py",
   "mimetype": "text/x-python",
   "name": "python",
   "nbconvert_exporter": "python",
   "pygments_lexer": "ipython3",
   "version": "3.11.13"
  }
 },
 "nbformat": 4,
 "nbformat_minor": 5
}
