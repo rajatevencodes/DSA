{
 "cells": [
  {
   "cell_type": "markdown",
   "id": "4eb073b7",
   "metadata": {},
   "source": [
    "Search in Sorted Rotated Array - 1 Without Duplicates"
   ]
  },
  {
   "cell_type": "code",
   "execution_count": 1,
   "id": "4b300ee7",
   "metadata": {},
   "outputs": [
    {
     "name": "stdout",
     "output_type": "stream",
     "text": [
      "2\n"
     ]
    }
   ],
   "source": [
    "class Solution:\n",
    "    def search(self, nums, k):\n",
    "        target = k\n",
    "        start = 0\n",
    "        end = len(nums) - 1\n",
    "\n",
    "        while start <= end:\n",
    "            mid = (start + end) // 2\n",
    "\n",
    "            if nums[mid] == target:\n",
    "                return mid\n",
    "\n",
    "            # Check for Left Part is Sorted\n",
    "            elif nums[start] <= nums[mid]:\n",
    "                # Confirming Whether target lies in Left Part\n",
    "                if nums[start] <= target < nums[mid]:\n",
    "                    # Exist\n",
    "                    end = mid - 1\n",
    "                else:\n",
    "                    # Not Exist\n",
    "                    start = mid + 1\n",
    "\n",
    "            # Check for Right Part is Sorted\n",
    "            elif nums[mid] <= nums[end]:\n",
    "                # Confirming Whether target lies in Right Part\n",
    "                if nums[mid] < target <= nums[end]:\n",
    "                    # Exist\n",
    "                    start = mid + 1\n",
    "                else:\n",
    "                    # Not exist\n",
    "                    end = mid - 1\n",
    "\n",
    "        return -1\n",
    "\n",
    "if __name__ == \"__main__\":\n",
    "    nums = [1, 2, 3, 4, 5]\n",
    "    k = 3\n",
    "    sol = Solution()\n",
    "    print(sol.search(nums, k))"
   ]
  },
  {
   "cell_type": "markdown",
   "id": "d19e05e9",
   "metadata": {},
   "source": [
    "Search in Sorted Rotated Array (With duplicates)"
   ]
  },
  {
   "cell_type": "code",
   "execution_count": 2,
   "id": "c172bc74",
   "metadata": {},
   "outputs": [
    {
     "name": "stdout",
     "output_type": "stream",
     "text": [
      "True\n"
     ]
    }
   ],
   "source": [
    "class Solution:\n",
    "    def searchInARotatedSortedArrayII(self, nums, k):\n",
    "        target = k\n",
    "        start = 0\n",
    "        end = len(nums) - 1\n",
    "\n",
    "        while start <= end:\n",
    "            mid = (start + end) // 2\n",
    "\n",
    "            if nums[mid] == target:\n",
    "                return True\n",
    "\n",
    "            if nums[start] == nums[mid] == nums[end]:\n",
    "                start += 1\n",
    "                end -= 1\n",
    "                continue\n",
    "\n",
    "            # Check if Left is sorted\n",
    "            if nums[start] <= nums[mid]:\n",
    "                # Check if the target exist in left part\n",
    "                if nums[start] <= target < nums[mid]:\n",
    "                    # Exist\n",
    "                    end = mid - 1\n",
    "                else:\n",
    "                    # Not Exist\n",
    "                    start = mid + 1\n",
    "\n",
    "            # Check if right is sorted\n",
    "            # ! Just by adding this statement shows TLE 🤣\n",
    "            # elif nums[mid] <= nums[end]:\n",
    "            else:\n",
    "                # Check if the target exist in the right part\n",
    "                if nums[mid] < target <= nums[end]:\n",
    "                    # Exist\n",
    "                    start = mid + 1\n",
    "                else:\n",
    "                    # Not Exist\n",
    "                    end = mid - 1\n",
    "\n",
    "        return False\n",
    "\n",
    "if __name__ == \"__main__\":\n",
    "    arr = [7, 8, 1, 2, 3, 3, 3, 4, 5, 6]\n",
    "    target = 3\n",
    "    sol = Solution()    \n",
    "    print(sol.searchInARotatedSortedArrayII(arr, target))\n"
   ]
  }
 ],
 "metadata": {
  "kernelspec": {
   "display_name": "DSA (3.11.13)",
   "language": "python",
   "name": "python3"
  },
  "language_info": {
   "codemirror_mode": {
    "name": "ipython",
    "version": 3
   },
   "file_extension": ".py",
   "mimetype": "text/x-python",
   "name": "python",
   "nbconvert_exporter": "python",
   "pygments_lexer": "ipython3",
   "version": "3.11.13"
  }
 },
 "nbformat": 4,
 "nbformat_minor": 5
}
