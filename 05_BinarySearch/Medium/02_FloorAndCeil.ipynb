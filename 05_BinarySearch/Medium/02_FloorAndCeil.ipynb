{
 "cells": [
  {
   "cell_type": "code",
   "execution_count": 1,
   "id": "8c51ee73",
   "metadata": {},
   "outputs": [
    {
     "name": "stdout",
     "output_type": "stream",
     "text": [
      "[4, 7]\n"
     ]
    }
   ],
   "source": [
    "class Solution:\n",
    "    def getFloorAndCeil(self, nums, x):\n",
    "        floor = self.getFloor(nums, x)\n",
    "        ceiling = self.getCeiling(nums, x)\n",
    "        return [floor, ceiling]\n",
    "\n",
    "    def getFloor(self, nums, target):\n",
    "        start, end = 0, len(nums) - 1\n",
    "        ans = -1\n",
    "        while start <= end:\n",
    "            mid = (start + end) // 2\n",
    "            if nums[mid] <= target:\n",
    "                ans = mid\n",
    "                start = mid + 1\n",
    "            else:\n",
    "                end = mid - 1\n",
    "        return nums[ans] if ans != -1 else -1\n",
    "\n",
    "    def getCeiling(self, nums, target):\n",
    "        start, end = 0, len(nums) - 1\n",
    "        ans = -1\n",
    "        while start <= end:\n",
    "            mid = (start + end) // 2\n",
    "            if nums[mid] >= target:\n",
    "                ans = mid\n",
    "                end = mid - 1\n",
    "            else:\n",
    "                start = mid + 1\n",
    "        return nums[ans] if ans != -1 else -1\n",
    "\n",
    "if __name__ == \"__main__\":\n",
    "    nums = [3, 4, 4, 7, 8, 10]\n",
    "    x = 5\n",
    "    sol = Solution()\n",
    "    print(sol.getFloorAndCeil(nums, x))"
   ]
  }
 ],
 "metadata": {
  "kernelspec": {
   "display_name": "DSA (3.11.13)",
   "language": "python",
   "name": "python3"
  },
  "language_info": {
   "codemirror_mode": {
    "name": "ipython",
    "version": 3
   },
   "file_extension": ".py",
   "mimetype": "text/x-python",
   "name": "python",
   "nbconvert_exporter": "python",
   "pygments_lexer": "ipython3",
   "version": "3.11.13"
  }
 },
 "nbformat": 4,
 "nbformat_minor": 5
}
