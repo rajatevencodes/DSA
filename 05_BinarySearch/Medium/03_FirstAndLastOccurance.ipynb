{
 "cells": [
  {
   "cell_type": "code",
   "execution_count": 1,
   "id": "9370f1da",
   "metadata": {},
   "outputs": [
    {
     "name": "stdout",
     "output_type": "stream",
     "text": [
      "[3, 4]\n"
     ]
    }
   ],
   "source": [
    "class Solution:\n",
    "    def searchRange(self, nums, target):\n",
    "        first = self.getFirstOccurence(nums, target)\n",
    "        last = self.getLastOccurence(nums, target)\n",
    "        return [first, last]\n",
    "\n",
    "    def getFirstOccurence(self, nums, target):\n",
    "        start = 0\n",
    "        end = len(nums) - 1\n",
    "        ans = -1\n",
    "        while start <= end:\n",
    "            mid = (start + end) // 2\n",
    "            if nums[mid] == target:\n",
    "                ans = mid\n",
    "                end = mid - 1\n",
    "            elif nums[mid] > target:\n",
    "                end = mid - 1\n",
    "            elif nums[mid] < target:\n",
    "                start = mid + 1\n",
    "\n",
    "        return ans if ans != -1 else -1\n",
    "\n",
    "    def getLastOccurence(self, nums, target):\n",
    "        start = 0\n",
    "        end = len(nums) - 1\n",
    "        ans = -1\n",
    "        while start <= end:\n",
    "            mid = (start + end) // 2\n",
    "            if nums[mid] == target:\n",
    "                ans = mid\n",
    "                start = mid + 1\n",
    "            elif nums[mid] < target:\n",
    "                start = mid + 1\n",
    "            elif nums[mid] > target:\n",
    "                end = mid - 1\n",
    "\n",
    "        return ans if ans != -1 else -1\n",
    "\n",
    "if __name__ == \"__main__\":\n",
    "    nums = [5, 7, 7, 8, 8, 10]\n",
    "    target = 8\n",
    "    sol = Solution()\n",
    "    print(sol.searchRange(nums, target))"
   ]
  }
 ],
 "metadata": {
  "kernelspec": {
   "display_name": "DSA (3.11.13)",
   "language": "python",
   "name": "python3"
  },
  "language_info": {
   "codemirror_mode": {
    "name": "ipython",
    "version": 3
   },
   "file_extension": ".py",
   "mimetype": "text/x-python",
   "name": "python",
   "nbconvert_exporter": "python",
   "pygments_lexer": "ipython3",
   "version": "3.11.13"
  }
 },
 "nbformat": 4,
 "nbformat_minor": 5
}
