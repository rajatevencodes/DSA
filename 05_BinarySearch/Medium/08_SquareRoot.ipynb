{
 "cells": [
  {
   "cell_type": "code",
   "execution_count": 1,
   "id": "3e6e60a7",
   "metadata": {},
   "outputs": [
    {
     "name": "stdout",
     "output_type": "stream",
     "text": [
      "5\n"
     ]
    }
   ],
   "source": [
    "class Solution:\n",
    "    def floorSqrt(self, n: int) -> int:\n",
    "        if n == 0:\n",
    "            return 0\n",
    "\n",
    "        start = 1\n",
    "        end = n // 2\n",
    "        ans = 1\n",
    "        while start <= end:\n",
    "            mid = (start + end) // 2\n",
    "            squareOfN = mid * mid\n",
    "            if squareOfN > n:\n",
    "                end = mid - 1\n",
    "            elif squareOfN <= n:\n",
    "                ans = mid\n",
    "                start = mid + 1\n",
    "        return ans\n",
    "\n",
    "\n",
    "if __name__ == \"__main__\":\n",
    "    n = 28\n",
    "    sol = Solution()\n",
    "    print(sol.floorSqrt(n))"
   ]
  }
 ],
 "metadata": {
  "kernelspec": {
   "display_name": "DSA (3.11.13)",
   "language": "python",
   "name": "python3"
  },
  "language_info": {
   "codemirror_mode": {
    "name": "ipython",
    "version": 3
   },
   "file_extension": ".py",
   "mimetype": "text/x-python",
   "name": "python",
   "nbconvert_exporter": "python",
   "pygments_lexer": "ipython3",
   "version": "3.11.13"
  }
 },
 "nbformat": 4,
 "nbformat_minor": 5
}
