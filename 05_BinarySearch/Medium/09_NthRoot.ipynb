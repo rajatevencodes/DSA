{
 "cells": [
  {
   "cell_type": "code",
   "execution_count": 2,
   "id": "f9206be5",
   "metadata": {},
   "outputs": [
    {
     "name": "stdout",
     "output_type": "stream",
     "text": [
      "3\n"
     ]
    }
   ],
   "source": [
    "class Solution:\n",
    "    def NthRoot(self, n, m):\n",
    "        # Edge Case : n^1 = m\n",
    "        if n == 1:\n",
    "            return m\n",
    "\n",
    "        # x^n = m\n",
    "        start = 0\n",
    "        end = m\n",
    "        ans = -1\n",
    "        while start <= end:\n",
    "            mid = (start + end) // 2\n",
    "            result = pow(mid, n)\n",
    "            if result == m:\n",
    "                ans = mid\n",
    "                break\n",
    "            elif result > m:\n",
    "                end = mid - 1\n",
    "            elif result < m:\n",
    "                start = mid + 1\n",
    "        return ans\n",
    "\n",
    "\n",
    "if __name__ == \"__main__\":\n",
    "    n, m = 3, 27\n",
    "    sol = Solution()\n",
    "    print(sol.NthRoot(n, m))"
   ]
  }
 ],
 "metadata": {
  "kernelspec": {
   "display_name": "DSA (3.11.13)",
   "language": "python",
   "name": "python3"
  },
  "language_info": {
   "codemirror_mode": {
    "name": "ipython",
    "version": 3
   },
   "file_extension": ".py",
   "mimetype": "text/x-python",
   "name": "python",
   "nbconvert_exporter": "python",
   "pygments_lexer": "ipython3",
   "version": "3.11.13"
  }
 },
 "nbformat": 4,
 "nbformat_minor": 5
}
