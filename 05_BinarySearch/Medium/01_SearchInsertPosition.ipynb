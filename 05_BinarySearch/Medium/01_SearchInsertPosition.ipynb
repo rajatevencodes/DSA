{
 "cells": [
  {
   "cell_type": "code",
   "execution_count": 1,
   "id": "0b8ad1a5",
   "metadata": {},
   "outputs": [
    {
     "name": "stdout",
     "output_type": "stream",
     "text": [
      "2\n"
     ]
    }
   ],
   "source": [
    "class Solution:\n",
    "    def searchInsert(self, nums, target):\n",
    "        start = 0\n",
    "        end = len(nums) - 1\n",
    "        # If not found in any position, return the last index\n",
    "        ans = len(nums)\n",
    "        while start <= end:\n",
    "            mid = (start + end) // 2\n",
    "            if nums[mid] >= target:\n",
    "                # Example: [0, 2, 4], 1 will be inserted at index of 2\n",
    "                ans = mid\n",
    "                end = mid - 1\n",
    "            elif nums[mid] < target:\n",
    "                start = mid + 1\n",
    "        return ans\n",
    "\n",
    "if __name__ == \"__main__\":\n",
    "    nums = [1, 3, 5, 6]\n",
    "    target = 5\n",
    "    sol = Solution()\n",
    "    print(sol.searchInsert(nums, target))"
   ]
  }
 ],
 "metadata": {
  "kernelspec": {
   "display_name": "DSA (3.11.13)",
   "language": "python",
   "name": "python3"
  },
  "language_info": {
   "codemirror_mode": {
    "name": "ipython",
    "version": 3
   },
   "file_extension": ".py",
   "mimetype": "text/x-python",
   "name": "python",
   "nbconvert_exporter": "python",
   "pygments_lexer": "ipython3",
   "version": "3.11.13"
  }
 },
 "nbformat": 4,
 "nbformat_minor": 5
}
