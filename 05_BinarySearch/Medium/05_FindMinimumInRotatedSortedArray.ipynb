{
 "cells": [
  {
   "cell_type": "code",
   "execution_count": 1,
   "id": "777b3d33",
   "metadata": {},
   "outputs": [
    {
     "name": "stdout",
     "output_type": "stream",
     "text": [
      "0\n"
     ]
    }
   ],
   "source": [
    "class Solution:\n",
    "    def findMin(self, arr):\n",
    "        start = 0\n",
    "        end = len(arr) - 1\n",
    "        ans = float(\"inf\")\n",
    "\n",
    "        while start <= end:\n",
    "            mid = (start + end) // 2\n",
    "\n",
    "            # Checks if the left half is sorted\n",
    "            if arr[start] <= arr[mid]:\n",
    "                # The minimum of this sorted half is arr[start]\n",
    "                ans = min(ans, arr[start])\n",
    "\n",
    "                # The overall minimum could still be in the unsorted right half,\n",
    "                # so we search there.\n",
    "                start = mid + 1\n",
    "\n",
    "            # Otherwise, the right half must be sorted\n",
    "            else:\n",
    "                # The minimum of this sorted half is arr[mid]\n",
    "                ans = min(ans, arr[mid])\n",
    "\n",
    "                # The overall minimum could still be in the unsorted left half,\n",
    "                # so we search there.\n",
    "                end = mid - 1\n",
    "\n",
    "        return ans\n",
    "\n",
    "if __name__ == \"__main__\":\n",
    "    arr = [4, 5, 6, 7, 0, 1, 2, 3]\n",
    "    sol = Solution()\n",
    "    print(sol.findMin(arr))"
   ]
  }
 ],
 "metadata": {
  "kernelspec": {
   "display_name": "DSA (3.11.13)",
   "language": "python",
   "name": "python3"
  },
  "language_info": {
   "codemirror_mode": {
    "name": "ipython",
    "version": 3
   },
   "file_extension": ".py",
   "mimetype": "text/x-python",
   "name": "python",
   "nbconvert_exporter": "python",
   "pygments_lexer": "ipython3",
   "version": "3.11.13"
  }
 },
 "nbformat": 4,
 "nbformat_minor": 5
}
