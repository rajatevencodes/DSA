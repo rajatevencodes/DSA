{
 "cells": [
  {
   "cell_type": "markdown",
   "id": "0469a834",
   "metadata": {},
   "source": [
    "### Fundamentals\n",
    "1. Search X in Sorted Array. \n",
    "2. Lower Bound. \n",
    "3. Upper Bound.   "
   ]
  },
  {
   "cell_type": "code",
   "execution_count": 2,
   "id": "2d4a1daf",
   "metadata": {},
   "outputs": [
    {
     "name": "stdout",
     "output_type": "stream",
     "text": [
      "4\n"
     ]
    }
   ],
   "source": [
    "\"\"\"1. Search X in Sorted Array\"\"\"\n",
    "class Solution:\n",
    "    def search(self, nums, target):\n",
    "        start = 0\n",
    "        end = len(nums) - 1\n",
    "        while start <= end:\n",
    "            mid = (start + end) // 2\n",
    "            if nums[mid] < target:\n",
    "                start = mid + 1\n",
    "            elif nums[mid] > target:\n",
    "                end = mid - 1\n",
    "            elif nums[mid] == target:\n",
    "                return mid\n",
    "\n",
    "        return -1\n",
    "\n",
    "if __name__ == \"__main__\":\n",
    "    sol = Solution()\n",
    "    a = [-1, 0, 3, 5, 9, 12]\n",
    "    target = 9\n",
    "    print(sol.search(a, target))"
   ]
  },
  {
   "cell_type": "code",
   "execution_count": 3,
   "id": "33049da9",
   "metadata": {},
   "outputs": [
    {
     "name": "stdout",
     "output_type": "stream",
     "text": [
      "The lower bound is the index: 1\n"
     ]
    }
   ],
   "source": [
    "\"\"\"2. Lower Bound\"\"\"\n",
    "class Solution:\n",
    "    def lowerBound(self, nums, x):\n",
    "        start = 0\n",
    "        end = len(nums) - 1\n",
    "        ans = len(nums)\n",
    "        while start <= end:\n",
    "            mid = (start + end) // 2\n",
    "            if nums[mid] >= x:\n",
    "                ans = mid\n",
    "                end = mid - 1\n",
    "            elif nums[mid] < x:\n",
    "                start = mid + 1\n",
    "\n",
    "        return ans\n",
    "\n",
    "if __name__ == \"__main__\":\n",
    "    arr = [1, 2, 2, 3]\n",
    "    x = 2\n",
    "    sol = Solution()\n",
    "    ind = sol.lowerBound(arr, x)\n",
    "    print(\"The lower bound is the index:\", ind)"
   ]
  },
  {
   "cell_type": "code",
   "execution_count": 4,
   "id": "fce0fdee",
   "metadata": {},
   "outputs": [
    {
     "name": "stdout",
     "output_type": "stream",
     "text": [
      "4\n"
     ]
    }
   ],
   "source": [
    "\"\"\"3. Upper Bound\"\"\"\n",
    "class Solution:\n",
    "    def upperBound(self, nums, x):\n",
    "        start = 0\n",
    "        end = len(nums) - 1\n",
    "        ans = len(nums)\n",
    "\n",
    "        while start <= end:\n",
    "            mid = (start + end) // 2\n",
    "            if nums[mid] > x:\n",
    "                ans = mid\n",
    "                end = mid - 1\n",
    "            elif nums[mid] <= x:\n",
    "                start = mid + 1\n",
    "\n",
    "        return ans\n",
    "\n",
    "\n",
    "if __name__ == \"__main__\":\n",
    "    nums = [3, 5, 8, 9, 15, 19]\n",
    "    x = 9\n",
    "    solution = Solution()\n",
    "    print(solution.upperBound(nums, x))"
   ]
  }
 ],
 "metadata": {
  "kernelspec": {
   "display_name": "DSA (3.11.13)",
   "language": "python",
   "name": "python3"
  },
  "language_info": {
   "codemirror_mode": {
    "name": "ipython",
    "version": 3
   },
   "file_extension": ".py",
   "mimetype": "text/x-python",
   "name": "python",
   "nbconvert_exporter": "python",
   "pygments_lexer": "ipython3",
   "version": "3.11.13"
  }
 },
 "nbformat": 4,
 "nbformat_minor": 5
}
