{
 "cells": [
  {
   "cell_type": "code",
   "execution_count": null,
   "id": "fabda539",
   "metadata": {},
   "outputs": [],
   "source": [
    "matrix = [[1, 2, 3, 4], [5, 6, 7, 8], [9, 10, 11, 12], [13, 14, 15, 16]]\n",
    "\n",
    "minRow = 0\n",
    "maxRow = len(matrix) - 1\n",
    "minCol = 0\n",
    "maxCol = len(matrix[0]) - 1\n",
    "\n",
    "total = len(matrix) * len(matrix[0])\n",
    "count = 0\n",
    "\n",
    "while count < total:\n",
    "    # ⬇ (Top-to-bottom along the leftmost column)\n",
    "    for i in range(minRow, maxRow + 1):\n",
    "        if count < total:\n",
    "            print(matrix[i][minCol], end=\" \")\n",
    "            count += 1\n",
    "    minCol += 1\n",
    "\n",
    "    # -> (Left-to-right along the bottom row)\n",
    "    for i in range(minCol, maxCol + 1):\n",
    "        if count < total:\n",
    "            print(matrix[maxRow][i], end=\" \")\n",
    "            count += 1\n",
    "    maxRow -= 1\n",
    "\n",
    "    # ⬆ (Bottom-to-top along the rightmost column)\n",
    "    for i in range(maxRow, minRow - 1, -1):\n",
    "        if count < total:\n",
    "            print(matrix[i][maxCol], end=\" \")\n",
    "            count += 1\n",
    "    maxCol -= 1\n",
    "\n",
    "    # <- (Right-to-left along the top row)\n",
    "    for i in range(maxCol, minCol - 1, -1):\n",
    "        if count < total:\n",
    "            print(matrix[minRow][i], end=\" \")\n",
    "            count += 1\n",
    "    minRow += 1"
   ]
  }
 ],
 "metadata": {
  "language_info": {
   "name": "python"
  }
 },
 "nbformat": 4,
 "nbformat_minor": 5
}
