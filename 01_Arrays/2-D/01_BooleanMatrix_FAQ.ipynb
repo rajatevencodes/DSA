{
 "cells": [
  {
   "cell_type": "code",
   "execution_count": 2,
   "id": "35abc01e",
   "metadata": {},
   "outputs": [
    {
     "name": "stdout",
     "output_type": "stream",
     "text": [
      "[1, 1, 1]\n",
      "[1, 9, 6]\n",
      "[1, 3, 4]\n"
     ]
    }
   ],
   "source": [
    "class Solution:\n",
    "    def convertBoolean(self, matrix):\n",
    "        return self.result(matrix)\n",
    "\n",
    "    def result(self, matrix):\n",
    "        totalRow = len(matrix)\n",
    "        totalCol = len(matrix[0])\n",
    "\n",
    "        for row in range(totalRow):\n",
    "            for col in range(totalCol):\n",
    "                if matrix[row][col] == 1:\n",
    "                    # Upwards\n",
    "                    index = row - 1\n",
    "                    while index >= 0:\n",
    "                        if matrix[index][col] != 1:\n",
    "                            matrix[index][col] = -1  # Use -1 to mark influenced cells\n",
    "                        index -= 1\n",
    "\n",
    "                    # Downwards\n",
    "                    index = row + 1\n",
    "                    while index < totalRow:\n",
    "                        if matrix[index][col] != 1:\n",
    "                            matrix[index][col] = -1  # Use -1 to mark influenced cells\n",
    "                        index += 1\n",
    "\n",
    "                    # Left\n",
    "                    index = col - 1\n",
    "                    while index >= 0:  # Corrected the condition to go left\n",
    "                        if matrix[row][index] != 1:\n",
    "                            matrix[row][index] = -1  # Use -1 to mark influenced cells\n",
    "                        index -= 1\n",
    "\n",
    "                    # Right\n",
    "                    index = col + 1\n",
    "                    while index < totalCol:  # Corrected the condition to go right\n",
    "                        if matrix[row][index] != 1:\n",
    "                            matrix[row][index] = -1  # Use -1 to mark influenced cells\n",
    "                        index += 1\n",
    "\n",
    "        # Convert all marked cells back to 1\n",
    "        for row in range(totalRow):\n",
    "            for col in range(totalCol):\n",
    "                if matrix[row][col] == -1:\n",
    "                    matrix[row][col] = 1\n",
    "\n",
    "        return matrix  # Return the modified matrix\n",
    "\n",
    "\n",
    "# Example usage\n",
    "if __name__ == \"__main__\":\n",
    "    matrix = [[1, 4, 7], [0, 9, 6], [8, 3, 4]]\n",
    "    sol = Solution()\n",
    "    result = sol.convertBoolean(matrix)\n",
    "    for row in result:\n",
    "        print(row)"
   ]
  }
 ],
 "metadata": {
  "kernelspec": {
   "display_name": "DSA (3.11.13)",
   "language": "python",
   "name": "python3"
  },
  "language_info": {
   "codemirror_mode": {
    "name": "ipython",
    "version": 3
   },
   "file_extension": ".py",
   "mimetype": "text/x-python",
   "name": "python",
   "nbconvert_exporter": "python",
   "pygments_lexer": "ipython3",
   "version": "3.11.13"
  }
 },
 "nbformat": 4,
 "nbformat_minor": 5
}
