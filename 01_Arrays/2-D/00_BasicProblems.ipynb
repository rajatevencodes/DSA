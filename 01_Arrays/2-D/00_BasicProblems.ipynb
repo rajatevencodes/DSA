{
 "cells": [
  {
   "cell_type": "code",
   "execution_count": 3,
   "id": "62424e9e",
   "metadata": {},
   "outputs": [
    {
     "name": "stdout",
     "output_type": "stream",
     "text": [
      "Your 2-D Array is:\n",
      "[None, None, None, None]\n",
      "[None, None, None, None]\n",
      "[None, None, None, None]\n"
     ]
    }
   ],
   "source": [
    "# Creation of 2 D Arrays - with all 'none' value\n",
    "\n",
    "noOfRows = 3\n",
    "noOfCols = 4\n",
    "\n",
    "# '_' is just a throwaway variable\n",
    "Array_2D = [[None] * noOfCols for _ in range(noOfRows)]\n",
    "\n",
    "# Print the 2D array\n",
    "print(\"Your 2-D Array is:\")\n",
    "for row in Array_2D:\n",
    "    print(row)"
   ]
  },
  {
   "cell_type": "code",
   "execution_count": null,
   "id": "196dafd6",
   "metadata": {},
   "outputs": [
    {
     "name": "stdout",
     "output_type": "stream",
     "text": [
      "\n",
      "The 2D Array you entered is:\n",
      "['exit', '', '', '']\n",
      "['', '', '', '']\n",
      "['', '', '', '']\n"
     ]
    }
   ],
   "source": [
    "# Creation of 2 D array with Cusom value\n",
    "\n",
    "# noOfRows = int(input(\"Enter number of rows: \"))\n",
    "# noOfCols = int(input(\"Enter number of columns: \"))\n",
    "\n",
    "# Initialize an empty 2D array\n",
    "Array_2D = []\n",
    "\n",
    "# Loop through each row\n",
    "for i in range(noOfRows):\n",
    "    row = []  # Initialize an empty row\n",
    "    for j in range(noOfCols):\n",
    "        # value = input(f\"Enter value for row {i + 1}, column {j + 1}: \")\n",
    "        row.append(value)  # Append the inputted value to the row\n",
    "    Array_2D.append(row)  # Append the filled row to the 2D Array\n",
    "\n",
    "\n",
    "# Print the 2D Array\n",
    "print(\"\\nThe 2D Array you entered is:\")\n",
    "for row in Array_2D:\n",
    "    print(row)"
   ]
  },
  {
   "cell_type": "code",
   "execution_count": 6,
   "id": "35c6c376",
   "metadata": {},
   "outputs": [
    {
     "name": "stdout",
     "output_type": "stream",
     "text": [
      "True\n"
     ]
    }
   ],
   "source": [
    "# Search in Sorted Matrix\n",
    "#  Matrix is sorted in increasing order both row-wise and col-wise\n",
    "class Solution:\n",
    "    def searchMatrix(self, mat, target):\n",
    "        return self.result(mat, target)\n",
    "\n",
    "    def result(self, mat, target):\n",
    "        row = 0\n",
    "        col = len(mat[0]) - 1\n",
    "        while row < len(mat) and col >= 0:\n",
    "            # print(row,col)\n",
    "            if mat[row][col] == target:\n",
    "                return True\n",
    "            elif mat[row][col] > target:\n",
    "                col -= 1\n",
    "            elif mat[row][col] < target:\n",
    "                row += 1\n",
    "\n",
    "\n",
    "# Example usage\n",
    "if __name__ == \"__main__\":\n",
    "    matrix = [[1, 2, 3, 4], [5, 6, 7, 8], [9, 10, 11, 12]]\n",
    "    target = 8\n",
    "    sol = Solution()\n",
    "    result = sol.searchMatrix(matrix, target)\n",
    "    print(result)"
   ]
  },
  {
   "cell_type": "markdown",
   "id": "78e0ef58",
   "metadata": {},
   "source": [
    "Wave - Row Wise and Column wise"
   ]
  },
  {
   "cell_type": "code",
   "execution_count": 7,
   "id": "6c857bea",
   "metadata": {},
   "outputs": [
    {
     "name": "stdout",
     "output_type": "stream",
     "text": [
      "1 5 9 13  -nextCol- 14 10 6 2  -nextCol- 3 7 11 15  -nextCol- 16 12 8 4  -nextCol- "
     ]
    }
   ],
   "source": [
    "# Wave Col-Wise\n",
    "matrix = [[1, 2, 3, 4], [5, 6, 7, 8], [9, 10, 11, 12], [13, 14, 15, 16]]\n",
    "\n",
    "\n",
    "def col(matrix):\n",
    "    for col in range(len(matrix[0])):\n",
    "        if col % 2 != 0:\n",
    "            # Print column in reverse order (for even columns)\n",
    "            for row in range(len(matrix) - 1, -1, -1):\n",
    "                print(matrix[row][col], end=\" \")\n",
    "        else:\n",
    "            # Print column in normal order (for odd columns)\n",
    "            for row in range(len(matrix)):\n",
    "                print(matrix[row][col], end=\" \")\n",
    "        print(\" -nextCol- \", end=\"\")\n",
    "\n",
    "\n",
    "col(matrix)"
   ]
  },
  {
   "cell_type": "code",
   "execution_count": null,
   "id": "3fbad3ca",
   "metadata": {},
   "outputs": [
    {
     "name": "stdout",
     "output_type": "stream",
     "text": [
      "1 2 3 4 \n",
      "8 7 6 5 \n",
      "9 10 11 12 \n",
      "16 15 14 13 \n"
     ]
    }
   ],
   "source": [
    "# Wave Row-wise\n",
    "matrix = [[1, 2, 3, 4], [5, 6, 7, 8], [9, 10, 11, 12], [13, 14, 15, 16]]\n",
    "\n",
    "\n",
    "def row_wave(matrix):\n",
    "    for row in range(len(matrix)):\n",
    "        if row % 2 == 0:  # For even rows, iterate left to right\n",
    "            for col in range(len(matrix[0])):\n",
    "                print(matrix[row][col], end=\" \")\n",
    "        else:  # For odd rows, iterate right to left\n",
    "            for col in range(len(matrix[0]) - 1, -1, -1):\n",
    "                print(matrix[row][col], end=\" \")\n",
    "        print(\"\")\n",
    "\n",
    "\n",
    "row_wave(matrix)"
   ]
  },
  {
   "cell_type": "markdown",
   "id": "8494a0d2",
   "metadata": {},
   "source": [
    "Rotate by 90"
   ]
  },
  {
   "cell_type": "code",
   "execution_count": 8,
   "id": "904099a6",
   "metadata": {},
   "outputs": [
    {
     "name": "stdout",
     "output_type": "stream",
     "text": [
      "[0, [7, 4, 1], [8, 5, 2], [9, 6, 3]]\n"
     ]
    }
   ],
   "source": [
    "class Solution:\n",
    "    def rotateMatrix(self, matrix):\n",
    "        return self.result(matrix)\n",
    "\n",
    "    def result(self, matrix):\n",
    "        # Create an empty matrix to hold the rotated result\n",
    "        rotated_matrix = [0]\n",
    "\n",
    "        # Iterate over the columns of the matrix\n",
    "        for col in range(len(matrix[0])):\n",
    "            new_row = []\n",
    "            # Iterate over the rows in reverse order to form the rotated row\n",
    "            for row in range(len(matrix) - 1, -1, -1):\n",
    "                new_row.append(matrix[row][col])\n",
    "            rotated_matrix.append(new_row)\n",
    "\n",
    "        return rotated_matrix\n",
    "\n",
    "\n",
    "# Example usage\n",
    "if __name__ == \"__main__\":\n",
    "    arr = [[1, 2, 3], [4, 5, 6], [7, 8, 9]]\n",
    "    sol = Solution()\n",
    "    result = sol.rotateMatrix(arr)\n",
    "    print(result)"
   ]
  },
  {
   "cell_type": "markdown",
   "id": "e1d612b4",
   "metadata": {},
   "source": [
    "Transpose"
   ]
  },
  {
   "cell_type": "code",
   "execution_count": 9,
   "id": "b1a1e953",
   "metadata": {},
   "outputs": [
    {
     "name": "stdout",
     "output_type": "stream",
     "text": [
      "[0, 5, 10, 15, 20]\n",
      "[1, 6, 11, 16, 21]\n",
      "[2, 7, 12, 17, 22]\n",
      "[3, 8, 13, 18, 23]\n",
      "[4, 9, 14, 19, 24]\n"
     ]
    }
   ],
   "source": [
    "matrix = [\n",
    "    [0, 1, 2, 3, 4],\n",
    "    [5, 6, 7, 8, 9],\n",
    "    [10, 11, 12, 13, 14],\n",
    "    [15, 16, 17, 18, 19],\n",
    "    [20, 21, 22, 23, 24],\n",
    "]\n",
    "\n",
    "for row in range(len(matrix)):\n",
    "    for j in range(row + 1, len(matrix[0])):\n",
    "        temp = matrix[row][j]\n",
    "        matrix[row][j] = matrix[j][row]\n",
    "        matrix[j][row] = temp\n",
    "\n",
    "# Printing\n",
    "for row in matrix:\n",
    "    print(row)"
   ]
  },
  {
   "cell_type": "markdown",
   "id": "48c555df",
   "metadata": {},
   "source": [
    "ColWithMaxSum"
   ]
  },
  {
   "cell_type": "code",
   "execution_count": 11,
   "id": "6eee46ae",
   "metadata": {},
   "outputs": [
    {
     "name": "stdout",
     "output_type": "stream",
     "text": [
      "Row with max sum: 4\n",
      "Max sum: 110\n"
     ]
    }
   ],
   "source": [
    "matrix = [\n",
    "    [0, 1, 2, 3, 4],\n",
    "    [5, 6, 7, 8, 9],\n",
    "    [10, 11, 12, 13, 14],\n",
    "    [15, 16, 17, 18, 19],\n",
    "    [20, 21, 22, 23, 24],\n",
    "]\n",
    "maxSum = float(\"-inf\")\n",
    "index = -1\n",
    "\n",
    "for i in range(len(matrix)):\n",
    "    sum = 0\n",
    "    for j in range(len(matrix[0])):\n",
    "        sum += matrix[i][j]\n",
    "    if sum > maxSum:\n",
    "        maxSum = sum\n",
    "        index = i\n",
    "\n",
    "print(\"Row with max sum:\", index)\n",
    "print(\"Max sum:\", maxSum)"
   ]
  },
  {
   "cell_type": "markdown",
   "id": "757d2796",
   "metadata": {},
   "source": [
    "Spot Inverse Triangle"
   ]
  },
  {
   "cell_type": "code",
   "execution_count": 12,
   "id": "436a18ff",
   "metadata": {},
   "outputs": [
    {
     "name": "stdout",
     "output_type": "stream",
     "text": [
      "True\n"
     ]
    }
   ],
   "source": [
    "# TODO : Crosscheck maybe it's wrong\n",
    "matrix = [[1, 0, 0, 0], [2, 3, 0, 0], [4, 5, 6, 0], [7, 8, 9, 1]]\n",
    "\n",
    "for i in range(len(matrix)):\n",
    "    for j in range(i + 1, len(matrix[0]) - 2):\n",
    "        if matrix[i][j] == matrix[i][j + 1]:\n",
    "            j += 1\n",
    "        else:\n",
    "            print(False)\n",
    "            break\n",
    "    print(True)\n",
    "    break"
   ]
  },
  {
   "cell_type": "markdown",
   "id": "49591085",
   "metadata": {},
   "source": [
    "Upper Triangle"
   ]
  },
  {
   "cell_type": "code",
   "execution_count": 13,
   "id": "5914acd4",
   "metadata": {},
   "outputs": [
    {
     "name": "stdout",
     "output_type": "stream",
     "text": [
      "[1, 2, 3]\n",
      "[0, 5, 6]\n",
      "[0, 0, 9]\n"
     ]
    }
   ],
   "source": [
    "matrix = [[1, 2, 3], [4, 5, 6], [7, 8, 9]]\n",
    "\n",
    "for row in range(1, len(matrix)):\n",
    "    for col in range(0, row):\n",
    "        matrix[row][col] = 0\n",
    "\n",
    "for row in matrix:\n",
    "    print(row)"
   ]
  }
 ],
 "metadata": {
  "kernelspec": {
   "display_name": "DSA (3.11.13)",
   "language": "python",
   "name": "python3"
  },
  "language_info": {
   "codemirror_mode": {
    "name": "ipython",
    "version": 3
   },
   "file_extension": ".py",
   "mimetype": "text/x-python",
   "name": "python",
   "nbconvert_exporter": "python",
   "pygments_lexer": "ipython3",
   "version": "3.11.13"
  }
 },
 "nbformat": 4,
 "nbformat_minor": 5
}
