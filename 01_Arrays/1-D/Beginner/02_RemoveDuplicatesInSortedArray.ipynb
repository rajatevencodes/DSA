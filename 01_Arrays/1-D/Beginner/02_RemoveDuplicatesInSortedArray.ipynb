{
 "cells": [
  {
   "cell_type": "code",
   "execution_count": 3,
   "id": "c7235c7b",
   "metadata": {},
   "outputs": [
    {
     "name": "stdout",
     "output_type": "stream",
     "text": [
      "4\n"
     ]
    }
   ],
   "source": [
    "# Brute Force - Using HashSet - Time: O(n log n) ; Space: O(n) space\n",
    "# Optimal Solution - 2 pointer\n",
    "\"\"\"Time  - O(n) : Space - O(1)\"\"\"\n",
    "\n",
    "class Solution:\n",
    "    def removeDuplicates(self, nums):\n",
    "        pointer = 0\n",
    "        for i in range(len(nums)):\n",
    "            if nums[pointer] != nums[i]:\n",
    "                nums[pointer + 1] = nums[i]\n",
    "                pointer += 1\n",
    "\n",
    "        uniqueElements = pointer + 1\n",
    "        return uniqueElements\n",
    "\n",
    "\n",
    "# Example usage\n",
    "if __name__ == \"__main__\":\n",
    "    arr = [0, 0, 3, 3, 5, 6]\n",
    "    sol = Solution()\n",
    "    result = sol.removeDuplicates(arr)\n",
    "    print(result)"
   ]
  }
 ],
 "metadata": {
  "kernelspec": {
   "display_name": "DSA (3.11.13)",
   "language": "python",
   "name": "python3"
  },
  "language_info": {
   "codemirror_mode": {
    "name": "ipython",
    "version": 3
   },
   "file_extension": ".py",
   "mimetype": "text/x-python",
   "name": "python",
   "nbconvert_exporter": "python",
   "pygments_lexer": "ipython3",
   "version": "3.11.13"
  }
 },
 "nbformat": 4,
 "nbformat_minor": 5
}
