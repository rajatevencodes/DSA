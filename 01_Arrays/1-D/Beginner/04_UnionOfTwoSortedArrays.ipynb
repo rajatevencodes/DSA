{
 "cells": [
  {
   "cell_type": "code",
   "execution_count": null,
   "id": "352d04f0",
   "metadata": {},
   "outputs": [
    {
     "name": "stdout",
     "output_type": "stream",
     "text": [
      "[1, 3, 4, 5, 6, 7, 8, 9]\n"
     ]
    }
   ],
   "source": [
    "# Brute Force\n",
    "\"\"\"\n",
    "    Time: O((m+n)log(m+n))\n",
    "    Space: O(m+n)\n",
    "\"\"\"\n",
    "\n",
    "class Solution:\n",
    "    def unionArray(self, m, n):\n",
    "        ans = m + n\n",
    "        # HashSets are not sorted by default\n",
    "        ans = sorted(set(ans))  # Time Complexity of `sorted` is O(n log n) So, O((m+n) log(m+n))\n",
    "        return ans\n",
    "\n",
    "if __name__ == \"__main__\":\n",
    "    m = [3, 4, 6, 7, 9, 9]\n",
    "    n = [1, 5, 7, 8, 8]\n",
    "    \n",
    "\n",
    "    sol = Solution()\n",
    "    result = sol.unionArray(m, n)\n",
    "    print(result)"
   ]
  },
  {
   "cell_type": "code",
   "execution_count": null,
   "id": "01caeb6b",
   "metadata": {},
   "outputs": [
    {
     "name": "stdout",
     "output_type": "stream",
     "text": [
      "end=\n",
      "end=\n",
      "end=\n",
      "end=\n",
      "[1, 2, 3, 4, 5, 6, 7, 8]\n"
     ]
    }
   ],
   "source": [
    "# Optimal Approach\n",
    "\n",
    "\"\"\"Time  - O(M + N) : Space - O(M + N) :: m and n are the size of the arrays\"\"\"\n",
    "\n",
    "\"\"\"\n",
    "    Without These conditions  \"len(union) == 0 or nums1[i] != union[-1]\"\n",
    "    We are adding up duplicates. \n",
    "    📍 Dry run with same 'arrays' example\n",
    "        \n",
    "    || ‼️ len(union) == 0 || \n",
    "    Checks if the list is empty. \n",
    "    This prevents an error when trying to access the last element (union[-1]) in an empty list.\n",
    "\n",
    "    || ‼️ nums1[i] != union[-1] ||\n",
    "    Ensures the current element is not the same as the last element in the union list, \n",
    "    preventing duplicates from being added.\n",
    "\"\"\"\n",
    "\n",
    "\n",
    "class Solution:\n",
    "    def unionArray(self, nums1, nums2):\n",
    "        return self.result(nums1, nums2)\n",
    "\n",
    "    def result(self, nums1, nums2):\n",
    "        i = 0\n",
    "        j = 0\n",
    "        m = len(nums1)\n",
    "        n = len(nums2)\n",
    "        ans = []\n",
    "\n",
    "        # Keep running the loop until we reach the end of either array.\n",
    "        while i < m and j < n:\n",
    "            # Skip duplicates in ans\n",
    "            if nums1[i] == nums2[j]:  # If both elements are equal\n",
    "                if len(ans) == 0 or nums1[i] != ans[-1]:\n",
    "                    ans.append(nums1[i])\n",
    "                i += 1\n",
    "                j += 1\n",
    "            elif nums1[i] < nums2[j]:\n",
    "                if len(ans) == 0 or nums1[i] != ans[-1]:\n",
    "                    ans.append(nums1[i])\n",
    "                i += 1\n",
    "            else:\n",
    "                if len(ans) == 0 or nums2[j] != ans[-1]:\n",
    "                    ans.append(nums2[j])\n",
    "                j += 1\n",
    "\n",
    "        # Add remaining elements from nums1\n",
    "        while i < m:\n",
    "            if len(ans) == 0 or nums1[i] != ans[-1]:\n",
    "                ans.append(nums1[i])\n",
    "            i += 1\n",
    "\n",
    "        # Add remaining elements from nums2\n",
    "        while j < n:\n",
    "            if len(ans) == 0 or nums2[j] != ans[-1]:\n",
    "                ans.append(nums2[j])\n",
    "            j += 1\n",
    "\n",
    "        return ans\n",
    "\n",
    "\n",
    "# Example usage\n",
    "if __name__ == \"__main__\":\n",
    "    arr1 = [1,2,3,4]\n",
    "    arr2 = [5,6,7,8]\n",
    "\n",
    "    sol = Solution()\n",
    "    result = sol.unionArray(arr1, arr2)\n",
    "    print(result)"
   ]
  }
 ],
 "metadata": {
  "kernelspec": {
   "display_name": "DSA (3.11.13)",
   "language": "python",
   "name": "python3"
  },
  "language_info": {
   "codemirror_mode": {
    "name": "ipython",
    "version": 3
   },
   "file_extension": ".py",
   "mimetype": "text/x-python",
   "name": "python",
   "nbconvert_exporter": "python",
   "pygments_lexer": "ipython3",
   "version": "3.11.13"
  }
 },
 "nbformat": 4,
 "nbformat_minor": 5
}
