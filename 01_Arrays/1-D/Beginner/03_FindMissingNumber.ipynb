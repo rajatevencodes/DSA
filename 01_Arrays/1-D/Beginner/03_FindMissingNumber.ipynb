{
 "cells": [
  {
   "cell_type": "code",
   "execution_count": 2,
   "id": "7993f75c",
   "metadata": {},
   "outputs": [
    {
     "name": "stdout",
     "output_type": "stream",
     "text": [
      "4\n"
     ]
    }
   ],
   "source": [
    "# Brute Force\n",
    "\"\"\"Time  - O(n log n) : Space - O(1)\"\"\"\n",
    "\n",
    "class Solution:\n",
    "    def missingNumber(self, nums):\n",
    "        nums.sort() # Takes O(n log n)\n",
    "\n",
    "        # Edge case\n",
    "        if nums[0] != 0:\n",
    "            return 0\n",
    "\n",
    "        for i in range(len(nums) - 1):\n",
    "            if nums[i] + 1 != nums[i + 1]:\n",
    "                return i + 1\n",
    "\n",
    "        return len(nums)\n",
    "\n",
    "# Example usage\n",
    "if __name__ == \"__main__\":\n",
    "    arr = [0, 1, 2, 3]\n",
    "    sol = Solution()\n",
    "    result = sol.missingNumber(arr)\n",
    "    print(result)"
   ]
  },
  {
   "cell_type": "code",
   "execution_count": null,
   "id": "1edcd331",
   "metadata": {},
   "outputs": [
    {
     "name": "stdout",
     "output_type": "stream",
     "text": [
      "3\n"
     ]
    }
   ],
   "source": [
    "# Optimal Solution\n",
    "\n",
    "\"\"\"Time  - O(n) : Space - O(1)\"\"\"\n",
    "\n",
    "\"\"\"\n",
    "    Logic : Find the difference between the expected sum of the sequence\n",
    "    and the actual sum of the numbers present in the given array.\n",
    "\"\"\"\n",
    "\n",
    "\n",
    "class Solution:\n",
    "    def missingNumber(self, nums):\n",
    "        return self.result(nums)\n",
    "\n",
    "    def result(self, nums):\n",
    "        N = len(nums)\n",
    "\n",
    "        # Formula to calculate first N natural numbers\n",
    "        sum1 = (N * (N + 1)) // 2\n",
    "\n",
    "        # Summation of all elements in nums array\n",
    "        sum2 = 0\n",
    "        for num in nums:\n",
    "            sum2 += num\n",
    "\n",
    "        # Calculate the missing number\n",
    "        missingNum = sum1 - sum2\n",
    "\n",
    "        # Return the missing number\n",
    "        return missingNum\n",
    "\n",
    "\n",
    "# Example usage\n",
    "if __name__ == \"__main__\":\n",
    "    arr = [0, 1, 2, 4, 5, 6]\n",
    "    sol = Solution()\n",
    "    result = sol.missingNumber(arr)\n",
    "    print(result)"
   ]
  }
 ],
 "metadata": {
  "kernelspec": {
   "display_name": "DSA (3.11.13)",
   "language": "python",
   "name": "python3"
  },
  "language_info": {
   "codemirror_mode": {
    "name": "ipython",
    "version": 3
   },
   "file_extension": ".py",
   "mimetype": "text/x-python",
   "name": "python",
   "nbconvert_exporter": "python",
   "pygments_lexer": "ipython3",
   "version": "3.11.13"
  }
 },
 "nbformat": 4,
 "nbformat_minor": 5
}
