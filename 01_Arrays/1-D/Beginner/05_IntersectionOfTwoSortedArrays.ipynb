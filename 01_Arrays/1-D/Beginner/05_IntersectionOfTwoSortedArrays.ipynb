{
 "cells": [
  {
   "cell_type": "code",
   "execution_count": 1,
   "id": "08e3cd5d",
   "metadata": {},
   "outputs": [
    {
     "name": "stdout",
     "output_type": "stream",
     "text": [
      "[-45, 0, 0]\n"
     ]
    }
   ],
   "source": [
    "# Optimal Solution\n",
    "\"\"\"Time  - O(M) : Space - O(1) :: M is the lenght of the array which has less elements\"\"\"\n",
    "\n",
    "\"\"\"\n",
    "Logic:\n",
    "      Since both arrays are sorted, we can use two pointers (i for nums1 and j for nums2).\n",
    "    # If nums1[i] is smaller than nums2[j], we move the pointer i ahead because we need a larger value.\n",
    "    # If nums1[i] is greater than nums2[j], we move pointer j ahead to try and find a match.\n",
    "    # If nums1[i] is equal to nums2[j], it means we found a common element, and we add it to the result.\n",
    "\"\"\"\n",
    "\n",
    "class Solution:\n",
    "    def intersectionArray(self, nums1, nums2):\n",
    "        i = 0\n",
    "        j = 0\n",
    "        m = len(nums1)\n",
    "        n = len(nums2)\n",
    "        ans = []\n",
    "\n",
    "        while i < m and j < n:\n",
    "            if nums1[i] == nums2[j]:\n",
    "                ans.append(nums1[i])\n",
    "                i += 1\n",
    "                j += 1\n",
    "            elif nums1[i] < nums2[j]:\n",
    "                i += 1\n",
    "            elif nums1[i] > nums2[j]:\n",
    "                j += 1\n",
    "\n",
    "        return ans\n",
    "\n",
    "# Example usage\n",
    "if __name__ == \"__main__\":\n",
    "    arr1 = [-45, -45, 0, 0, 2]\n",
    "    arr2 = [-50, -45, 0, 0, 5, 7]\n",
    "    # Expected output: [-45, 0, 0]\n",
    "\n",
    "    sol = Solution()\n",
    "    result = sol.intersectionArray(arr1, arr2)\n",
    "    print(result)"
   ]
  }
 ],
 "metadata": {
  "kernelspec": {
   "display_name": "DSA (3.11.13)",
   "language": "python",
   "name": "python3"
  },
  "language_info": {
   "codemirror_mode": {
    "name": "ipython",
    "version": 3
   },
   "file_extension": ".py",
   "mimetype": "text/x-python",
   "name": "python",
   "nbconvert_exporter": "python",
   "pygments_lexer": "ipython3",
   "version": "3.11.13"
  }
 },
 "nbformat": 4,
 "nbformat_minor": 5
}
