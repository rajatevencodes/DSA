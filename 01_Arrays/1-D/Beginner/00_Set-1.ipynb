{
 "cells": [
  {
   "cell_type": "markdown",
   "id": "f7119a6e",
   "metadata": {},
   "source": [
    "_Basic_\n",
    "\n",
    "1. Sum of elements  \n",
    "2. Count of odd numbers  \n",
    "3. Reverse Array (Optimized)  \n",
    "4. Check if array is sorted    \n",
    "\n",
    "_Fundamentals_ \n",
    "\n",
    "5. Linear Search  \n",
    "6. Largest Element (Optimized)  \n",
    "7. Second Largest Element (Optimized)  \n",
    "8. Maximum Consecutive Ones  \n",
    "9. Rotate Array by One \n",
    "10. Left Rotate by K Places"
   ]
  },
  {
   "cell_type": "code",
   "execution_count": 6,
   "id": "c9aa3dfe",
   "metadata": {},
   "outputs": [
    {
     "name": "stdout",
     "output_type": "stream",
     "text": [
      "15\n"
     ]
    }
   ],
   "source": [
    "\"\"\"1. Sum of elements\"\"\"\n",
    "class Solution:\n",
    "    def sum(self, arr, n):\n",
    "        return self.result(arr, n)\n",
    "\n",
    "    def result(self, arr, n):\n",
    "        sum = 0\n",
    "        for i in range(len(arr)):\n",
    "            sum += arr[i]\n",
    "        return sum\n",
    "\n",
    "\n",
    "# Example usage\n",
    "if __name__ == \"__main__\":\n",
    "    N = 1\n",
    "    arr = [1, 2, 3, 4, 5]  # List\n",
    "    sol = Solution()\n",
    "    result = sol.sum(arr, N)\n",
    "    print(result)"
   ]
  },
  {
   "cell_type": "code",
   "execution_count": 7,
   "id": "8fd3e734",
   "metadata": {},
   "outputs": [
    {
     "name": "stdout",
     "output_type": "stream",
     "text": [
      "3\n"
     ]
    }
   ],
   "source": [
    "\"\"\"2. Count of odd numbers\"\"\"\n",
    "class Solution:\n",
    "    def countOdd(self, arr, n):\n",
    "        return self.result(arr, n)\n",
    "\n",
    "    def result(self, arr, n):\n",
    "        ans = []\n",
    "        for i in range(len(arr)):\n",
    "            if (arr[i] % 2) != 0:\n",
    "                ans.append(arr[i])\n",
    "        return len(ans)\n",
    "\n",
    "\n",
    "# Example usage\n",
    "if __name__ == \"__main__\":\n",
    "    N = 1\n",
    "    arr = [1, 2, 3, 4, 5]  # List\n",
    "    sol = Solution()\n",
    "    result = sol.countOdd(arr, N)\n",
    "    print(result)"
   ]
  },
  {
   "cell_type": "code",
   "execution_count": 8,
   "id": "b150d80e",
   "metadata": {},
   "outputs": [
    {
     "name": "stdout",
     "output_type": "stream",
     "text": [
      "[1, 5, 1, 1, 2, 1]\n"
     ]
    }
   ],
   "source": [
    "\"\"\"3. Reverse Array\"\"\"\n",
    "# ❌ Incorrect Approach:\n",
    "# This solution is incorrect because the problem explicitly requires reversing the array in place i.e. without creating a new array.\n",
    "class Solution:\n",
    "    def reverse(self, arr, n):\n",
    "        return self.result(arr, n)\n",
    "\n",
    "    def result(self, arr, n):\n",
    "        ans = []\n",
    "        for i in range(n - 1, -1, -1):\n",
    "            ans.append(arr[i])\n",
    "        return ans\n",
    "\n",
    "\n",
    "# 🎉 Better Approach - 2 Pointers\n",
    "class Solution:\n",
    "    def reverse(self, arr, n):\n",
    "        return self.result(arr, n)\n",
    "\n",
    "    def result(self, arr, n):\n",
    "        left = 0\n",
    "        right = len(arr) - 1\n",
    "\n",
    "        while left < right:\n",
    "            temp = arr[left]\n",
    "            arr[left] = arr[right]\n",
    "            arr[right] = temp\n",
    "            left += 1\n",
    "            right -= 1\n",
    "\n",
    "        return arr\n",
    "\n",
    "# Example usage\n",
    "if __name__ == \"__main__\":\n",
    "    n = 6\n",
    "    arr = [1, 2, 1, 1, 5, 1]  # List\n",
    "    sol = Solution()\n",
    "    result = sol.reverse(arr, n)\n",
    "    print(result)"
   ]
  },
  {
   "cell_type": "code",
   "execution_count": 9,
   "id": "d992b1dc",
   "metadata": {},
   "outputs": [
    {
     "name": "stdout",
     "output_type": "stream",
     "text": [
      "True\n"
     ]
    }
   ],
   "source": [
    "\"\"\"4. Check if array is sorted or not\"\"\"\n",
    "# Optimal Approach\n",
    "# O(n) time | O(1) space\n",
    "class Solution:\n",
    "    def arraySortedOrNot(self, arr, n):\n",
    "        return self.result(arr, n)\n",
    "\n",
    "    def result(self, arr, n):\n",
    "\n",
    "        for i in range(1, len(arr)):\n",
    "            # print(arr[i],arr[i-1])\n",
    "            if arr[i] < arr[i - 1]:\n",
    "                return False\n",
    "        return True\n",
    "\n",
    "\n",
    "# Example usage\n",
    "if __name__ == \"__main__\":\n",
    "    n = 6\n",
    "    arr = [1, 2, 3, 4]\n",
    "    sol = Solution()\n",
    "    result = sol.arraySortedOrNot(arr, n)\n",
    "    print(result)"
   ]
  },
  {
   "cell_type": "code",
   "execution_count": 10,
   "id": "ef64d410",
   "metadata": {},
   "outputs": [
    {
     "name": "stdout",
     "output_type": "stream",
     "text": [
      "5\n"
     ]
    }
   ],
   "source": [
    "\"\"\"5. Linear Search\"\"\"\n",
    "\"\"\"Time  - O(n) : Space - O(1)\"\"\"\n",
    "\n",
    "class Solution:\n",
    "    def linearSearch(self, nums, target):\n",
    "        return self.result(nums, target)\n",
    "\n",
    "    def result(self, nums, target):\n",
    "        for i in range(len(nums)):\n",
    "            if nums[i] == target:\n",
    "                return i\n",
    "        return -1\n",
    "\n",
    "\n",
    "# Example usage\n",
    "if __name__ == \"__main__\":\n",
    "    target = 6\n",
    "    arr = [2, -4, 4, 0, 10, 6]\n",
    "    sol = Solution()\n",
    "    result = sol.linearSearch(arr, target)\n",
    "    print(result)"
   ]
  },
  {
   "cell_type": "code",
   "execution_count": 11,
   "id": "ff82020a",
   "metadata": {},
   "outputs": [
    {
     "name": "stdout",
     "output_type": "stream",
     "text": [
      "0\n"
     ]
    }
   ],
   "source": [
    "\"\"\"6. Largest Element\"\"\"\n",
    "# Brute Force\n",
    "\"\"\"Time  - O(n log n) : Space - O(1)\"\"\"\n",
    "\n",
    "class Solution:\n",
    "    def largestElement(self, nums):\n",
    "        return self.result(nums)\n",
    "\n",
    "    def result(self, nums):\n",
    "        nums.sort()  # Uses Tim sort algo\n",
    "        largest = nums[-1]  # O(1)\n",
    "        return largest\n",
    "\n",
    "# Optimal Approach\n",
    "\"\"\" Time  - O(n) : Space - O(1) \"\"\"\n",
    "\n",
    "class Solution:\n",
    "    def largestElement(self, nums):\n",
    "        return self.result(nums)\n",
    "\n",
    "    def result(self, nums):\n",
    "        largest = nums[0]\n",
    "        for i in range(len(nums)):\n",
    "            if nums[i] > largest:\n",
    "                largest = nums[i]\n",
    "        return largest\n",
    "\n",
    "\n",
    "# Example usage\n",
    "if __name__ == \"__main__\":\n",
    "    arr = [-4, -3, 0, 0, -8]\n",
    "    sol = Solution()\n",
    "    result = sol.largestElement(arr)\n",
    "    print(result)"
   ]
  },
  {
   "cell_type": "code",
   "execution_count": null,
   "id": "3c2e5c35",
   "metadata": {},
   "outputs": [
    {
     "name": "stdout",
     "output_type": "stream",
     "text": [
      "-2\n"
     ]
    }
   ],
   "source": [
    "\"\"\"7. Second Largest Element\"\"\"\n",
    "# Brute force\n",
    "\"\"\"Time  - O(n log n) : Space - O(1)\"\"\"\n",
    "class Solution:\n",
    "    def secondLargestElement(self, nums):\n",
    "        return self.result(nums)\n",
    "\n",
    "    def result(self, nums):\n",
    "        # Edge case: if the size of the array is less than 2\n",
    "        if len(nums) < 2:\n",
    "            return -1\n",
    "\n",
    "        nums.sort()\n",
    "        largest = nums[0]\n",
    "        secondLargest = -1\n",
    "\n",
    "        for i in range(len(nums)):\n",
    "            if nums[i] > largest:\n",
    "                secondLargest = largest\n",
    "                largest = nums[i]\n",
    "        return secondLargest\n",
    "\n",
    "# Optimal Approach\n",
    "\"\"\" Time  - O(n) : Space - O(1) \"\"\"\n",
    "\n",
    "class Solution:\n",
    "    def secondLargestNumber(self, nums):\n",
    "        largest = float(\"-inf\")\n",
    "        secondLargest = float(\"-inf\")\n",
    "\n",
    "        for i in range(len(nums)):\n",
    "            if nums[i] > largest:\n",
    "                secondLargest = largest\n",
    "                largest = nums[i]\n",
    "            elif nums[i] > secondLargest and nums[i] != largest:\n",
    "                secondLargest = nums[i]\n",
    "\n",
    "        # Edge Case : If all the elements are same thus no second Largest\n",
    "        if secondLargest == float(\"-inf\"):\n",
    "            return -1\n",
    "\n",
    "        return secondLargest\n",
    "\n",
    "\n",
    "# Example usage\n",
    "if __name__ == \"__main__\":\n",
    "    arr = [-2, -1, -2, -1, -3, -4]\n",
    "    sol = Solution()\n",
    "    result = sol.secondLargestNumber(arr)\n",
    "    print(result)"
   ]
  },
  {
   "cell_type": "code",
   "execution_count": 13,
   "id": "363b1a1c",
   "metadata": {},
   "outputs": [
    {
     "name": "stdout",
     "output_type": "stream",
     "text": [
      "3\n"
     ]
    }
   ],
   "source": [
    "\"\"\"8. Maximum Consecutive Ones\"\"\"\n",
    "\"\"\"Time  - O(n) : Space - O(1)\"\"\"\n",
    "\n",
    "class Solution:\n",
    "    def findMaxConsecutiveOnes(self, nums):\n",
    "        return self.result(nums)\n",
    "\n",
    "    def result(self, nums):\n",
    "        counter = 0\n",
    "        ans = 0\n",
    "        for i in range(len(nums)):\n",
    "            if nums[i] == 1:\n",
    "                counter += 1\n",
    "                ans = max(counter, ans)\n",
    "            else:\n",
    "                counter = 0\n",
    "        return ans\n",
    "\n",
    "\n",
    "# Example usage\n",
    "if __name__ == \"__main__\":\n",
    "    arr = [0, 1, 1, 1, 0, 1]\n",
    "    sol = Solution()\n",
    "    result = sol.findMaxConsecutiveOnes(arr)\n",
    "    print(result)"
   ]
  },
  {
   "cell_type": "code",
   "execution_count": null,
   "id": "0afbd229",
   "metadata": {},
   "outputs": [
    {
     "name": "stdout",
     "output_type": "stream",
     "text": [
      "[2, 3, 4, 5, 1]\n"
     ]
    }
   ],
   "source": [
    "\"\"\"9. Rotate Array by One\"\"\"\n",
    "\"\"\"Time  - O(n) : Space - O(1)\"\"\"\n",
    "\n",
    "\n",
    "class Solution:\n",
    "    def rotateArrayByOne(self, nums):\n",
    "        return self.result(nums)\n",
    "\n",
    "    def result(self, nums):\n",
    "        firstElement = nums[0]\n",
    "        for i in range(len(nums) - 1):\n",
    "            nums[i] = nums[i + 1]\n",
    "        nums[len(nums) - 1] = firstElement\n",
    "        return nums\n",
    "\n",
    "    \"\"\" This code is not working because we need to modify the original array\"\"\"\n",
    "    # def result(self,nums):\n",
    "    #     nums = nums[1:] + nums[:1]\n",
    "    #     return nums\n",
    "\n",
    "\n",
    "# Example usage\n",
    "if __name__ == \"__main__\":\n",
    "    arr = [1, 2, 3, 4, 5]\n",
    "    sol = Solution()\n",
    "    result = sol.rotateArrayByOne(arr)\n",
    "    print(result)"
   ]
  },
  {
   "cell_type": "code",
   "execution_count": null,
   "id": "2b49476c",
   "metadata": {},
   "outputs": [
    {
     "name": "stdout",
     "output_type": "stream",
     "text": [
      "[2, 1, 3, 4, 5, 6]\n",
      "[2, 1, 6, 5, 4, 3]\n",
      "[3, 4, 5, 6, 1, 2]\n",
      "[3, 4, 5, 6, 1, 2]\n"
     ]
    }
   ],
   "source": [
    "\"\"\"10.Rotate Array by K\"\"\"\n",
    "\n",
    "# Brute Force\n",
    "\"\"\" Time  - O(n) : Space - O(n) \"\"\"\n",
    "\"\"\" Problem With Below Solution : We need to modify the original array and slicing returns a new array \"\"\"\n",
    "\n",
    "class Solution:\n",
    "    def rotateArray(self, nums, k):\n",
    "        return self.result(nums, k)\n",
    "\n",
    "    def result(self, nums, k):\n",
    "        k = k % len(nums)\n",
    "        nums = nums[k:] + nums[:k]\n",
    "        return nums\n",
    "\n",
    "# Optimal\n",
    "\"\"\"Time  - O(n) : Space - O(1)\"\"\"\n",
    "\n",
    "class Solution:\n",
    "    def rotateArray(self, nums, k):\n",
    "        return self.result(nums, k)\n",
    "\n",
    "    def result(self, nums, k):\n",
    "        k = k % len(nums)\n",
    "        self.reverseArray(nums, 0, k - 1)\n",
    "        # print(nums)\n",
    "        self.reverseArray(nums, k, len(nums) - 1)\n",
    "        # print(nums)\n",
    "        self.reverseArray(nums, 0, len(nums) - 1)\n",
    "        return nums\n",
    "\n",
    "    def reverseArray(self, nums, left, right):\n",
    "        while left <= right:\n",
    "            temp = nums[left]\n",
    "            nums[left] = nums[right]\n",
    "            nums[right] = temp\n",
    "            left += 1\n",
    "            right -= 1\n",
    "\n",
    "\n",
    "# Example usage\n",
    "if __name__ == \"__main__\":\n",
    "    arr = [1, 2, 3, 4, 5, 6]\n",
    "    k = 2\n",
    "    sol = Solution()\n",
    "    result = sol.rotateArray(arr, k)\n",
    "    print(result)"
   ]
  }
 ],
 "metadata": {
  "kernelspec": {
   "display_name": "DSA (3.11.13)",
   "language": "python",
   "name": "python3"
  },
  "language_info": {
   "codemirror_mode": {
    "name": "ipython",
    "version": 3
   },
   "file_extension": ".py",
   "mimetype": "text/x-python",
   "name": "python",
   "nbconvert_exporter": "python",
   "pygments_lexer": "ipython3",
   "version": "3.11.13"
  }
 },
 "nbformat": 4,
 "nbformat_minor": 5
}
