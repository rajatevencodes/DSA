{
 "cells": [
  {
   "cell_type": "markdown",
   "id": "b0840a8e",
   "metadata": {},
   "source": [
    "Count Inversion and Reverse Pairs are similar questions"
   ]
  },
  {
   "cell_type": "code",
   "execution_count": 2,
   "id": "7f50b386",
   "metadata": {},
   "outputs": [
    {
     "name": "stdout",
     "output_type": "stream",
     "text": [
      "10\n"
     ]
    }
   ],
   "source": [
    "# Brute Force\n",
    "\"\"\"Time : O(N^2) ; Space : O(1) \"\"\"\n",
    "class Solution:\n",
    "    def numberOfInversions(self, nums):\n",
    "        counter = 0\n",
    "        for i in range(len(nums) - 1):\n",
    "            for j in range(i + 1, len(nums)):\n",
    "                if nums[i] > nums[j]:\n",
    "                    counter += 1\n",
    "        return counter\n",
    "\n",
    "# Main function\n",
    "if __name__ == \"__main__\":\n",
    "    nums = [5, 4, 3, 2, 1]\n",
    "    sol = Solution()\n",
    "    print(sol.numberOfInversions(nums))\n"
   ]
  },
  {
   "cell_type": "code",
   "execution_count": null,
   "id": "46984c6d",
   "metadata": {},
   "outputs": [],
   "source": [
    "# Optimal Approach\n",
    "\"\"\"Time  - O(n log n) : Space - O(n)\"\"\""
   ]
  }
 ],
 "metadata": {
  "kernelspec": {
   "display_name": "DSA (3.11.13)",
   "language": "python",
   "name": "python3"
  },
  "language_info": {
   "codemirror_mode": {
    "name": "ipython",
    "version": 3
   },
   "file_extension": ".py",
   "mimetype": "text/x-python",
   "name": "python",
   "nbconvert_exporter": "python",
   "pygments_lexer": "ipython3",
   "version": "3.11.13"
  }
 },
 "nbformat": 4,
 "nbformat_minor": 5
}
