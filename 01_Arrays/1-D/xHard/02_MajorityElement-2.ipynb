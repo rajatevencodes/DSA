{
 "cells": [
  {
   "cell_type": "code",
   "execution_count": 10,
   "id": "ebad4f0d",
   "metadata": {},
   "outputs": [
    {
     "name": "stdout",
     "output_type": "stream",
     "text": [
      "[33, 11]\n",
      "[1, 3]\n",
      "[2, 3]\n"
     ]
    }
   ],
   "source": [
    "class Solution:\n",
    "    def majorityElementTwo(self, nums):\n",
    "        nums.sort()\n",
    "        n = len(nums)\n",
    "        counter = 1\n",
    "        # Using Set to avoid duplicates\n",
    "        # ans = []\n",
    "        ans = set()\n",
    "\n",
    "        for i in range(n - 1):\n",
    "            if nums[i] == nums[i + 1]:\n",
    "                counter += 1\n",
    "            else:\n",
    "                counter = 1\n",
    "\n",
    "            if counter > n // 3:\n",
    "                # ans.append(nums[i])\n",
    "                ans.add(nums[i])\n",
    "\n",
    "        # check the last element\n",
    "        if counter > n // 3:\n",
    "            ans.add(nums[-1])\n",
    "\n",
    "        return list(ans)\n",
    "\n",
    "\n",
    "if __name__ == \"__main__\":\n",
    "    arr = [11, 33, 33, 11, 33, 11]\n",
    "    arr2 = [1,3]\n",
    "    arr3 = [1, 2, 2, 3, 3, 3, 2, 2, 3]\n",
    "    sol = Solution()\n",
    "    print(sol.majorityElementTwo(arr))\n",
    "    print(sol.majorityElementTwo(arr2))\n",
    "    print(sol.majorityElementTwo(arr3))"
   ]
  },
  {
   "cell_type": "code",
   "execution_count": null,
   "id": "2345815e",
   "metadata": {},
   "outputs": [],
   "source": [
    "# Optimal Approach\n",
    "\"\"\"Time : O(N) ; Space : O(1) \"\"\"\n",
    "class Solution:\n",
    "    # Function to find repeating and missing numbers\n",
    "    def findMissingRepeatingNumbers(self, nums):\n",
    "\n",
    "        n = len(nums)\n",
    "\n",
    "        # Sum of first n natural numbers\n",
    "        SN = (n * (n + 1)) // 2\n",
    "\n",
    "        # Sum of squares of first n natural numbers\n",
    "        S2N = (n * (n + 1) * (2 * n + 1)) // 6\n",
    "\n",
    "        \"\"\" Calculate actual sum (S) and sum \n",
    "            of squares (S2) of array elements \"\"\"\n",
    "        S = 0\n",
    "        S2 = 0\n",
    "        for num in nums:\n",
    "            S += num\n",
    "            S2 += num * num\n",
    "\n",
    "        # Compute the difference values\n",
    "        val1 = S - SN\n",
    "\n",
    "        # S2 - S2n = X^2 - Y^2\n",
    "        val2 = S2 - S2N\n",
    "\n",
    "        # Calculate X + Y using X + Y = (X^2 - Y^2) / (X - Y)\n",
    "        val2 = val2 // val1\n",
    "\n",
    "        \"\"\" Calculate X and Y from X + Y and X - Y\n",
    "            X = ((X + Y) + (X - Y)) / 2\n",
    "            Y = X - (X - Y) \"\"\"\n",
    "        x = (val1 + val2) // 2\n",
    "        y = x - val1\n",
    "\n",
    "        # Return the results as [repeating, missing]\n",
    "        return [int(x), int(y)]\n",
    "\n",
    "if __name__ == \"__main__\":\n",
    "    arr = [11, 33, 33, 11, 33, 11]\n",
    "    arr2 = [1, 3]\n",
    "    arr3 = [1, 2, 2, 3, 3, 3, 2, 2, 3]\n",
    "    sol = Solution()\n",
    "    print(sol.majorityElementTwo(arr))\n",
    "    print(sol.majorityElementTwo(arr2))\n",
    "    print(sol.majorityElementTwo(arr3))"
   ]
  }
 ],
 "metadata": {
  "kernelspec": {
   "display_name": "DSA (3.11.13)",
   "language": "python",
   "name": "python3"
  },
  "language_info": {
   "codemirror_mode": {
    "name": "ipython",
    "version": 3
   },
   "file_extension": ".py",
   "mimetype": "text/x-python",
   "name": "python",
   "nbconvert_exporter": "python",
   "pygments_lexer": "ipython3",
   "version": "3.11.13"
  }
 },
 "nbformat": 4,
 "nbformat_minor": 5
}
