{
 "cells": [
  {
   "cell_type": "code",
   "execution_count": 10,
   "id": "ebad4f0d",
   "metadata": {},
   "outputs": [
    {
     "name": "stdout",
     "output_type": "stream",
     "text": [
      "[33, 11]\n",
      "[1, 3]\n",
      "[2, 3]\n"
     ]
    }
   ],
   "source": [
    "class Solution:\n",
    "    def majorityElementTwo(self, nums):\n",
    "        nums.sort()\n",
    "        n = len(nums)\n",
    "        counter = 1\n",
    "        # Using Set to avoid duplicates\n",
    "        # ans = []\n",
    "        ans = set()\n",
    "\n",
    "        for i in range(n - 1):\n",
    "            if nums[i] == nums[i + 1]:\n",
    "                counter += 1\n",
    "            else:\n",
    "                counter = 1\n",
    "\n",
    "            if counter > n // 3:\n",
    "                # ans.append(nums[i])\n",
    "                ans.add(nums[i])\n",
    "\n",
    "        # check the last element\n",
    "        if counter > n // 3:\n",
    "            ans.add(nums[-1])\n",
    "\n",
    "        return list(ans)\n",
    "\n",
    "\n",
    "if __name__ == \"__main__\":\n",
    "    arr = [11, 33, 33, 11, 33, 11]\n",
    "    arr2 = [1,3]\n",
    "    arr3 = [1, 2, 2, 3, 3, 3, 2, 2, 3]\n",
    "    sol = Solution()\n",
    "    print(sol.majorityElementTwo(arr))\n",
    "    print(sol.majorityElementTwo(arr2))\n",
    "    print(sol.majorityElementTwo(arr3))"
   ]
  }
 ],
 "metadata": {
  "kernelspec": {
   "display_name": "DSA (3.11.13)",
   "language": "python",
   "name": "python3"
  },
  "language_info": {
   "codemirror_mode": {
    "name": "ipython",
    "version": 3
   },
   "file_extension": ".py",
   "mimetype": "text/x-python",
   "name": "python",
   "nbconvert_exporter": "python",
   "pygments_lexer": "ipython3",
   "version": "3.11.13"
  }
 },
 "nbformat": 4,
 "nbformat_minor": 5
}
