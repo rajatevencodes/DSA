{
 "cells": [
  {
   "cell_type": "code",
   "execution_count": null,
   "id": "af9bddac",
   "metadata": {},
   "outputs": [
    {
     "name": "stdout",
     "output_type": "stream",
     "text": [
      "144\n"
     ]
    }
   ],
   "source": [
    "def max_product_subarray(nums):\n",
    "    \"\"\"\n",
    "    Finds the contiguous subarray with the largest product.\n",
    "    This is a modification of Kadane's algorithm.\n",
    "    \"\"\"\n",
    "    if not nums:\n",
    "        return 0\n",
    "\n",
    "    # Initialize with the first element's value\n",
    "    max_prod = nums[0]\n",
    "    min_prod = nums[0]\n",
    "    result = nums[0]\n",
    "\n",
    "    # Start loop from the second element\n",
    "    for i in range(1, len(nums)):\n",
    "        n = nums[i]\n",
    "\n",
    "        # When we see a new number, the new max_prod can be:\n",
    "        # 1. The number itself (n)\n",
    "        # 2. The number times the old max_prod (n * max_prod)\n",
    "        # 3. The number times the old min_prod (n * min_prod) -> This happens if n and min_prod are both negative\n",
    "\n",
    "        # We need to store old max_prod because it's used to calculate the new min_prod\n",
    "        temp_max = max(n, n * max_prod, n * min_prod)\n",
    "        min_prod = min(n, n * max_prod, n * min_prod)\n",
    "\n",
    "        max_prod = temp_max\n",
    "\n",
    "        # Update the overall result\n",
    "        result = max(result, max_prod)\n",
    "\n",
    "    return result\n",
    "\n",
    "\n",
    "# Example usage:\n",
    "nums = [1, -2, 3, 4, -4, -3]\n",
    "print(max_product_subarray(nums))  # Output: 144"
   ]
  }
 ],
 "metadata": {
  "kernelspec": {
   "display_name": "DSA (3.11.13)",
   "language": "python",
   "name": "python3"
  },
  "language_info": {
   "codemirror_mode": {
    "name": "ipython",
    "version": 3
   },
   "file_extension": ".py",
   "mimetype": "text/x-python",
   "name": "python",
   "nbconvert_exporter": "python",
   "pygments_lexer": "ipython3",
   "version": "3.11.13"
  }
 },
 "nbformat": 4,
 "nbformat_minor": 5
}
