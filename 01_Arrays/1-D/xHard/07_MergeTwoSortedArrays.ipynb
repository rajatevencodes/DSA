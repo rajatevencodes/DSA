{
 "cells": [
  {
   "cell_type": "code",
   "execution_count": null,
   "id": "85bec2d1",
   "metadata": {},
   "outputs": [
    {
     "name": "stdout",
     "output_type": "stream",
     "text": [
      "[-5, -3, -2, 1, 4, 5, 8]\n"
     ]
    }
   ],
   "source": [
    "\"\"\"Logic is different than what you are expecting\"\"\"\n",
    "class Solution:\n",
    "    def merge(self, nums1, m, nums2, n):\n",
    "        ans = []\n",
    "        i = 0\n",
    "        j = 0\n",
    "\n",
    "        while i < m and j < n:\n",
    "            if nums1[i] == nums2[j]:\n",
    "                ans.append(nums1[i])\n",
    "                i += 1\n",
    "                j += 1\n",
    "\n",
    "            elif nums1[i] > nums2[j]:\n",
    "                ans.append(nums2[j])\n",
    "                j += 1\n",
    "\n",
    "            elif nums1[i] < nums2[j]:\n",
    "                ans.append(nums1[i])\n",
    "                i += 1\n",
    "\n",
    "        while i < m:\n",
    "            ans.append(nums1[i])\n",
    "            i += 1\n",
    "\n",
    "        while j < n:\n",
    "            ans.append(nums2[j])\n",
    "            j += 1\n",
    "\n",
    "        return ans\n",
    "\n",
    "if __name__ == \"__main__\":\n",
    "    nums1 = [-5, -2, 4, 5]\n",
    "    nums2 = [-3, 1, 8]\n",
    "    m = 4\n",
    "    n = 3\n",
    "\n",
    "    # Create an instance of the Solution class\n",
    "    sol = Solution()\n",
    "\n",
    "    print(sol.merge(nums1, m, nums2, n))"
   ]
  }
 ],
 "metadata": {
  "kernelspec": {
   "display_name": "DSA (3.11.13)",
   "language": "python",
   "name": "python3"
  },
  "language_info": {
   "codemirror_mode": {
    "name": "ipython",
    "version": 3
   },
   "file_extension": ".py",
   "mimetype": "text/x-python",
   "name": "python",
   "nbconvert_exporter": "python",
   "pygments_lexer": "ipython3",
   "version": "3.11.13"
  }
 },
 "nbformat": 4,
 "nbformat_minor": 5
}
