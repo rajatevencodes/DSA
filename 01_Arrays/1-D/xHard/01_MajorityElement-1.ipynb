{
 "cells": [
  {
   "cell_type": "markdown",
   "id": "805eccc2",
   "metadata": {},
   "source": [
    "There are two types of questions commonly asked about the Majority Element:\n",
    "\n",
    "**Type 1:** Return the element that appears more than n/2 times.\n",
    "\n",
    "**Type 2:** Return the element that appears more than n/3 times."
   ]
  },
  {
   "cell_type": "code",
   "execution_count": 3,
   "id": "d6c66706",
   "metadata": {},
   "outputs": [
    {
     "name": "stdout",
     "output_type": "stream",
     "text": [
      "7\n",
      "1\n"
     ]
    }
   ],
   "source": [
    "# Brute Force\n",
    "\"\"\"Time : O(N log N) + O(N) ; Space : O(1)\"\"\"\n",
    "class Solution:\n",
    "    def majorityElement(self, nums):\n",
    "        nums.sort()\n",
    "        counter = 1\n",
    "        for i in range(len(nums) - 1):\n",
    "            if nums[i] == nums[i + 1]:\n",
    "                counter += 1\n",
    "            else:\n",
    "                counter = 1\n",
    "\n",
    "            if counter > len(nums) // 2:\n",
    "                return nums[i]\n",
    "\n",
    "\n",
    "if __name__ == \"__main__\":\n",
    "    arr = [7, 0, 0, 1, 7, 7, 2, 7, 7] # ans - 7\n",
    "    arr2 = [1, 1, 1, 2, 1, 2]  # ans - 1\n",
    "    sol = Solution()\n",
    "    print(sol.majorityElement(arr))\n",
    "    print(sol.majorityElement(arr2))"
   ]
  },
  {
   "cell_type": "code",
   "execution_count": null,
   "id": "b43c7d8a",
   "metadata": {},
   "outputs": [],
   "source": [
    "# Optimal Approach\n",
    "\"\"\"Time : ; Space : \"\"\""
   ]
  }
 ],
 "metadata": {
  "kernelspec": {
   "display_name": "DSA (3.11.13)",
   "language": "python",
   "name": "python3"
  },
  "language_info": {
   "codemirror_mode": {
    "name": "ipython",
    "version": 3
   },
   "file_extension": ".py",
   "mimetype": "text/x-python",
   "name": "python",
   "nbconvert_exporter": "python",
   "pygments_lexer": "ipython3",
   "version": "3.11.13"
  }
 },
 "nbformat": 4,
 "nbformat_minor": 5
}
