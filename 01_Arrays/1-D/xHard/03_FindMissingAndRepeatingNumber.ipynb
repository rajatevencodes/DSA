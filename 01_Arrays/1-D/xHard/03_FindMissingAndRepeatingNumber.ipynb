{
 "cells": [
  {
   "cell_type": "code",
   "execution_count": null,
   "id": "2596babc",
   "metadata": {},
   "outputs": [
    {
     "name": "stdout",
     "output_type": "stream",
     "text": [
      "[6, 9]\n",
      "[2, 2]\n"
     ]
    }
   ],
   "source": [
    "# Brute Force\n",
    "\"\"\"Time : O(N log N) ; Space : O(1) \"\"\"\n",
    "class Solution:\n",
    "    def findMissingRepeatingNumbers(self, nums):\n",
    "        ans = [None, None]\n",
    "        n = len(nums)\n",
    "        nums.sort()\n",
    "\n",
    "        # Edge case : nums = [2,2]\n",
    "        if nums[0] != 1:\n",
    "            ans[1] = 1\n",
    "\n",
    "        for i in range(n - 1):\n",
    "            # * Handling Repeat number\n",
    "            if nums[i] == nums[i + 1]:\n",
    "                ans[0] = nums[i]\n",
    "            # * Handling Missing number\n",
    "            elif nums[i] + 1 != nums[i + 1]:\n",
    "                ans[1] = nums[i] + 1\n",
    "\n",
    "        # If the missing number wasn't found in a gap, it must be the last number\n",
    "        if ans[1] is None:\n",
    "            ans[1] = n\n",
    "\n",
    "        return ans\n",
    "\n",
    "\n",
    "if __name__ == \"__main__\":\n",
    "    nums = [6, 5, 7, 1, 8, 6, 4, 3, 2]\n",
    "    nums2 = [2,2]\n",
    "    sol = Solution()\n",
    "    print(sol.findMissingRepeatingNumbers(nums))\n",
    "    print(sol.findMissingRepeatingNumbers(nums2))"
   ]
  },
  {
   "cell_type": "code",
   "execution_count": null,
   "id": "49e5c630",
   "metadata": {},
   "outputs": [],
   "source": [
    "# Optimal Approach\n",
    "\"\"\"Time : O(N) ; Space : O(1)\"\"\"\n",
    "\n",
    "\n",
    "class Solution:\n",
    "    # Function to find repeating and missing numbers\n",
    "    def findMissingRepeatingNumbers(self, nums):\n",
    "\n",
    "        n = len(nums)\n",
    "\n",
    "        # Sum of first n natural numbers\n",
    "        SN = (n * (n + 1)) // 2\n",
    "\n",
    "        # Sum of squares of first n natural numbers\n",
    "        S2N = (n * (n + 1) * (2 * n + 1)) // 6\n",
    "\n",
    "        \"\"\" Calculate actual sum (S) and sum \n",
    "            of squares (S2) of array elements \"\"\"\n",
    "        S = 0\n",
    "        S2 = 0\n",
    "        for num in nums:\n",
    "            S += num\n",
    "            S2 += num * num\n",
    "\n",
    "        # Compute the difference values\n",
    "        val1 = S - SN\n",
    "\n",
    "        # S2 - S2n = X^2 - Y^2\n",
    "        val2 = S2 - S2N\n",
    "\n",
    "        # Calculate X + Y using X + Y = (X^2 - Y^2) / (X - Y)\n",
    "        val2 = val2 // val1\n",
    "\n",
    "        \"\"\" Calculate X and Y from X + Y and X - Y\n",
    "            X = ((X + Y) + (X - Y)) / 2\n",
    "            Y = X - (X - Y) \"\"\"\n",
    "        x = (val1 + val2) // 2\n",
    "        y = x - val1\n",
    "\n",
    "        # Return the results as [repeating, missing]\n",
    "        return [int(x), int(y)]\n",
    "\n",
    "\n",
    "if __name__ == \"__main__\":\n",
    "    nums = [6, 5, 7, 1, 8, 6, 4, 3, 2]\n",
    "    nums2 = [2, 2]\n",
    "    sol = Solution()\n",
    "    print(sol.findMissingRepeatingNumbers(nums))\n",
    "    print(sol.findMissingRepeatingNumbers(nums2))"
   ]
  }
 ],
 "metadata": {
  "kernelspec": {
   "display_name": "DSA (3.11.13)",
   "language": "python",
   "name": "python3"
  },
  "language_info": {
   "codemirror_mode": {
    "name": "ipython",
    "version": 3
   },
   "file_extension": ".py",
   "mimetype": "text/x-python",
   "name": "python",
   "nbconvert_exporter": "python",
   "pygments_lexer": "ipython3",
   "version": "3.11.13"
  }
 },
 "nbformat": 4,
 "nbformat_minor": 5
}
