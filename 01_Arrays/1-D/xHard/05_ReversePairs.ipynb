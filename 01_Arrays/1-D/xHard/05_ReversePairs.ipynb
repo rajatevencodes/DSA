{
 "cells": [
  {
   "cell_type": "code",
   "execution_count": 1,
   "id": "47d79227",
   "metadata": {},
   "outputs": [
    {
     "name": "stdout",
     "output_type": "stream",
     "text": [
      "The number of reverse pairs is: 3\n"
     ]
    }
   ],
   "source": [
    "# Brute Force\n",
    "\"\"\"Time : O(N^2) ; Space : O(1) \"\"\"\n",
    "class Solution:\n",
    "    def reversePairs(self, nums):\n",
    "        counter = 0\n",
    "        for i in range(len(nums)):\n",
    "            for j in range(i + 1, len(nums)):\n",
    "                if nums[i] > 2 * nums[j]:\n",
    "                    counter += 1\n",
    "        return counter\n",
    "\n",
    "if __name__ == \"__main__\":\n",
    "    nums = [6, 4, 1, 2, 7]\n",
    "    sol = Solution()\n",
    "    cnt = sol.reversePairs(nums)\n",
    "    print(\"The number of reverse pairs is:\", cnt)"
   ]
  },
  {
   "cell_type": "code",
   "execution_count": null,
   "id": "73ee519c",
   "metadata": {},
   "outputs": [],
   "source": [
    "# Optimal Approach\n",
    "\"\"\"Time : O(N log N) ; Space : O(N) \"\"\""
   ]
  }
 ],
 "metadata": {
  "kernelspec": {
   "display_name": "DSA (3.11.13)",
   "language": "python",
   "name": "python3"
  },
  "language_info": {
   "codemirror_mode": {
    "name": "ipython",
    "version": 3
   },
   "file_extension": ".py",
   "mimetype": "text/x-python",
   "name": "python",
   "nbconvert_exporter": "python",
   "pygments_lexer": "ipython3",
   "version": "3.11.13"
  }
 },
 "nbformat": 4,
 "nbformat_minor": 5
}
