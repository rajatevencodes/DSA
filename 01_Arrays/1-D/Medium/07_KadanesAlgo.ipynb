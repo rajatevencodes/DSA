{
 "cells": [
  {
   "cell_type": "code",
   "execution_count": 2,
   "id": "324902e6",
   "metadata": {},
   "outputs": [
    {
     "name": "stdout",
     "output_type": "stream",
     "text": [
      "[1] [1, 2] [1, 2, 3] [1, 2, 3, 4] [1, 2, 3, 4, 5] \n",
      "[2] [2, 3] [2, 3, 4] [2, 3, 4, 5] \n",
      "[3] [3, 4] [3, 4, 5] \n",
      "[4] [4, 5] \n",
      "[5] \n"
     ]
    }
   ],
   "source": [
    "# Subarrays\n",
    "array = [1, 2, 3, 4, 5]\n",
    "for i in range(len(array)):\n",
    "    for j in range(i, len(array)):\n",
    "        print(array[i : j + 1], end=\" \")\n",
    "    print(\"\")"
   ]
  },
  {
   "cell_type": "code",
   "execution_count": 5,
   "id": "ec46b26f",
   "metadata": {},
   "outputs": [
    {
     "name": "stdout",
     "output_type": "stream",
     "text": [
      "15\n"
     ]
    }
   ],
   "source": [
    "# Maximum Subarray\n",
    "array = [2, 3, 5, -2, 7, -4]\n",
    "\n",
    "ans = -float(\"inf\")\n",
    "for i in range(len(array)):\n",
    "    sum = 0\n",
    "    for j in range(i, len(array)):\n",
    "        sum += array[j]\n",
    "        ans = max(ans, sum)\n",
    "print(ans)"
   ]
  },
  {
   "cell_type": "code",
   "execution_count": 11,
   "id": "6d8fd4f3",
   "metadata": {},
   "outputs": [
    {
     "name": "stdout",
     "output_type": "stream",
     "text": [
      "15\n"
     ]
    }
   ],
   "source": [
    "# Kadanes Algorithm\n",
    "class Solution:\n",
    "    def maxSubArray(self, nums):\n",
    "        sum = 0\n",
    "        ans = float(\"-inf\")\n",
    "        for i in range(len(nums)):\n",
    "            sum += nums[i]\n",
    "            ans = max(ans, sum)\n",
    "            if sum < 0:\n",
    "                sum = 0\n",
    "        return ans\n",
    "\n",
    "\n",
    "# Example usage\n",
    "if __name__ == \"__main__\":\n",
    "    arr = [2, 3, 5, -2, 7, -4]\n",
    "    sol = Solution()\n",
    "    result = sol.maxSubArray(arr)\n",
    "    print(result)"
   ]
  }
 ],
 "metadata": {
  "kernelspec": {
   "display_name": "DSA (3.11.13)",
   "language": "python",
   "name": "python3"
  },
  "language_info": {
   "codemirror_mode": {
    "name": "ipython",
    "version": 3
   },
   "file_extension": ".py",
   "mimetype": "text/x-python",
   "name": "python",
   "nbconvert_exporter": "python",
   "pygments_lexer": "ipython3",
   "version": "3.11.13"
  }
 },
 "nbformat": 4,
 "nbformat_minor": 5
}
