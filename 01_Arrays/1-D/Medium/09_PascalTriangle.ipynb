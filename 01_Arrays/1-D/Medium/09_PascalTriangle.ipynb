{
 "cells": [
  {
   "cell_type": "markdown",
   "id": "7b454327",
   "metadata": {},
   "source": [
    "_**3 Types of Pascal Triangle Questions are asked. The logic is the same for all three :)**_\n",
    "1. Given a row and column, tell me the element at that position in Pascal's triangle."
   ]
  },
  {
   "cell_type": "code",
   "execution_count": null,
   "id": "602059d3",
   "metadata": {},
   "outputs": [],
   "source": [
    "class Solution:\n",
    "    def pascalTriangleI(self, r, c):\n",
    "        # Note : They are starting row & col from 1 not '0'\n",
    "        r -= 1\n",
    "        c -= 1\n",
    "        res = 1\n",
    "        for i in range(c):\n",
    "            res = res * (r - i)\n",
    "            res = res // (i + 1)\n",
    "        return res\n",
    "\n",
    "if __name__ == \"__main__\":\n",
    "    r = 5 \n",
    "    c = 3\n",
    "    sol = Solution()\n",
    "    ans = sol.pascalTriangleI(r, c)"
   ]
  },
  {
   "cell_type": "markdown",
   "id": "33eae2bd",
   "metadata": {},
   "source": [
    "2. Print the nth row of Pascal's triangle."
   ]
  },
  {
   "cell_type": "code",
   "execution_count": 6,
   "id": "d8f56c9c",
   "metadata": {},
   "outputs": [
    {
     "name": "stdout",
     "output_type": "stream",
     "text": [
      "[1, 4, 6, 4, 1]\n"
     ]
    }
   ],
   "source": [
    "class Solution:\n",
    "    def pascalTriangleII(self, row):\n",
    "        result = [0] * row\n",
    "        result[0] = 1\n",
    "\n",
    "        ans = 1\n",
    "        c = row  # total no of col = no of row\n",
    "\n",
    "        # Calculate the rest of the elements\n",
    "        for col in range(1, c):\n",
    "            ans = ans * (row - col)\n",
    "            ans = ans // col\n",
    "            result[col] = ans\n",
    "\n",
    "        return result\n",
    "\n",
    "\n",
    "if __name__ == \"__main__\":\n",
    "    r = 5\n",
    "    sol = Solution()\n",
    "    ans = sol.pascalTriangleII(r)\n",
    "    print(ans)"
   ]
  },
  {
   "cell_type": "markdown",
   "id": "52d4652e",
   "metadata": {},
   "source": [
    "3. Print the entire Pascal triangle."
   ]
  },
  {
   "cell_type": "code",
   "execution_count": 8,
   "id": "c77df4a6",
   "metadata": {},
   "outputs": [
    {
     "name": "stdout",
     "output_type": "stream",
     "text": [
      "[1]\n",
      "[1, 1]\n",
      "[1, 2, 1]\n",
      "[1, 3, 3, 1]\n",
      "[1, 4, 6, 4, 1]\n"
     ]
    }
   ],
   "source": [
    "class Solution:\n",
    "    def pascalTriangleIII(self, n):\n",
    "        pascalTriangle = []\n",
    "\n",
    "        for i in range(1, n + 1):\n",
    "            row = self.nthRow(i)\n",
    "            pascalTriangle.append(row)\n",
    "\n",
    "        return pascalTriangle\n",
    "\n",
    "    def nthRow(self, r):\n",
    "        result = [0] * r\n",
    "        result[0] = 1\n",
    "\n",
    "        ans = 1\n",
    "        c = r  # total no of cols = no of rows\n",
    "\n",
    "        for col in range(1, c):\n",
    "            ans = ans * (r - col)\n",
    "            ans = ans // col\n",
    "            result[col] = ans\n",
    "\n",
    "        return result\n",
    "\n",
    "if __name__ == \"__main__\":\n",
    "    n = 5\n",
    "    sol = Solution()\n",
    "    ans = sol.pascalTriangleIII(n)\n",
    "    for row in ans:\n",
    "        print(row)\n",
    "    "
   ]
  }
 ],
 "metadata": {
  "kernelspec": {
   "display_name": "DSA (3.11.13)",
   "language": "python",
   "name": "python3"
  },
  "language_info": {
   "codemirror_mode": {
    "name": "ipython",
    "version": 3
   },
   "file_extension": ".py",
   "mimetype": "text/x-python",
   "name": "python",
   "nbconvert_exporter": "python",
   "pygments_lexer": "ipython3",
   "version": "3.11.13"
  }
 },
 "nbformat": 4,
 "nbformat_minor": 5
}
