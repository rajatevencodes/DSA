{
 "cells": [
  {
   "cell_type": "code",
   "execution_count": null,
   "id": "f4ec14f3",
   "metadata": {},
   "outputs": [
    {
     "name": "stdout",
     "output_type": "stream",
     "text": [
      "[-1, 0, 1]\n",
      "[-1, -1, 2]\n"
     ]
    }
   ],
   "source": [
    "# Brute Force\n",
    "\"\"\" Time : O(N^3) | Space : O(N) \"\"\"\n",
    "class Solution:\n",
    "    # Function to find triplets having sum equals to target\n",
    "    def threeSum(self, nums):\n",
    "        # Set to store unique triplets\n",
    "        triplet_set = set()\n",
    "        n = len(nums)\n",
    "        for i in range(n - 2):\n",
    "            for j in range(i + 1, n - 1):\n",
    "                for k in range(j + 1, n):\n",
    "                    if nums[i] + nums[j] + nums[k] == 0:\n",
    "                        temp = [nums[i], nums[j], nums[k]]\n",
    "                        \"\"\" Sort the triplet to ensure uniqueness when storing in set\"\"\"\n",
    "                        temp.sort()\n",
    "                        triplet_set.add(tuple(temp))\n",
    "\n",
    "        ans = [list(triplet) for triplet in triplet_set]\n",
    "        return ans\n",
    "\n",
    "\n",
    "if __name__ == \"__main__\":\n",
    "    nums = [-1, 0, 1, 2, -1, -4]\n",
    "    sol = Solution()\n",
    "    ans = sol.threeSum(nums)\n",
    "    for triplet in ans:\n",
    "        print(f\"[{', '.join(map(str, triplet))}]\")"
   ]
  },
  {
   "cell_type": "code",
   "execution_count": null,
   "id": "af62ea5f",
   "metadata": {},
   "outputs": [],
   "source": [
    "# Optimal Approach\n",
    "\"\"\" Time : O(N^2) | Space : O(1)\"\"\"\n",
    "\"\"\"\n",
    "    Note : The two-pointer approach is applicable here because \n",
    "    we only need to find the numbers, not their indices.\n",
    "\"\"\"\n",
    "class Solution:\n",
    "    def threeSum(self, nums):\n",
    "        nums.sort()\n",
    "        target = 0\n",
    "        ans = []\n",
    "        for k in range(len(nums) - 2):\n",
    "\n",
    "            # Skip duplicate values for k\n",
    "            if k > 0 and nums[k] == nums[k - 1]:\n",
    "                continue\n",
    "\n",
    "            i = k + 1\n",
    "            j = len(nums) - 1\n",
    "            while i < j:\n",
    "                sum = nums[i] + nums[j] + nums[k]\n",
    "                if sum == target:\n",
    "\n",
    "                    ans.append([nums[k], nums[i], nums[j]])\n",
    "\n",
    "                    # Move i and j, but skip duplicates\n",
    "                    while i < j and nums[i] == nums[i + 1]:\n",
    "                        i += 1\n",
    "                    while i < j and nums[j] == nums[j - 1]:\n",
    "                        j -= 1\n",
    "\n",
    "                    i += 1\n",
    "                    j -= 1\n",
    "                elif sum > target:\n",
    "                    j -= 1\n",
    "                elif sum < target:\n",
    "                    i += 1\n",
    "        return ans\n",
    "\n",
    "\n",
    "# Example usage\n",
    "if __name__ == \"__main__\":\n",
    "    arr = [2, -1, -1, 3, -1]\n",
    "    # target = 0\n",
    "    sol = Solution()\n",
    "    result = sol.threeSum(arr)\n",
    "    print(result)"
   ]
  }
 ],
 "metadata": {
  "kernelspec": {
   "display_name": "DSA (3.11.13)",
   "language": "python",
   "name": "python3"
  },
  "language_info": {
   "codemirror_mode": {
    "name": "ipython",
    "version": 3
   },
   "file_extension": ".py",
   "mimetype": "text/x-python",
   "name": "python",
   "nbconvert_exporter": "python",
   "pygments_lexer": "ipython3",
   "version": "3.11.13"
  }
 },
 "nbformat": 4,
 "nbformat_minor": 5
}
