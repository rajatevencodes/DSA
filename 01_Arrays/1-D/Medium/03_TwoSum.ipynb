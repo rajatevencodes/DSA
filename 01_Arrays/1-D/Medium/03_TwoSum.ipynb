{
 "cells": [
  {
   "cell_type": "code",
   "execution_count": 2,
   "id": "47d83292",
   "metadata": {},
   "outputs": [
    {
     "name": "stdout",
     "output_type": "stream",
     "text": [
      "[1, 5]\n"
     ]
    }
   ],
   "source": [
    "# Brute Force\n",
    "\"\"\"Time : O(n^2) , Space - O(1)\"\"\"\n",
    "class Solution:\n",
    "    def twoSum(self, nums, target):\n",
    "        for i in range(len(nums)):\n",
    "            for j in range(len(nums)):\n",
    "                if nums[i] + nums[j] == target:\n",
    "                    return [i, j]\n",
    "        return [-1, -1]\n",
    "\n",
    "# Example usage\n",
    "if __name__ == \"__main__\":\n",
    "    arr = [1, 3, 5, -7, 6, -3]\n",
    "    target = 0\n",
    "    sol = Solution()\n",
    "    result = sol.twoSum(arr, target)\n",
    "    print(result)"
   ]
  },
  {
   "cell_type": "code",
   "execution_count": null,
   "id": "71522c35",
   "metadata": {},
   "outputs": [
    {
     "name": "stdout",
     "output_type": "stream",
     "text": [
      "Result (original indices): [5, 1]\n"
     ]
    }
   ],
   "source": [
    "# TODO : Make notes of this approach\n",
    "class Solution:\n",
    "    def twoSum(self, nums, target):\n",
    "        # 1)2D list to store [value,original_index] pairs\n",
    "        pairs = []\n",
    "        for i in range(len(nums)):\n",
    "            pairs.append([nums[i], i])\n",
    "\n",
    "        # * Debug : Show mapping before sorting\n",
    "        # print(\"Pairs before sort:\", pairs)\n",
    "\n",
    "        # 2) Sort pairs based on values that is pairs[row][0]\n",
    "        pairs.sort(key=lambda singlePair: singlePair[0])\n",
    "\n",
    "        # * Debug : Show mapping after sorting\n",
    "        # print(\"Pairs after sort: \", pairs)\n",
    "\n",
    "        # 3) Two-pointer search on sorted pairs (by value)\n",
    "        left = 0\n",
    "        right = len(pairs) - 1\n",
    "        while left < right:\n",
    "            current_sum = pairs[left][0] + pairs[right][0]\n",
    "            if current_sum == target:\n",
    "                # return original indices stored in the pairs\n",
    "                return [pairs[left][1], pairs[right][1]]\n",
    "            elif current_sum < target:\n",
    "                left += 1\n",
    "            else:\n",
    "                right -= 1\n",
    "\n",
    "        return [-1, -1]\n",
    "\n",
    "\n",
    "# Example usage\n",
    "if __name__ == \"__main__\":\n",
    "    arr = [1, 3, 5, -7, 6, -3]\n",
    "    target = 0\n",
    "    sol = Solution()\n",
    "    result = sol.twoSum(arr, target)\n",
    "    print(\"Result (original indices):\", result)"
   ]
  }
 ],
 "metadata": {
  "kernelspec": {
   "display_name": "DSA (3.11.13)",
   "language": "python",
   "name": "python3"
  },
  "language_info": {
   "codemirror_mode": {
    "name": "ipython",
    "version": 3
   },
   "file_extension": ".py",
   "mimetype": "text/x-python",
   "name": "python",
   "nbconvert_exporter": "python",
   "pygments_lexer": "ipython3",
   "version": "3.11.13"
  }
 },
 "nbformat": 4,
 "nbformat_minor": 5
}
