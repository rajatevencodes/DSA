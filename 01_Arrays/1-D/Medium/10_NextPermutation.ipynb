{
 "cells": [
  {
   "cell_type": "code",
   "execution_count": null,
   "id": "26597bfa",
   "metadata": {},
   "outputs": [
    {
     "name": "stdout",
     "output_type": "stream",
     "text": [
      "[5, 7, 9, 4, 1, 2, 3, 5]\n"
     ]
    }
   ],
   "source": [
    "class Solution(object):\n",
    "    def nextPermutation(self, nums):\n",
    "        n = len(nums)\n",
    "        p = -1\n",
    "\n",
    "        # Step 1: Find the largest index p such that nums[p] < nums[p + 1]\n",
    "        for i in range(n - 2, -1, -1):\n",
    "            if nums[i] < nums[i + 1]:\n",
    "                p = i\n",
    "                break\n",
    "\n",
    "        # If no such index exists, reverse the entire array\n",
    "        if p == -1:\n",
    "            nums.reverse()\n",
    "            return nums\n",
    "\n",
    "        # Step 2: Find the largest index q greater than p such that nums[p] < nums[q]\n",
    "        for j in range(n - 1, p, -1):\n",
    "            if nums[j] > nums[p]:\n",
    "                q = j\n",
    "                break\n",
    "\n",
    "        # Step 3: Swap the value of nums[p] with that of nums[q]\n",
    "        nums[p], nums[q] = nums[q], nums[p]\n",
    "\n",
    "        # Step 4: Reverse the sequence from nums[p + 1] to the end\n",
    "        self.reverse(nums, p + 1, n - 1)\n",
    "\n",
    "        return nums  # Return the modified array\n",
    "\n",
    "    def reverse(self, nums, start, end):\n",
    "        while start < end:\n",
    "            nums[start], nums[end] = nums[end], nums[start]\n",
    "            start += 1\n",
    "            end -= 1\n",
    "\n",
    "\n",
    "# Example usage\n",
    "if __name__ == \"__main__\":\n",
    "    arr = [5, 7, 9, 3, 5, 4, 2, 1]\n",
    "    sol = Solution()\n",
    "    result = sol.nextPermutation(arr)\n",
    "    print(result)"
   ]
  }
 ],
 "metadata": {
  "kernelspec": {
   "display_name": "DSA (3.11.13)",
   "language": "python",
   "name": "python3"
  },
  "language_info": {
   "codemirror_mode": {
    "name": "ipython",
    "version": 3
   },
   "file_extension": ".py",
   "mimetype": "text/x-python",
   "name": "python",
   "nbconvert_exporter": "python",
   "pygments_lexer": "ipython3",
   "version": "3.11.13"
  }
 },
 "nbformat": 4,
 "nbformat_minor": 5
}
