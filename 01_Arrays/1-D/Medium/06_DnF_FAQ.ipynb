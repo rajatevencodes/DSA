{
 "cells": [
  {
   "cell_type": "code",
   "execution_count": 1,
   "id": "7ee9cbff",
   "metadata": {},
   "outputs": [
    {
     "name": "stdout",
     "output_type": "stream",
     "text": [
      "[0, 0, 1, 1, 2]\n"
     ]
    }
   ],
   "source": [
    "# DNF algo\n",
    "# Dutch National Flag: Sorting in Linear Time\n",
    "class Solution:\n",
    "    def sortZeroOneTwo(self, nums):\n",
    "        return self.result(nums)\n",
    "\n",
    "    def result(self, nums):\n",
    "        left = 0\n",
    "        right = len(nums) - 1\n",
    "        mid = 0\n",
    "        while mid <= right:\n",
    "            if nums[mid] == 0:  # Check for 0\n",
    "                self.swap(nums, mid, left)\n",
    "                left += 1\n",
    "                mid += 1\n",
    "            elif nums[mid] == 1:  # Check for 1\n",
    "                mid += 1\n",
    "            else:  # Check for 2\n",
    "                self.swap(nums, mid, right)\n",
    "                right -= 1\n",
    "\n",
    "        return nums\n",
    "\n",
    "    def swap(self, nums, i, j):\n",
    "        t = nums[i]\n",
    "        nums[i] = nums[j]\n",
    "        nums[j] = t\n",
    "\n",
    "\n",
    "# Example usage\n",
    "if __name__ == \"__main__\":\n",
    "    arr = [1, 0, 2, 1, 0]\n",
    "    sol = Solution()\n",
    "    result = sol.sortZeroOneTwo(arr)\n",
    "    print(result)  # Output should be sorted as [0, 0, 1, 1, 2]"
   ]
  }
 ],
 "metadata": {
  "kernelspec": {
   "display_name": "DSA (3.11.13)",
   "language": "python",
   "name": "python3"
  },
  "language_info": {
   "codemirror_mode": {
    "name": "ipython",
    "version": 3
   },
   "file_extension": ".py",
   "mimetype": "text/x-python",
   "name": "python",
   "nbconvert_exporter": "python",
   "pygments_lexer": "ipython3",
   "version": "3.11.13"
  }
 },
 "nbformat": 4,
 "nbformat_minor": 5
}
