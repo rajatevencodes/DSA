{
 "cells": [
  {
   "cell_type": "code",
   "execution_count": null,
   "id": "aa53cdd0",
   "metadata": {},
   "outputs": [],
   "source": [
    "# Brute Force\n",
    "# O (n log n)\n",
    "class Solution:\n",
    "    def rearrangeArray(self, nums):\n",
    "        return self.result(nums)\n",
    "\n",
    "    def result(self, nums):\n",
    "        copy = sorted(nums)\n",
    "        # print(copy)\n",
    "\n",
    "        i = len(nums) // 2 - 1\n",
    "        j = len(nums) // 2\n",
    "\n",
    "        ans = []\n",
    "        while i > -1 and j < len(nums):\n",
    "            ans.append(copy[j])\n",
    "            ans.append(copy[i])\n",
    "            i -= 1\n",
    "            j += 1\n",
    "\n",
    "        return ans\n",
    "\n",
    "\n",
    "# Example usage\n",
    "if __name__ == \"__main__\":\n",
    "    arr = [2, 4, 5, -1, -3, -4]\n",
    "    sol = Solution()\n",
    "    result = sol.rearrangeArray(arr)\n",
    "    print(result)"
   ]
  },
  {
   "cell_type": "code",
   "execution_count": null,
   "id": "738b28c3",
   "metadata": {},
   "outputs": [],
   "source": [
    "# Optimal Approach\n",
    "# O (n)\n",
    "class Solution:\n",
    "    def rearrangeArray(self, nums):\n",
    "        return self.result(nums)\n",
    "\n",
    "    def result(self, nums):\n",
    "        posIndex = 0\n",
    "        negIndex = 1\n",
    "\n",
    "        ans = [0] * len(nums)\n",
    "\n",
    "        for i in range(len(nums)):\n",
    "            # Negative\n",
    "            if nums[i] < 0:\n",
    "                ans[negIndex] = nums[i]\n",
    "                negIndex += 2\n",
    "            # Positive\n",
    "            else:\n",
    "                ans[posIndex] = nums[i]\n",
    "                posIndex += 2\n",
    "\n",
    "        return ans\n",
    "\n",
    "\n",
    "# Example usage\n",
    "if __name__ == \"__main__\":\n",
    "    arr = [2, 4, 5, -1, -3, -4]\n",
    "    sol = Solution()\n",
    "    result = sol.rearrangeArray(arr)\n",
    "    print(result)"
   ]
  }
 ],
 "metadata": {
  "language_info": {
   "name": "python"
  }
 },
 "nbformat": 4,
 "nbformat_minor": 5
}
