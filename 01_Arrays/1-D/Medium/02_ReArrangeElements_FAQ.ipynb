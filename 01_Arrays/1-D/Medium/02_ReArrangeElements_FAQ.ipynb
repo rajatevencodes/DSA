{
 "cells": [
  {
   "cell_type": "code",
   "execution_count": null,
   "id": "aa53cdd0",
   "metadata": {},
   "outputs": [
    {
     "name": "stdout",
     "output_type": "stream",
     "text": [
      "[2, -1, 4, -3, 5, -4]\n"
     ]
    }
   ],
   "source": [
    "# Brute Force\n",
    "\"\"\"Time  - O(n) : Space - O(n)\"\"\"\n",
    "class Solution:\n",
    "    def rearrangeArray(self, nums):\n",
    "        pos = []\n",
    "        neg = []\n",
    "\n",
    "        for i in range(len(nums)):\n",
    "            if nums[i] > 0:\n",
    "                pos.append(nums[i])\n",
    "            else:\n",
    "                neg.append(nums[i])\n",
    "\n",
    "        for i in range(len(nums) // 2):\n",
    "            nums[2 * i] = pos[i]\n",
    "            nums[2 * i + 1] = neg[i]\n",
    "\n",
    "        return nums\n",
    "\n",
    "# Example usage\n",
    "if __name__ == \"__main__\":\n",
    "    arr = [2, 4, 5, -1, -3, -4]\n",
    "    sol = Solution()\n",
    "    result = sol.rearrangeArray(arr)\n",
    "    print(result)"
   ]
  },
  {
   "cell_type": "code",
   "execution_count": null,
   "id": "738b28c3",
   "metadata": {},
   "outputs": [
    {
     "name": "stdout",
     "output_type": "stream",
     "text": [
      "[2, -1, 4, -3, 5, -4]\n"
     ]
    }
   ],
   "source": [
    "# Optimal Approach\n",
    "\"\"\"Time  - O(n) : Space - O(n)\"\"\"\n",
    "class Solution:\n",
    "    def rearrangeArray(self, nums):\n",
    "        posIdx = 0\n",
    "        negIdx = 1\n",
    "\n",
    "        ans = [0] * len(nums)\n",
    "\n",
    "        for i in range(len(nums)):\n",
    "            if nums[i] > 0:\n",
    "                ans[posIdx] = nums[i]\n",
    "                posIdx += 2\n",
    "            else:\n",
    "                ans[negIdx] = nums[i]\n",
    "                negIdx += 2\n",
    "\n",
    "        return ans\n",
    "\n",
    "\n",
    "# Example usage\n",
    "if __name__ == \"__main__\":\n",
    "    arr = [2, 4, 5, -1, -3, -4]\n",
    "    sol = Solution()\n",
    "    result = sol.rearrangeArray(arr)\n",
    "    print(result)"
   ]
  }
 ],
 "metadata": {
  "kernelspec": {
   "display_name": "DSA (3.11.13)",
   "language": "python",
   "name": "python3"
  },
  "language_info": {
   "codemirror_mode": {
    "name": "ipython",
    "version": 3
   },
   "file_extension": ".py",
   "mimetype": "text/x-python",
   "name": "python",
   "nbconvert_exporter": "python",
   "pygments_lexer": "ipython3",
   "version": "3.11.13"
  }
 },
 "nbformat": 4,
 "nbformat_minor": 5
}
