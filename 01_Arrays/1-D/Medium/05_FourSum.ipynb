{
 "cells": [
  {
   "cell_type": "code",
   "execution_count": 1,
   "id": "adbe8bc2",
   "metadata": {},
   "outputs": [
    {
     "name": "stdout",
     "output_type": "stream",
     "text": [
      "The quadruplets are: \n",
      "[1, 2, 2, 4]\n",
      "[1, 2, 3, 3]\n",
      "[1, 1, 3, 4]\n"
     ]
    }
   ],
   "source": [
    "# Brute Force\n",
    "\"\"\"Time : O(N^4) | Space : O(no. of the quadruplets)\"\"\"\n",
    "class Solution:\n",
    "    def fourSum(self, nums, target):\n",
    "        triplet_set = set()\n",
    "        size = len(nums)\n",
    "        for i in range(size - 3):\n",
    "            for j in range(i + 1, size - 2):\n",
    "                for k in range(j + 1, size - 1):\n",
    "                    for l in range(k + 1, size):\n",
    "                        if nums[i] + nums[j] + nums[k] + nums[l] == target:\n",
    "                            temp = [nums[i], nums[j], nums[k], nums[l]]\n",
    "                            temp.sort()\n",
    "                            triplet_set.add(tuple(temp))\n",
    "        ans = [list(triplet) for triplet in triplet_set]\n",
    "        return ans\n",
    "\n",
    "\n",
    "if __name__ == \"__main__\":\n",
    "    nums = [4, 3, 3, 4, 4, 2, 1, 2, 1, 1]\n",
    "    target = 9\n",
    "    sol = Solution()\n",
    "    ans = sol.fourSum(nums, target)\n",
    "    print(\"The quadruplets are: \")\n",
    "    for quad in ans:\n",
    "        print(f\"[{', '.join(map(str, quad))}]\")"
   ]
  },
  {
   "cell_type": "code",
   "execution_count": 3,
   "id": "9a75cbd5",
   "metadata": {},
   "outputs": [
    {
     "name": "stdout",
     "output_type": "stream",
     "text": [
      "The quadruplets are: \n",
      "[1, 1, 3, 4]\n",
      "[1, 2, 2, 4]\n",
      "[1, 2, 3, 3]\n"
     ]
    }
   ],
   "source": [
    "# Optimal Approach\n",
    "\"\"\"Time  - O(n^3) : Space - O(no. of the quadruplets)\"\"\"\n",
    "\n",
    "class Solution:\n",
    "    def fourSum(self, nums,target):\n",
    "        ans = []\n",
    "        n = len(nums)\n",
    "\n",
    "        # Sort the input array nums\n",
    "        nums.sort()\n",
    "\n",
    "        # Iterate through the array to find quadruplets\n",
    "        for i in range(n):\n",
    "            # Skip duplicates for i\n",
    "            if i > 0 and nums[i] == nums[i - 1]:\n",
    "                continue\n",
    "\n",
    "            for j in range(i + 1, n):\n",
    "                # Skip duplicates for j\n",
    "                if j > i + 1 and nums[j] == nums[j - 1]:\n",
    "                    continue\n",
    "\n",
    "                # Two pointers approach\n",
    "                k = j + 1\n",
    "                l = n - 1\n",
    "\n",
    "                while k < l:\n",
    "                    sum_val = nums[i] + nums[j] + nums[k] + nums[l]\n",
    "\n",
    "                    if sum_val == target:\n",
    "                        # Found a quadruplet that sums up to target\n",
    "                        temp = [nums[i], nums[j], nums[k], nums[l]]\n",
    "                        ans.append(temp)\n",
    "\n",
    "                        # Skip duplicates for k and l\n",
    "                        k += 1\n",
    "                        l -= 1\n",
    "                        while k < l and nums[k] == nums[k - 1]:\n",
    "                            k += 1\n",
    "                        while k < l and nums[l] == nums[l + 1]:\n",
    "                            l -= 1\n",
    "                    elif sum_val < target:\n",
    "                        k += 1\n",
    "                    else:\n",
    "                        l -= 1\n",
    "\n",
    "        return ans\n",
    "\n",
    "\n",
    "if __name__ == \"__main__\":\n",
    "    nums = [4, 3, 3, 4, 4, 2, 1, 2, 1, 1]\n",
    "    target = 9\n",
    "    sol = Solution()\n",
    "    ans = sol.fourSum(nums, target)\n",
    "    print(\"The quadruplets are: \")\n",
    "    for quad in ans:\n",
    "        print(f\"[{', '.join(map(str, quad))}]\")"
   ]
  }
 ],
 "metadata": {
  "kernelspec": {
   "display_name": "DSA (3.11.13)",
   "language": "python",
   "name": "python3"
  },
  "language_info": {
   "codemirror_mode": {
    "name": "ipython",
    "version": 3
   },
   "file_extension": ".py",
   "mimetype": "text/x-python",
   "name": "python",
   "nbconvert_exporter": "python",
   "pygments_lexer": "ipython3",
   "version": "3.11.13"
  }
 },
 "nbformat": 4,
 "nbformat_minor": 5
}
