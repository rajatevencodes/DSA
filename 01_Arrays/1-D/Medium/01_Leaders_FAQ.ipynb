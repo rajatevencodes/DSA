{
 "cells": [
  {
   "cell_type": "code",
   "execution_count": null,
   "id": "5ec16b96",
   "metadata": {},
   "outputs": [
    {
     "name": "stdout",
     "output_type": "stream",
     "text": [
      "[5, 1, -4, -5]\n"
     ]
    }
   ],
   "source": [
    "\"\"\"Question is simple If the greater to any one to its right then it's a leader\"\"\"\n",
    "\"\"\" Time  - O(n) : Space - O(n)  \"\"\"\n",
    "\n",
    "class Solution:\n",
    "    def leaders(self, nums):\n",
    "        ans = []\n",
    "        maxValue = nums[-1]\n",
    "        ans.append(maxValue)\n",
    "\n",
    "        # Check elements right to left\n",
    "        for i in range(len(nums) - 2, -1, -1):\n",
    "            if maxValue < nums[i]:\n",
    "                ans.append(nums[i])\n",
    "                maxValue = nums[i]\n",
    "\n",
    "        ans.reverse()\n",
    "        return ans\n",
    "\n",
    "\n",
    "# Example usage\n",
    "if __name__ == \"__main__\":\n",
    "    arr = [-3, 4, 5, 1, -4, -5]\n",
    "    sol = Solution()\n",
    "    result = sol.leaders(arr)\n",
    "    print(result)"
   ]
  }
 ],
 "metadata": {
  "kernelspec": {
   "display_name": "DSA (3.11.13)",
   "language": "python",
   "name": "python3"
  },
  "language_info": {
   "codemirror_mode": {
    "name": "ipython",
    "version": 3
   },
   "file_extension": ".py",
   "mimetype": "text/x-python",
   "name": "python",
   "nbconvert_exporter": "python",
   "pygments_lexer": "ipython3",
   "version": "3.11.13"
  }
 },
 "nbformat": 4,
 "nbformat_minor": 5
}
