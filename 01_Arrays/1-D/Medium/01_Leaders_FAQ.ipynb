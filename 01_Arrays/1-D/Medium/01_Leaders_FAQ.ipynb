{
 "cells": [
  {
   "cell_type": "code",
   "execution_count": null,
   "id": "5ec16b96",
   "metadata": {},
   "outputs": [],
   "source": [
    "# Optimal Solution\n",
    "\n",
    "\"\"\"Question is simple If the greater to any one to its right then it's a leader\"\"\"\n",
    "\n",
    "\"\"\" Time  - O(n) : Space - O(n)  \"\"\"\n",
    "\n",
    "class Solution:\n",
    "    def leaders(self, nums):\n",
    "        return self.result(nums)\n",
    "\n",
    "    def result(self, nums):\n",
    "        ans = []\n",
    "\n",
    "        maxValue = nums[-1]\n",
    "        ans.append(maxValue)\n",
    "\n",
    "        # Check elements left to right\n",
    "        for i in range(len(nums) - 2, -1, -1):\n",
    "            if maxValue < nums[i]:\n",
    "                ans.append(nums[i])\n",
    "                maxValue = nums[i]\n",
    "\n",
    "        ans.reverse()\n",
    "        return ans\n",
    "\n",
    "\n",
    "# Example usage\n",
    "if __name__ == \"__main__\":\n",
    "    arr = [-3, 4, 5, 1, -4, -5]\n",
    "    sol = Solution()\n",
    "    result = sol.leaders(arr)\n",
    "    print(result)"
   ]
  }
 ],
 "metadata": {
  "language_info": {
   "name": "python"
  }
 },
 "nbformat": 4,
 "nbformat_minor": 5
}
