{
 "cells": [
  {
   "cell_type": "markdown",
   "id": "d25bc0dc",
   "metadata": {},
   "source": [
    "\n",
    "[Maximum sum circular subarray ↗](https://leetcode.com/problems/maximum-sum-circular-subarray/description/) problem from LeetCode.\n"
   ]
  },
  {
   "cell_type": "code",
   "execution_count": null,
   "id": "22182eba",
   "metadata": {},
   "outputs": [],
   "source": [
    "class Solution(object):\n",
    "    def maxSubarraySumCircular(self, nums):\n",
    "        # Step 1: Calculate the maximum subarray sum using Kadane's algorithm\n",
    "        linear_sum = self.Kadanes(nums)\n",
    "\n",
    "        # Step 2: Calculate the total sum of the array and the inverted array\n",
    "        total_sum = 0\n",
    "        for i in range(len(nums)):\n",
    "            total_sum += nums[i]\n",
    "            nums[i] *= -1\n",
    "\n",
    "        # Step 3: Calculate the maximum subarray sum of the inverted array\n",
    "        inverted_kadanes = self.Kadanes(nums)\n",
    "\n",
    "        # Step 4: Calculate the circular sum\n",
    "        circular_sum = total_sum + inverted_kadanes\n",
    "\n",
    "        # If the circular sum equals zero, return the linear sum\n",
    "        if circular_sum == 0:\n",
    "            return linear_sum\n",
    "\n",
    "        # Return the maximum of the linear and circular sums\n",
    "        return max(circular_sum, linear_sum)\n",
    "\n",
    "    def Kadanes(self, nums):\n",
    "        sum = 0\n",
    "        ans = float(\"-inf\")\n",
    "        for i in range(len(nums)):\n",
    "            sum = sum + nums[i]\n",
    "            ans = max(ans, sum)\n",
    "            if sum < 0:\n",
    "                sum = 0\n",
    "        return ans\n",
    "\n",
    "\n",
    "# Example usage\n",
    "if __name__ == \"__main__\":\n",
    "    arr = [8, -8, 9, -9, 10, -11, 12]\n",
    "    sol = Solution()\n",
    "    result = sol.maxSubarraySumCircular(arr)\n",
    "    print(result)"
   ]
  }
 ],
 "metadata": {
  "language_info": {
   "name": "python"
  }
 },
 "nbformat": 4,
 "nbformat_minor": 5
}
