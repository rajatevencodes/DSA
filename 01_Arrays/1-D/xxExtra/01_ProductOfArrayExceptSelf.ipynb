{
 "cells": [
  {
   "cell_type": "markdown",
   "id": "988ba8f4",
   "metadata": {},
   "source": [
    "[PreRequisite for RainWater Trapping ↗](https://leetcode.com/problems/product-of-array-except-self/) problem from LeetCode.\n"
   ]
  },
  {
   "cell_type": "code",
   "execution_count": 1,
   "id": "ffd9e552",
   "metadata": {},
   "outputs": [
    {
     "name": "stdout",
     "output_type": "stream",
     "text": [
      "[24, 12, 8, 6]\n"
     ]
    }
   ],
   "source": [
    "class Solution(object):\n",
    "    def productExceptSelf(self, nums):\n",
    "        arrayLength = len(nums)\n",
    "        left = [None] * arrayLength\n",
    "        right = [None] * arrayLength\n",
    "\n",
    "        # From Left\n",
    "        left[0] = 1\n",
    "        for i in range(1, arrayLength):\n",
    "            left[i] = left[i - 1] * nums[i - 1]\n",
    "        # print(left)\n",
    "\n",
    "        # From Right\n",
    "        right[arrayLength - 1] = 1\n",
    "        for i in range(arrayLength - 2, -1, -1):\n",
    "            right[i] = right[i + 1] * nums[i + 1]\n",
    "        # print(right)\n",
    "\n",
    "        # Left[] + Right[]\n",
    "        ans = [None] * arrayLength\n",
    "        for i in range(arrayLength):\n",
    "            ans[i] = left[i] * right[i]\n",
    "\n",
    "        return ans\n",
    "\n",
    "\n",
    "# Example usage\n",
    "if __name__ == \"__main__\":\n",
    "    # arr = [4,5,1,8,2,10,6]\n",
    "    arr = [1, 2, 3, 4]\n",
    "    sol = Solution()\n",
    "    result = sol.productExceptSelf(arr)\n",
    "    print(result)"
   ]
  }
 ],
 "metadata": {
  "kernelspec": {
   "display_name": "DSA (3.11.13)",
   "language": "python",
   "name": "python3"
  },
  "language_info": {
   "codemirror_mode": {
    "name": "ipython",
    "version": 3
   },
   "file_extension": ".py",
   "mimetype": "text/x-python",
   "name": "python",
   "nbconvert_exporter": "python",
   "pygments_lexer": "ipython3",
   "version": "3.11.13"
  }
 },
 "nbformat": 4,
 "nbformat_minor": 5
}
