{
 "cells": [
  {
   "cell_type": "markdown",
   "id": "bf4894ba",
   "metadata": {},
   "source": [
    "[Trapping Rain Water ↗](https://leetcode.com/problems/trapping-rain-water/description/) problem from LeetCode.\n"
   ]
  },
  {
   "cell_type": "code",
   "execution_count": null,
   "id": "0660827c",
   "metadata": {},
   "outputs": [
    {
     "name": "stdout",
     "output_type": "stream",
     "text": [
      "9\n"
     ]
    }
   ],
   "source": [
    "class Solution(object):\n",
    "    def trap(self, height):\n",
    "        length = len(height)\n",
    "        left = [None] * length\n",
    "        right = [None] * length\n",
    "\n",
    "        # Left Max Boundary\n",
    "        left[0] = height[0]\n",
    "        for i in range(1, length):\n",
    "            left[i] = max(left[i - 1], height[i])\n",
    "        # print(left)\n",
    "\n",
    "        # Right Max Boundary\n",
    "        right[length - 1] = height[length - 1]\n",
    "        for i in range(length - 2, -1, -1):\n",
    "            right[i] = max(right[i + 1], height[i])\n",
    "        # print(right)\n",
    "\n",
    "        # Calculating Trapped Water\n",
    "        trappedWater = 0\n",
    "        width = 1  # may vary depending upon problem\n",
    "\n",
    "        for i in range(length):\n",
    "            # Water Level\n",
    "            waterLevel = min(left[i], right[i])\n",
    "            # Trapped Water\n",
    "            trappedWater = trappedWater + (waterLevel - height[i]) * width\n",
    "\n",
    "        return trappedWater\n",
    "\n",
    "\n",
    "# Example usage\n",
    "if __name__ == \"__main__\":\n",
    "    # arr = [0,1,0,2,1,0,1,3,2,1,2,1]\n",
    "    arr = [4, 2, 0, 3, 2, 5]\n",
    "    sol = Solution()\n",
    "    result = sol.trap(arr)\n",
    "    print(result)"
   ]
  }
 ],
 "metadata": {
  "kernelspec": {
   "display_name": "DSA (3.11.13)",
   "language": "python",
   "name": "python3"
  },
  "language_info": {
   "codemirror_mode": {
    "name": "ipython",
    "version": 3
   },
   "file_extension": ".py",
   "mimetype": "text/x-python",
   "name": "python",
   "nbconvert_exporter": "python",
   "pygments_lexer": "ipython3",
   "version": "3.11.13"
  }
 },
 "nbformat": 4,
 "nbformat_minor": 5
}
