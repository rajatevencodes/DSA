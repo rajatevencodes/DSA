{
 "cells": [
  {
   "cell_type": "markdown",
   "id": "e1906391",
   "metadata": {},
   "source": [
    "\n",
    "[Max Sum Path In 2 Sorted Arrays ↗](https://www.geeksforgeeks.org/problems/maximum-sum-path-in-two-arrays5314/1?itm_source=geeksforgeeks&itm_medium=article&itm_campaign=practice_card) problem from GFG.\n"
   ]
  },
  {
   "cell_type": "code",
   "execution_count": 2,
   "id": "7347b2c2",
   "metadata": {},
   "outputs": [
    {
     "name": "stdout",
     "output_type": "stream",
     "text": [
      "122\n"
     ]
    }
   ],
   "source": [
    "class Solution:\n",
    "    def maxSumPath(self, arr1, arr2):\n",
    "        i = 0\n",
    "        j = 0\n",
    "        sum1 = 0\n",
    "        sum2 = 0\n",
    "        ans = 0\n",
    "\n",
    "        while i < len(arr1) and j < len(arr2):\n",
    "            if arr1[i] < arr2[j]:\n",
    "                sum1 += arr1[i]\n",
    "                i += 1\n",
    "            elif arr1[i] > arr2[j]:\n",
    "                sum2 += arr2[j]\n",
    "                j += 1\n",
    "            else:  # When arr1[i] == arr2[j]\n",
    "                ans += max(sum1, sum2) + arr1[i]\n",
    "                sum1 = 0  # Reset sums after adding to ans\n",
    "                sum2 = 0\n",
    "                i += 1\n",
    "                j += 1\n",
    "\n",
    "        # Add remaining elements of arr1\n",
    "        while i < len(arr1):\n",
    "            sum1 += arr1[i]\n",
    "            i += 1\n",
    "\n",
    "        # Add remaining elements of arr2\n",
    "        while j < len(arr2):\n",
    "            sum2 += arr2[j]\n",
    "            j += 1\n",
    "\n",
    "        # Add the maximum of the two sums to the answer\n",
    "        ans += max(sum1, sum2)\n",
    "\n",
    "        return ans  # Return the maximum sum path\n",
    "\n",
    "\n",
    "if __name__ == \"__main__\":\n",
    "    # Example usage\n",
    "    arr1 = [2, 3, 7, 10, 12, 15, 30, 34]\n",
    "    arr2 = [1, 5, 7, 8, 10, 5, 16, 19]\n",
    "    sol = Solution()\n",
    "    print(sol.maxSumPath(arr1, arr2))\n",
    "    "
   ]
  }
 ],
 "metadata": {
  "kernelspec": {
   "display_name": "DSA (3.11.13)",
   "language": "python",
   "name": "python3"
  },
  "language_info": {
   "codemirror_mode": {
    "name": "ipython",
    "version": 3
   },
   "file_extension": ".py",
   "mimetype": "text/x-python",
   "name": "python",
   "nbconvert_exporter": "python",
   "pygments_lexer": "ipython3",
   "version": "3.11.13"
  }
 },
 "nbformat": 4,
 "nbformat_minor": 5
}
