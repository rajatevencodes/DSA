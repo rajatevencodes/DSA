{
 "cells": [
  {
   "cell_type": "code",
   "execution_count": 4,
   "id": "bd0cf227",
   "metadata": {},
   "outputs": [
    {
     "name": "stdout",
     "output_type": "stream",
     "text": [
      "[2, 3, 5, 6, 8, 9]\n"
     ]
    }
   ],
   "source": [
    "class Solution:\n",
    "    def mergeSort(self, nums):\n",
    "        # Base case: If the list has 1 or no elements, it's already sorted\n",
    "        if len(nums) <= 1:\n",
    "            return nums\n",
    "\n",
    "        # Initialize low and high indices for the entire array\n",
    "        low = 0\n",
    "        high = len(nums) - 1\n",
    "\n",
    "        # Call the helper function to start the recursive sorting\n",
    "        return self.result(nums, low, high)\n",
    "\n",
    "    def result(self, nums, low, high):\n",
    "        # Step 1: Base case for recursion, when the subarray has one element, return it\n",
    "        if low == high:\n",
    "            return [nums[low]]\n",
    "\n",
    "        # Step 2: Divide the array by finding the midpoint\n",
    "        mid = (low + high) // 2\n",
    "\n",
    "        # - Recursively sort the first half of the array\n",
    "        first_half = self.result(nums, low, mid)\n",
    "\n",
    "        # - Recursively sort the second half of the array\n",
    "        second_half = self.result(nums, mid + 1, high)\n",
    "\n",
    "        # Step 3: Merge the two sorted halves and return the sorted array\n",
    "        return self.mergeTwoSortedArrays(first_half, second_half)\n",
    "\n",
    "    def mergeTwoSortedArrays(self, arr1, arr2):\n",
    "        # Initialize pointers and the result array\n",
    "        i = j = 0\n",
    "        merged_array = []\n",
    "\n",
    "        # Compare elements from both arrays and merge them in sorted order\n",
    "        while i < len(arr1) and j < len(arr2):\n",
    "            if arr1[i] <= arr2[j]:\n",
    "                merged_array.append(arr1[i])\n",
    "                i += 1\n",
    "            else:\n",
    "                merged_array.append(arr2[j])\n",
    "                j += 1\n",
    "\n",
    "        # Append any remaining elements from arr1\n",
    "        while i < len(arr1):\n",
    "            merged_array.append(arr1[i])\n",
    "            i += 1\n",
    "\n",
    "        # Append any remaining elements from arr2\n",
    "        while j < len(arr2):\n",
    "            merged_array.append(arr2[j])\n",
    "            j += 1\n",
    "\n",
    "        # Return the merged and sorted array\n",
    "        return merged_array\n",
    "\n",
    "\n",
    "# Example usage\n",
    "if __name__ == \"__main__\":\n",
    "    arr = [6, 3, 9, 5, 2, 8]\n",
    "    sol = Solution()\n",
    "    result = sol.mergeSort(arr)\n",
    "    print(result)"
   ]
  }
 ],
 "metadata": {
  "kernelspec": {
   "display_name": "DSA (3.11.13)",
   "language": "python",
   "name": "python3"
  },
  "language_info": {
   "codemirror_mode": {
    "name": "ipython",
    "version": 3
   },
   "file_extension": ".py",
   "mimetype": "text/x-python",
   "name": "python",
   "nbconvert_exporter": "python",
   "pygments_lexer": "ipython3",
   "version": "3.11.13"
  }
 },
 "nbformat": 4,
 "nbformat_minor": 5
}
