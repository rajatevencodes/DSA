{
 "cells": [
  {
   "cell_type": "markdown",
   "id": "bfba24b0",
   "metadata": {},
   "source": [
    "Counting sort is used in scenarios like ranking in JEE (Joint Entrance Examination). For example, given an array of ranks [2, 2, 3, 1, 2], counting sort **ensures that the ranks are sorted in a stable manner, meaning if two elements are equal, the one appearing earlier in the array will stay before the one that appears later.** This is especially useful when processing ranks, as it maintains the original order of elements with the same rank and also **it does sorting without using comparision.**"
   ]
  },
  {
   "cell_type": "code",
   "execution_count": 1,
   "id": "5bae0586",
   "metadata": {},
   "outputs": [
    {
     "name": "stdout",
     "output_type": "stream",
     "text": [
      "[2, 4, 4, 0, 1, 1, 1, 1, 1, 2]\n",
      "[0, 0, 1, 1, 1, 1, 2, 2, 2, 2, 4, 5, 6, 7, 8, 9, 9]\n"
     ]
    }
   ],
   "source": [
    "def CountingSort(nums):\n",
    "    # Step 1: Create a count array for values from 0 to max(nums)\n",
    "    max_score = max(nums)  # Use Python's built-in max function\n",
    "    freq = [0] * (max_score + 1)  # Initialize the count array with zeros\n",
    "    \n",
    "    # Step 2: Count the occurrences of each number in the input array\n",
    "    for i in range(len(nums)):\n",
    "        freq[nums[i]] += 1 \n",
    "    print(freq)\n",
    "    \n",
    "    # Step 3: Compute the cumulative count which helps in preserving the order\n",
    "    for i in range(1, len(freq)):\n",
    "        freq[i] = freq[i] + freq[i-1]\n",
    "        \n",
    "    \n",
    "    # Step 4: Build the sorted array while maintaining stability\n",
    "    ans = [None] * len(nums) \n",
    "    for i in range(len(nums)-1, -1, -1):  # Traverse the array backwards for no reason 😅\n",
    "        index = freq[nums[i]] - 1  # Get the correct index for this number\n",
    "        ans[index] = nums[i] # Place the number in the correct position in the sorted array\n",
    "        freq[nums[i]] -= 1  # Decrease the count to handle duplicates\n",
    "    \n",
    "    return ans\n",
    "    \n",
    "\n",
    "scores = [2,1,1,0,1,2,5,4,0,2,8,7,9,2,6,1,9]\n",
    "sorted_scores = CountingSort(scores)\n",
    "print(sorted_scores)  # Output will be the sorted array"
   ]
  }
 ],
 "metadata": {
  "kernelspec": {
   "display_name": "DSA (3.11.13)",
   "language": "python",
   "name": "python3"
  },
  "language_info": {
   "codemirror_mode": {
    "name": "ipython",
    "version": 3
   },
   "file_extension": ".py",
   "mimetype": "text/x-python",
   "name": "python",
   "nbconvert_exporter": "python",
   "pygments_lexer": "ipython3",
   "version": "3.11.13"
  }
 },
 "nbformat": 4,
 "nbformat_minor": 5
}
