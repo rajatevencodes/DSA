{
 "cells": [
  {
   "cell_type": "code",
   "execution_count": 1,
   "id": "2bef4a1a",
   "metadata": {},
   "outputs": [
    {
     "name": "stdout",
     "output_type": "stream",
     "text": [
      "[3, 2, 5, 8, 6, 9]\n",
      "2\n",
      "[2, 3, 5, 8, 6, 9]\n",
      "0\n",
      "[2, 3, 5, 8, 6, 9]\n",
      "5\n",
      "[2, 3, 5, 6, 8, 9]\n",
      "3\n",
      "[2, 3, 5, 6, 8, 9]\n"
     ]
    }
   ],
   "source": [
    "class Solution:\n",
    "    def quickSort(self, nums):\n",
    "        low = 0\n",
    "        high = len(nums) - 1\n",
    "        self.result(nums, low, high)\n",
    "        return nums  # Return the sorted array\n",
    "\n",
    "    def result(self, nums, low, high):\n",
    "        if low >= high:\n",
    "            return  # Base case: if the subarray has 1 or no elements, it's already sorted\n",
    "\n",
    "        # Partition the array and get the pivot index\n",
    "        pivotIndex = self.partition(nums, low, high)\n",
    "        print(nums)\n",
    "        print(pivotIndex)\n",
    "\n",
    "        # Recursively sort the subarrays\n",
    "        self.result(nums, low, pivotIndex - 1)  # Left subarray\n",
    "        self.result(nums, pivotIndex + 1, high)  # Right subarray\n",
    "\n",
    "    def partition(self, nums, low, high):\n",
    "        pivot = nums[high]  # Use the last element as the pivot\n",
    "        i = low - 1  # `i` is the index of the smaller element\n",
    "\n",
    "        for j in range(low, high):\n",
    "            if nums[j] <= pivot:\n",
    "                i += 1\n",
    "                # Swap elements at i and j\n",
    "                self.swap(nums, i, j)\n",
    "\n",
    "        # Swap the pivot element with the element at `i + 1`\n",
    "        self.swap(nums, i + 1, high)\n",
    "\n",
    "        return i + 1  # Return the index of the pivot element\n",
    "\n",
    "    def swap(self, nums, i, j):\n",
    "        nums[i], nums[j] = nums[j], nums[i]  # Pythonic way to swap elements\n",
    "\n",
    "\n",
    "# Example usage\n",
    "if __name__ == \"__main__\":\n",
    "    arr = [6, 3, 9, 8, 2, 5]\n",
    "    sol = Solution()\n",
    "    result = sol.quickSort(arr)\n",
    "    print(result)"
   ]
  }
 ],
 "metadata": {
  "kernelspec": {
   "display_name": "DSA (3.11.13)",
   "language": "python",
   "name": "python3"
  },
  "language_info": {
   "codemirror_mode": {
    "name": "ipython",
    "version": 3
   },
   "file_extension": ".py",
   "mimetype": "text/x-python",
   "name": "python",
   "nbconvert_exporter": "python",
   "pygments_lexer": "ipython3",
   "version": "3.11.13"
  }
 },
 "nbformat": 4,
 "nbformat_minor": 5
}
