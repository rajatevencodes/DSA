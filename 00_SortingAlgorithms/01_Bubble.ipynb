{
 "cells": [
  {
   "cell_type": "code",
   "execution_count": 2,
   "id": "4dd4c0d9",
   "metadata": {},
   "outputs": [
    {
     "name": "stdout",
     "output_type": "stream",
     "text": [
      "[1, 2, 3, 4, 5]\n"
     ]
    }
   ],
   "source": [
    "class Solution:\n",
    "    def bubbleSort(self, nums):\n",
    "        return self.result(nums)\n",
    "\n",
    "    def result(self, nums):\n",
    "        n = len(nums)\n",
    "        # Number of turns\n",
    "        for turns in range(n):\n",
    "            swapped = False  # Flag to detect any swap\n",
    "\n",
    "            # Bubble Sort Algorithm\n",
    "            for i in range(n - 1 - turns):  # Optimize: Reduce range each turn\n",
    "                # print(nums)\n",
    "                if nums[i] > nums[i + 1]:\n",
    "                    # Swap elements\n",
    "                    nums[i], nums[i + 1] = nums[i + 1], nums[i]  # Pythonic swap\n",
    "                    swapped = True  # Set the flag if a swap occurred\n",
    "            # print(\" \")\n",
    "            if not swapped:  # If no swaps occurred, the list is sorted\n",
    "                break\n",
    "\n",
    "        return nums\n",
    "\n",
    "\n",
    "# Example usage\n",
    "if __name__ == \"__main__\":\n",
    "    arr = [5, 4, 1, 3, 2]\n",
    "    sol = Solution()\n",
    "    result = sol.bubbleSort(arr)\n",
    "    print(result)"
   ]
  }
 ],
 "metadata": {
  "kernelspec": {
   "display_name": "DSA (3.11.13)",
   "language": "python",
   "name": "python3"
  },
  "language_info": {
   "codemirror_mode": {
    "name": "ipython",
    "version": 3
   },
   "file_extension": ".py",
   "mimetype": "text/x-python",
   "name": "python",
   "nbconvert_exporter": "python",
   "pygments_lexer": "ipython3",
   "version": "3.11.13"
  }
 },
 "nbformat": 4,
 "nbformat_minor": 5
}
