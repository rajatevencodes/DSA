{
 "cells": [
  {
   "cell_type": "code",
   "execution_count": null,
   "id": "9331d5fb",
   "metadata": {},
   "outputs": [],
   "source": [
    "class Solution:\n",
    "    def selectionSort(self, nums):\n",
    "        return self.result(nums)\n",
    "\n",
    "    def result(self, nums):\n",
    "        for i in range(len(nums)):\n",
    "            min_pos = i\n",
    "            for j in range(i + 1, len(nums)):\n",
    "                if nums[j] < nums[min_pos]:\n",
    "                    min_pos = j\n",
    "            # Swap\n",
    "            temp = nums[min_pos]\n",
    "            nums[min_pos] = nums[i]\n",
    "            nums[i] = temp\n",
    "\n",
    "            # print(nums)\n",
    "        return nums\n",
    "\n",
    "\n",
    "# Example usage\n",
    "if __name__ == \"__main__\":\n",
    "    arr = [5, 4, 1, 3, 2]\n",
    "    sol = Solution()\n",
    "    result = sol.selectionSort(arr)\n",
    "    print(result)"
   ]
  }
 ],
 "metadata": {
  "language_info": {
   "name": "python"
  }
 },
 "nbformat": 4,
 "nbformat_minor": 5
}
