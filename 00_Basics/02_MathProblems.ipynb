{
 "cells": [
  {
   "cell_type": "code",
   "execution_count": 1,
   "metadata": {},
   "outputs": [
    {
     "name": "stdout",
     "output_type": "stream",
     "text": [
      "1\n"
     ]
    }
   ],
   "source": [
    "# 1. Count all digits of a number\n",
    "class Solution:\n",
    "    def countDigit(self, n):\n",
    "        return self.counter(n)\n",
    "    \n",
    "    def counter(self,n):\n",
    "        #Edge case for number 0\n",
    "        if n == 0:\n",
    "            return 1\n",
    "        \n",
    "        counter = 0\n",
    "        while(not n==0):\n",
    "            x = n%10\n",
    "            counter = counter + 1\n",
    "            n = n // 10\n",
    "        \n",
    "        return counter\n",
    "        \n",
    "\n",
    "# Example usage\n",
    "if __name__ == \"__main__\":\n",
    "    N = 1\n",
    "    sol = Solution()\n",
    "    result = sol.countDigit(N)\n",
    "    print(result)\n"
   ]
  },
  {
   "cell_type": "code",
   "execution_count": 2,
   "metadata": {},
   "outputs": [
    {
     "name": "stdout",
     "output_type": "stream",
     "text": [
      "2\n"
     ]
    }
   ],
   "source": [
    "# 2. Count number of odd digits in a number\n",
    "class Solution:\n",
    "    def countOddDigit(self, n):\n",
    "        return self.counter(n)\n",
    "    \n",
    "    def counter(self,n):\n",
    "        if n == 0:\n",
    "            return 0\n",
    "        counter = 0\n",
    "        while(not n==0):\n",
    "            x = n%10\n",
    "            if(x%2!=0):\n",
    "                counter += 1\n",
    "            n = n // 10\n",
    "        return counter\n",
    "            \n",
    "# Example usage\n",
    "if __name__ == \"__main__\":\n",
    "    N = 213\n",
    "    sol = Solution()\n",
    "    result = sol.countOddDigit(N)\n",
    "    print(result)"
   ]
  },
  {
   "cell_type": "code",
   "execution_count": 3,
   "metadata": {},
   "outputs": [
    {
     "name": "stdout",
     "output_type": "stream",
     "text": [
      "5\n"
     ]
    }
   ],
   "source": [
    "# 3. Reverse a number\n",
    "class Solution:\n",
    "    def reverseNumber(self, n):\n",
    "        return self.reverse(n)\n",
    "    \n",
    "\n",
    "    def reverse(self,n):\n",
    "        if n==0:\n",
    "            return 0\n",
    "        reversedNum = 0\n",
    "        while(n!=0):\n",
    "            lastDigit = n%10\n",
    "            reversedNum = (reversedNum * 10) + lastDigit\n",
    "            n = n // 10\n",
    "        return reversedNum\n",
    "\n",
    "\n",
    "# Example usage\n",
    "if __name__ == \"__main__\":\n",
    "    N = 500\n",
    "    sol = Solution()\n",
    "    result = sol.reverseNumber(N)\n",
    "    print(result)"
   ]
  },
  {
   "cell_type": "code",
   "execution_count": 4,
   "metadata": {},
   "outputs": [
    {
     "name": "stdout",
     "output_type": "stream",
     "text": [
      "False\n"
     ]
    }
   ],
   "source": [
    "# 4. Palindrome\n",
    "class Solution:\n",
    "    def isPalindrome(self, n):\n",
    "        return self.palindrome(n)\n",
    "\n",
    "    def palindrome(self, n):\n",
    "        # Copying n to check later whether the number is palindrome or not\n",
    "        copy = n\n",
    "        reversed_num = 0\n",
    "\n",
    "        while n != 0:\n",
    "            lastDigit = n % 10\n",
    "            reversed_num = (reversed_num * 10) + lastDigit\n",
    "            n = n // 10\n",
    "\n",
    "        if reversed_num == copy:\n",
    "            return True\n",
    "        else:\n",
    "            return False\n",
    "\n",
    "# Example usage\n",
    "if __name__ == \"__main__\":\n",
    "    N = 505105\n",
    "    sol = Solution()\n",
    "    result = sol.isPalindrome(N)\n",
    "    print(result)"
   ]
  },
  {
   "cell_type": "code",
   "execution_count": 5,
   "metadata": {},
   "outputs": [
    {
     "name": "stdout",
     "output_type": "stream",
     "text": [
      "3\n"
     ]
    }
   ],
   "source": [
    "# 5. Return the largest digit in a number\n",
    "\n",
    "class Solution:\n",
    "    def largestDigit(self, n):\n",
    "        return self.largestDigit()\n",
    "\n",
    "    def largestDigit(self,n):\n",
    "        largest = 0\n",
    "        while n !=0:\n",
    "            x = n%10\n",
    "            if largest < x:\n",
    "                largest = x\n",
    "            n = n // 10\n",
    "        return largest\n",
    "        \n",
    "\n",
    "# Example usage\n",
    "if __name__ == \"__main__\":\n",
    "    N = 213\n",
    "    sol = Solution()\n",
    "    result = sol.largestDigit(N)\n",
    "    print(result)\n"
   ]
  },
  {
   "cell_type": "code",
   "execution_count": 6,
   "metadata": {},
   "outputs": [
    {
     "name": "stdout",
     "output_type": "stream",
     "text": [
      "24\n"
     ]
    }
   ],
   "source": [
    "# 6. Factorial of a given number\n",
    "class Solution:\n",
    "    def factorial(self, n):\n",
    "        return self.result(n)\n",
    "    \n",
    "    def result(self,n):\n",
    "        # Edge case\n",
    "        if n == 0 :\n",
    "            return 1\n",
    "        \n",
    "        result = 1\n",
    "        while n!=0:\n",
    "            result = result * n\n",
    "            n -= 1\n",
    "        return result\n",
    "\n",
    "# Example usage\n",
    "if __name__ == \"__main__\":\n",
    "    N = 4\n",
    "    sol = Solution()\n",
    "    result = sol.factorial(N)\n",
    "    print(result)"
   ]
  },
  {
   "cell_type": "code",
   "execution_count": 7,
   "metadata": {},
   "outputs": [
    {
     "name": "stdout",
     "output_type": "stream",
     "text": [
      "True\n"
     ]
    }
   ],
   "source": [
    "# 7. Armstrong Number\n",
    "class Solution:\n",
    "    def isArmstrong(self, n):\n",
    "        return self.result(n)\n",
    "    \n",
    "    def result(self,n):\n",
    "\n",
    "        copy = n\n",
    "        \n",
    "        # Counting number of digits\n",
    "        counter = 0\n",
    "        while(not n==0):\n",
    "            x = n%10\n",
    "            counter = counter + 1\n",
    "            n = n // 10\n",
    "\n",
    "        n = copy\n",
    "        result = 0\n",
    "\n",
    "        # Powering the digits with the number of digits\n",
    "        while n != 0:\n",
    "            x = n % 10\n",
    "            result = result + x**counter\n",
    "            n = n // 10\n",
    "        \n",
    "        if copy == result:\n",
    "            return True\n",
    "        else:\n",
    "            return False\n",
    "\n",
    "\n",
    "\n",
    "# Example usage\n",
    "if __name__ == \"__main__\":\n",
    "    N = 370\n",
    "    sol = Solution()\n",
    "    result = sol.isArmstrong(N)\n",
    "    print(result)"
   ]
  },
  {
   "cell_type": "code",
   "execution_count": 8,
   "metadata": {},
   "outputs": [
    {
     "name": "stdout",
     "output_type": "stream",
     "text": [
      "True\n"
     ]
    }
   ],
   "source": [
    "# 8. Perfect Number\n",
    "class Solution:\n",
    "    def isPerfect(self, n):\n",
    "        return self.check(n)\n",
    "    def check(self,n):\n",
    "        copy = n\n",
    "        list = []\n",
    "        for i in range(1,n-1):\n",
    "            if n%i==0:\n",
    "                list.append(i)\n",
    "        \n",
    "        sum = 0\n",
    "        for k in range(len(list)):\n",
    "            sum += list[k]\n",
    "        \n",
    "        if copy == sum :\n",
    "            return True\n",
    "        else :\n",
    "            return False\n",
    "\n",
    "\n",
    "# Example usage\n",
    "if __name__ == \"__main__\":\n",
    "    N = 28\n",
    "    sol = Solution()\n",
    "    result = sol.isPerfect(N)\n",
    "    print(result)"
   ]
  },
  {
   "cell_type": "code",
   "execution_count": 9,
   "metadata": {},
   "outputs": [
    {
     "name": "stdout",
     "output_type": "stream",
     "text": [
      "False\n"
     ]
    }
   ],
   "source": [
    "# 9. Check for prime number\n",
    "class Solution:\n",
    "    def isPrime(self, n):\n",
    "        return self.check(n)\n",
    "    \n",
    "    def check(self,n):\n",
    "        if n < 2:\n",
    "            return False\n",
    "        \n",
    "        for i in range(2,n):# n -> sqrt(n) Optimized way\n",
    "            if n%i==0:\n",
    "               return False\n",
    "        return True\n",
    "\n",
    "# Example usage\n",
    "if __name__ == \"__main__\":\n",
    "    N = 8\n",
    "    sol = Solution()\n",
    "    result = sol.isPrime(N)\n",
    "    print(result)\n"
   ]
  },
  {
   "cell_type": "code",
   "execution_count": 10,
   "metadata": {},
   "outputs": [
    {
     "name": "stdout",
     "output_type": "stream",
     "text": [
      "4\n"
     ]
    }
   ],
   "source": [
    "# 10. Count of prime numbers till N\n",
    "\n",
    "class Solution:\n",
    "    def primeUptoN(self, n):\n",
    "        return self.result(n)\n",
    "\n",
    "    def result(self, n):\n",
    "        primes = []  \n",
    "        for i in range(2, n+1):  \n",
    "            if self.isPrime(i):\n",
    "                primes.append(i)\n",
    "        return len(primes)\n",
    "\n",
    "    def isPrime(self, n):\n",
    "        if n < 2:\n",
    "            return False\n",
    "        for i in range(2, n): \n",
    "            if n % i == 0:\n",
    "                return False\n",
    "        return True\n",
    "\n",
    "    \n",
    "# Example usage\n",
    "if __name__ == \"__main__\":\n",
    "    N = 10\n",
    "    sol = Solution()\n",
    "    result = sol.primeUptoN(N)\n",
    "    print(result)"
   ]
  },
  {
   "cell_type": "code",
   "execution_count": 11,
   "metadata": {},
   "outputs": [
    {
     "name": "stdout",
     "output_type": "stream",
     "text": [
      "6\n"
     ]
    }
   ],
   "source": [
    "# 11. Greatest Common Divisor of Two Numbers\n",
    "\n",
    "class Solution:\n",
    "    def GCD(self, n1, n2):\n",
    "        return self.result(n1,n2)\n",
    "    \n",
    "    def result(self,n1,n2):\n",
    "        gcd = 0\n",
    "        for i in range(1,n1+1):\n",
    "            if n1%i==0 and n2%i==0:\n",
    "                gcd = i\n",
    "        return gcd\n",
    "    \n",
    "# Example usage\n",
    "if __name__ == \"__main__\":\n",
    "    n1 = 6\n",
    "    n2 = 12\n",
    "    sol = Solution()\n",
    "    result = sol.GCD(n1,n2)\n",
    "    print(result)"
   ]
  },
  {
   "cell_type": "code",
   "execution_count": 12,
   "metadata": {},
   "outputs": [
    {
     "name": "stdout",
     "output_type": "stream",
     "text": [
      "15\n"
     ]
    }
   ],
   "source": [
    "# 12. LCM of two numbers\n",
    "# Note : This should not be done with for loop\n",
    "\n",
    "class Solution:\n",
    "    def LCM(self, n1, n2):\n",
    "        return self.result(n1,n2)\n",
    "    def result(self,n1,n2):\n",
    "        lcm = 0\n",
    "        maxRange = max(n1,n2)\n",
    "\n",
    "        i = maxRange\n",
    "        while True:\n",
    "            if i % n1 == 0 and i % n2 == 0:\n",
    "                return i\n",
    "            i+=1\n",
    "\n",
    "\n",
    "# Example usage\n",
    "if __name__ == \"__main__\":\n",
    "    n1 = 3\n",
    "    n2 = 5\n",
    "    sol = Solution()\n",
    "    result = sol.LCM(n1,n2)\n",
    "    print(result)\n",
    "\n"
   ]
  },
  {
   "cell_type": "code",
   "execution_count": 13,
   "metadata": {},
   "outputs": [
    {
     "name": "stdout",
     "output_type": "stream",
     "text": [
      "[1, 2, 3, 6]\n"
     ]
    }
   ],
   "source": [
    "# 13. Divisors of a number\n",
    "class Solution:\n",
    "    def divisors(self, n):\n",
    "        return self.result(n)\n",
    "    def result(self,n):\n",
    "        list = []\n",
    "        for i in range(1,n+1):\n",
    "            if n%i==0:\n",
    "                list.append(i)\n",
    "        return list\n",
    "\n",
    "# Example usage\n",
    "if __name__ == \"__main__\":\n",
    "    n = 6\n",
    "    sol = Solution()\n",
    "    result = sol.divisors(n)\n",
    "    print(result)\n"
   ]
  },
  {
   "cell_type": "code",
   "execution_count": 14,
   "metadata": {},
   "outputs": [
    {
     "name": "stdout",
     "output_type": "stream",
     "text": [
      "[2, 3, 5, 7, 11, 13, 17, 19, 23, 29, 31]\n"
     ]
    }
   ],
   "source": [
    "# Extra : 14. Print Prime Numbers till N\n",
    "class Solution:\n",
    "    def primeNumberTillN(self, n):\n",
    "        return self.result(n)\n",
    "    \n",
    "    def result(self, n):\n",
    "        primes = []\n",
    "        for i in range(2, n):\n",
    "            isPrime = True\n",
    "            for j in range(2, int(i**0.5) + 1):\n",
    "                if i % j == 0:\n",
    "                    isPrime = False\n",
    "                    break\n",
    "            if isPrime:\n",
    "                primes.append(i)\n",
    "        return primes\n",
    "\n",
    "# Example usage\n",
    "if __name__ == \"__main__\":\n",
    "    n = 34\n",
    "    sol = Solution()\n",
    "    result = sol.primeNumberTillN(n)\n",
    "    print(result)\n"
   ]
  }
 ],
 "metadata": {
  "kernelspec": {
   "display_name": "DSA (3.11.13)",
   "language": "python",
   "name": "python3"
  },
  "language_info": {
   "codemirror_mode": {
    "name": "ipython",
    "version": 3
   },
   "file_extension": ".py",
   "mimetype": "text/x-python",
   "name": "python",
   "nbconvert_exporter": "python",
   "pygments_lexer": "ipython3",
   "version": "3.11.13"
  }
 },
 "nbformat": 4,
 "nbformat_minor": 2
}
