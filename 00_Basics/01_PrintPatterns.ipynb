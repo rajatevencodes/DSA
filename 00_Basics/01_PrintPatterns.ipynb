{
 "cells": [
  {
   "cell_type": "code",
   "execution_count": 1,
   "metadata": {},
   "outputs": [
    {
     "name": "stdout",
     "output_type": "stream",
     "text": [
      "*****\n",
      "*****\n",
      "*****\n",
      "*****\n",
      "*****\n"
     ]
    }
   ],
   "source": [
    "# Pattern 1\n",
    "# Rows \n",
    "for i in range(5):\n",
    "    # Columns\n",
    "    for j in range(5):\n",
    "       print(\"*\",end=\"\") # This argument overrides the default newline\n",
    "    print(\"\")"
   ]
  },
  {
   "cell_type": "code",
   "execution_count": 2,
   "metadata": {},
   "outputs": [
    {
     "name": "stdout",
     "output_type": "stream",
     "text": [
      "*\n",
      "**\n",
      "***\n",
      "****\n",
      "*****\n"
     ]
    }
   ],
   "source": [
    "# Pattern 2\n",
    "\n",
    "# Rows \n",
    "for i in range(5):\n",
    "    # Columns\n",
    "    for j in range(i+1):\n",
    "        print(\"*\",end=\"\")\n",
    "    print()\n"
   ]
  },
  {
   "cell_type": "code",
   "execution_count": 3,
   "metadata": {},
   "outputs": [
    {
     "name": "stdout",
     "output_type": "stream",
     "text": [
      "1\n",
      "12\n",
      "123\n",
      "1234\n"
     ]
    }
   ],
   "source": [
    "# Pattern 3\n",
    "n = 4\n",
    "# Rows\n",
    "for i in range(n):\n",
    "    for j in range(i+1):\n",
    "        print(j+1,end=\"\")\n",
    "    print()\n"
   ]
  },
  {
   "cell_type": "code",
   "execution_count": 4,
   "metadata": {},
   "outputs": [
    {
     "name": "stdout",
     "output_type": "stream",
     "text": [
      "1\n",
      "22\n",
      "333\n",
      "4444\n",
      "55555\n"
     ]
    }
   ],
   "source": [
    "# Pattern 4\n",
    "n = 5 \n",
    "# Rows\n",
    "for i in range(n):\n",
    "    for j in range(i+1):\n",
    "        print(i+1,end=\"\")\n",
    "    print(\"\")"
   ]
  },
  {
   "cell_type": "code",
   "execution_count": 5,
   "metadata": {},
   "outputs": [
    {
     "name": "stdout",
     "output_type": "stream",
     "text": [
      "****\n",
      "***\n",
      "**\n",
      "*\n"
     ]
    }
   ],
   "source": [
    "# Pattern 5\n",
    "n = 4\n",
    "\n",
    "# Rows\n",
    "for i in range(n):\n",
    "    # Columns\n",
    "    for j in range(n):\n",
    "        print(\"*\",end=\"\")\n",
    "    n = n-1\n",
    "    print(\"\")"
   ]
  },
  {
   "cell_type": "code",
   "execution_count": 6,
   "metadata": {},
   "outputs": [
    {
     "name": "stdout",
     "output_type": "stream",
     "text": [
      "1234\n",
      "123\n",
      "12\n",
      "1\n"
     ]
    }
   ],
   "source": [
    "# Pattern 6\n",
    "\n",
    "n = 4\n",
    "# Rows\n",
    "for i in range(n):\n",
    "    # Columns\n",
    "    for j in range(n):\n",
    "        print(j+1,end=\"\")\n",
    "    n = n-1\n",
    "    print()"
   ]
  },
  {
   "cell_type": "code",
   "execution_count": 7,
   "metadata": {},
   "outputs": [
    {
     "name": "stdout",
     "output_type": "stream",
     "text": [
      "   *\n",
      "  ***\n",
      " *****\n",
      "*******\n"
     ]
    }
   ],
   "source": [
    "# Pattern 7\n",
    "\n",
    "n = 4\n",
    "# Rows\n",
    "for i in range(1,n+1):\n",
    "    # Spaces\n",
    "    for j in range(n-1):\n",
    "        print(\" \",end=\"\")\n",
    "    n = n-1\n",
    "\n",
    "    # Displaying stars\n",
    "    for k in range(i*2-1):\n",
    "        print(\"*\",end=\"\")\n",
    "\n",
    "    print(\"\")\n",
    "    \n"
   ]
  },
  {
   "cell_type": "code",
   "execution_count": 8,
   "metadata": {},
   "outputs": [
    {
     "name": "stdout",
     "output_type": "stream",
     "text": [
      "*******\n",
      " *****\n",
      "  ***\n",
      "   *\n"
     ]
    }
   ],
   "source": [
    "# Pattern 8\n",
    "n = 4\n",
    "# Rows\n",
    "for i in range(n):\n",
    "    # Space\n",
    "    for k in range(i):\n",
    "        print(\" \",end=\"\")\n",
    "\n",
    "    # Stars\n",
    "    for j in range(2*n-1):\n",
    "        print(\"*\",end=\"\")\n",
    "    print(\"\")\n",
    "    n = n - 1"
   ]
  },
  {
   "cell_type": "code",
   "execution_count": 9,
   "metadata": {},
   "outputs": [
    {
     "name": "stdout",
     "output_type": "stream",
     "text": [
      "   *\n",
      "  ***\n",
      " *****\n",
      "*******\n",
      "*******\n",
      " *****\n",
      "  ***\n",
      "   *\n"
     ]
    }
   ],
   "source": [
    "# Pattern 9\n",
    "class Solution:\n",
    "    def pattern9(self, n):\n",
    "        self.erect_Pyramid(n)\n",
    "        self.inverse_Pyramid(n)\n",
    "\n",
    "    def erect_Pyramid(self, n):\n",
    "        for row in range(1, n + 1):\n",
    "            # Space\n",
    "            for j in range(n - row):\n",
    "                print(\" \", end=\"\")\n",
    "            \n",
    "            # Stars\n",
    "            for k in range(2 * row - 1):\n",
    "                print(\"*\", end=\"\")\n",
    "            print(\"\")\n",
    "\n",
    "    def inverse_Pyramid(self, n):\n",
    "        for i in range(n):\n",
    "            # Space\n",
    "            for k in range(i):\n",
    "                print(\" \", end=\"\")\n",
    "\n",
    "            # Stars\n",
    "            for j in range(2 * (n - i) - 1):\n",
    "                print(\"*\", end=\"\")\n",
    "            print(\"\")\n",
    "\n",
    "# Note This will be given by the Website compiler\n",
    "if __name__ == \"__main__\":\n",
    "    N = 4\n",
    "    # Create an instance of Solution class\n",
    "    sol = Solution()\n",
    "    sol.pattern9(N)"
   ]
  },
  {
   "cell_type": "code",
   "execution_count": 10,
   "metadata": {},
   "outputs": [
    {
     "name": "stdout",
     "output_type": "stream",
     "text": [
      "*\n",
      "**\n",
      "***\n",
      "****\n",
      "***\n",
      "**\n",
      "*\n"
     ]
    }
   ],
   "source": [
    "# Pattern 9\n",
    "\n",
    "class Solution:\n",
    "    def pattern10(self, n):\n",
    "        self.erect_Pyramid(n)\n",
    "        self.inverse_Pyramid(n)\n",
    "\n",
    "    def erect_Pyramid(self, n):\n",
    "        for i in range(1, n + 1):\n",
    "            print(\"*\" * i)  # Print i stars in each row\n",
    "\n",
    "    def inverse_Pyramid(self, n):\n",
    "        for i in range(n - 1, 0, -1):\n",
    "            print(\"*\" * i)  # Print i stars in decreasing order\n",
    "\n",
    "\n",
    "# Note: This part will be given by the Website compiler\n",
    "if __name__ == \"__main__\":\n",
    "    N = 4\n",
    "    # Create an instance of the Solution class\n",
    "    sol = Solution()\n",
    "    sol.pattern10(N)\n",
    "            "
   ]
  },
  {
   "cell_type": "code",
   "execution_count": 11,
   "metadata": {},
   "outputs": [
    {
     "name": "stdout",
     "output_type": "stream",
     "text": [
      "1 \n",
      "0 1 \n",
      "1 0 1 \n",
      "0 1 0 1 \n"
     ]
    }
   ],
   "source": [
    "# Pattern 11\n",
    "\n",
    "class Solution:\n",
    "    def pattern11(self, n):\n",
    "        self.pyramid(n)\n",
    "\n",
    "\n",
    "    def pyramid(self,n):\n",
    "        counter = 0\n",
    "        for row in range(1,n+1):\n",
    "            if(row%2==0):\n",
    "                counter = 1\n",
    "            else :\n",
    "                counter = 0\n",
    "            for col in range(1,row+1):\n",
    "                if counter%2==0:\n",
    "                    print(\"1 \",end=\"\")\n",
    "                else:\n",
    "                    print(\"0 \",end=\"\")\n",
    "                counter = counter + 1\n",
    "            print(\"\")\n",
    "                \n",
    "                    \n",
    "# Note: This part will be given by the Website compiler\n",
    "if __name__ == \"__main__\":\n",
    "    N = 4\n",
    "    # Create an instance of the Solution class\n",
    "    sol = Solution()\n",
    "    sol.pattern11(N)\n",
    "\n"
   ]
  },
  {
   "cell_type": "code",
   "execution_count": 12,
   "metadata": {},
   "outputs": [
    {
     "name": "stdout",
     "output_type": "stream",
     "text": [
      "1        1\n",
      "12      21\n",
      "123    321\n",
      "1234  4321\n",
      "1234554321\n"
     ]
    }
   ],
   "source": [
    "# Pattern 12\n",
    "\n",
    "class Solution:\n",
    "    def pattern12(self, n):\n",
    "        self.pattern(n)\n",
    "\n",
    "    def pattern(self, n):\n",
    "        space = 2 * (n-1)  \n",
    "\n",
    "        for row in range(1, n + 1):\n",
    "            \n",
    "            # First set of numbers\n",
    "            for set1 in range(1, row + 1):\n",
    "                print(set1, end=\"\")\n",
    "\n",
    "            # Space between sets, decreasing with each row\n",
    "            print(\" \" * space, end=\"\")  \n",
    "            \n",
    "            # Second set of numbers is like 21\n",
    "            for set2 in range(row,0,-1):\n",
    "                print(set2, end=\"\")\n",
    "            \n",
    "            print(\"\")  # Move to the next line after each row\n",
    "            space -= 2  # Decrease space for each row\n",
    "            \n",
    "\n",
    "# Note: This part will be given by the Website compiler\n",
    "if __name__ == \"__main__\":\n",
    "    N = 5\n",
    "    # Create an instance of the Solution class\n",
    "    sol = Solution()\n",
    "    sol.pattern12(N)\n"
   ]
  },
  {
   "cell_type": "code",
   "execution_count": 13,
   "metadata": {},
   "outputs": [
    {
     "name": "stdout",
     "output_type": "stream",
     "text": [
      "1 \n",
      "2 3 \n",
      "4 5 6 \n",
      "7 8 9 10 \n",
      "11 12 13 14 15 \n"
     ]
    }
   ],
   "source": [
    "# Pattern 13\n",
    "\n",
    "class Solution:\n",
    "    def pattern13(self, n):\n",
    "        self.pattern(n)\n",
    "\n",
    "    def pattern(self,n):\n",
    "        counter = 1\n",
    "\n",
    "        for row in range(1,n+1):\n",
    "            for col in range(1,row+1):\n",
    "                print(f\"{counter} \",end=\"\")\n",
    "                counter = counter+1\n",
    "            print(\"\")\n",
    "\n",
    "# Note: This part will be given by the Website compiler\n",
    "if __name__ == \"__main__\":\n",
    "    N = 5\n",
    "    # Create an instance of the Solution class\n",
    "    sol = Solution()\n",
    "    sol.pattern13(N)"
   ]
  },
  {
   "cell_type": "code",
   "execution_count": 14,
   "metadata": {},
   "outputs": [
    {
     "name": "stdout",
     "output_type": "stream",
     "text": [
      "A\n",
      "AB\n",
      "ABC\n",
      "ABCD\n",
      "ABCDE\n"
     ]
    }
   ],
   "source": [
    "# Pattern 14\n",
    "\n",
    "class Solution:\n",
    "    def pattern14(self, n):\n",
    "        self.pattern(n)\n",
    "    \n",
    "    def pattern(self,n):\n",
    "        for row in range(1,n+1):\n",
    "            character = 65\n",
    "            for col in range(1,row+1):\n",
    "                print(chr(character),end=\"\")\n",
    "                character = character + 1\n",
    "            print(\"\")\n",
    "\n",
    "# Note: This part will be given by the Website compiler\n",
    "if __name__ == \"__main__\":\n",
    "    N = 5\n",
    "    # Create an instance of the Solution class\n",
    "    sol = Solution()\n",
    "    sol.pattern14(N)\n",
    "\n",
    "    # print(ord(\"B\")) # Ascii Value\n",
    "    # print(chr(65))  # Convert back to the character"
   ]
  },
  {
   "cell_type": "code",
   "execution_count": 15,
   "metadata": {},
   "outputs": [
    {
     "name": "stdout",
     "output_type": "stream",
     "text": [
      "ABCDE\n",
      "ABCD\n",
      "ABC\n",
      "AB\n",
      "A\n"
     ]
    }
   ],
   "source": [
    "\n",
    "# Pattern 15 \n",
    "\n",
    "class Solution:\n",
    "    def pattern15(self, n):\n",
    "        self.pattern(n)\n",
    "\n",
    "    def pattern(self,n):\n",
    "        for row in range(1,n+1):\n",
    "            character = 65\n",
    "            for col in range(n,0,-1):\n",
    "                print(chr(character),end=\"\")\n",
    "                character = character + 1\n",
    "            n = n - 1 # Note : It effects the outer loop\n",
    "            print(\"\")\n",
    "\n",
    "# Note: This part will be given by the Website compiler\n",
    "if __name__ == \"__main__\":\n",
    "    N = 5\n",
    "    # Create an instance of the Solution class\n",
    "    sol = Solution()\n",
    "    sol.pattern15(N)\n"
   ]
  },
  {
   "cell_type": "code",
   "execution_count": 16,
   "metadata": {},
   "outputs": [
    {
     "name": "stdout",
     "output_type": "stream",
     "text": [
      "A\n",
      "BB\n",
      "CCC\n",
      "DDDD\n",
      "EEEEE\n"
     ]
    }
   ],
   "source": [
    "# Pattern 16\n",
    "\n",
    "class Solution:\n",
    "    def pattern16(self, n):\n",
    "        self.pattern(n)\n",
    "    def pattern(self,n):\n",
    "        character = 65\n",
    "        for row in range(1,n+1):\n",
    "            for col in range (1,row+1):\n",
    "                print(chr(character),end=\"\")\n",
    "            print(\"\")\n",
    "            character = character + 1\n",
    "\n",
    "# Note: This part will be given by the Website compiler\n",
    "if __name__ == \"__main__\":\n",
    "    N = 5\n",
    "    # Create an instance of the Solution class\n",
    "    sol = Solution()\n",
    "    sol.pattern16(N)\n",
    "\n"
   ]
  },
  {
   "cell_type": "code",
   "execution_count": 17,
   "metadata": {},
   "outputs": [
    {
     "name": "stdout",
     "output_type": "stream",
     "text": [
      "    A\n",
      "   ABA\n",
      "  ABCBA\n",
      " ABCDCBA\n",
      "ABCDEDCBA\n"
     ]
    }
   ],
   "source": [
    "# Pattern 17\n",
    "\n",
    "class Solution:\n",
    "    def pattern17(self, n):\n",
    "        self.pattern(n)\n",
    "\n",
    "    def pattern(self, n):\n",
    "        space = n - 1\n",
    "        for row in range(1, n + 1):\n",
    "            # Print spaces\n",
    "            print(\" \" * space, end=\"\")\n",
    "            \n",
    "            # Alphabet - Set 1 (increasing part)\n",
    "            character = 65\n",
    "            for i in range(1, row + 1):\n",
    "                print(chr(character), end=\"\")\n",
    "                character += 1\n",
    "            \n",
    "            # Alphabet - Set 2 (decreasing part)\n",
    "            for k in range(0,row - 1):\n",
    "                character -= 1\n",
    "                print(chr(character - 1), end=\"\")\n",
    "            \n",
    "            print(\"\")  \n",
    "            space -= 1 \n",
    "\n",
    "# Example usage\n",
    "if __name__ == \"__main__\":\n",
    "    N = 5\n",
    "    sol = Solution()\n",
    "    sol.pattern17(N)\n"
   ]
  },
  {
   "cell_type": "code",
   "execution_count": 18,
   "metadata": {},
   "outputs": [
    {
     "name": "stdout",
     "output_type": "stream",
     "text": [
      "E \n",
      "D E \n",
      "C D E \n",
      "B C D E \n",
      "A B C D E \n"
     ]
    }
   ],
   "source": [
    "# Pattern 18\n",
    "\n",
    "class Solution:\n",
    "    def pattern18(self, n):\n",
    "        self.pattern(n)\n",
    "    def pattern(self,n):\n",
    "        for row in range(1,n+1):\n",
    "            character = 65 + n - 1 - row\n",
    "            for col in range(1,row+1):\n",
    "                print(chr(character+col)+\" \",end=\"\")\n",
    "            print(\"\")\n",
    "            \n",
    "# Example usage\n",
    "if __name__ == \"__main__\":\n",
    "    N = 5\n",
    "    sol = Solution()\n",
    "    sol.pattern18(N)"
   ]
  },
  {
   "cell_type": "code",
   "execution_count": 19,
   "metadata": {},
   "outputs": [
    {
     "name": "stdout",
     "output_type": "stream",
     "text": [
      "********\n",
      "***  ***\n",
      "**    **\n",
      "*      *\n",
      "*      *\n",
      "**    **\n",
      "***  ***\n",
      "********\n"
     ]
    }
   ],
   "source": [
    "# Pattern 19\n",
    "\n",
    "class Solution:\n",
    "    def pattern19(self, n):\n",
    "        self.upperHalf(n)\n",
    "        self.lowerHalf(n)\n",
    "\n",
    "    def upperHalf(self,n):\n",
    "        space = 0\n",
    "        for row in range(1,n+1):\n",
    "            for set1 in range(n-row+1,0,-1):\n",
    "                print(\"*\",end=\"\")\n",
    "\n",
    "            print(\" \"*space,end=\"\")\n",
    "\n",
    "            for set2 in range(n-row+1,0,-1):\n",
    "                print(\"*\",end=\"\")\n",
    "            print(\"\")\n",
    "\n",
    "            space+=2\n",
    "\n",
    "    def lowerHalf(self, n):\n",
    "        space = 2 * (n - 1) \n",
    "        for row in range(1, n + 1):\n",
    "            for set1 in range(0, row):\n",
    "                print(\"*\", end=\"\")\n",
    "\n",
    "            print(\" \" * space, end=\"\")\n",
    "            \n",
    "            for set2 in range(0, row):\n",
    "                print(\"*\", end=\"\")\n",
    "\n",
    "            space -= 2\n",
    "            print(\"\")  \n",
    "\n",
    "\n",
    "# Example usage\n",
    "if __name__ == \"__main__\":\n",
    "    N = 4\n",
    "    sol = Solution()\n",
    "    sol.pattern19(N)\n",
    "\n"
   ]
  },
  {
   "cell_type": "code",
   "execution_count": 20,
   "metadata": {},
   "outputs": [
    {
     "name": "stdout",
     "output_type": "stream",
     "text": [
      "*  *\n",
      "****\n",
      "*  *\n"
     ]
    }
   ],
   "source": [
    "# Pattern 20 \n",
    "\n",
    "class Solution:\n",
    "    def pattern20(self, n):\n",
    "        self.upper(n)\n",
    "        self.lower(n)\n",
    "    \n",
    "    def upper(self,n):\n",
    "        space = 2 * (n-1)\n",
    "        for row in range(1,n+1):\n",
    "            # Set 1\n",
    "            for i in range(0,row):\n",
    "                print(\"*\",end=\"\")\n",
    "\n",
    "            # Space\n",
    "            print(\" \"*space,end=\"\")\n",
    "\n",
    "            # Set 2\n",
    "            for k in range(0,row):\n",
    "                print(\"*\",end=\"\")\n",
    "\n",
    "            space-=2\n",
    "            print(\"\")\n",
    "\n",
    "    def lower(self,n):\n",
    "        space = 2\n",
    "        x = n//2+1\n",
    "        for row in range(n-1,0,-1):\n",
    "            # Set1\n",
    "            for i in range(0,row):\n",
    "                print(\"*\",end=\"\")\n",
    "\n",
    "            # Space\n",
    "            print(\" \"*space,end=\"\")\n",
    "\n",
    "            # Set2\n",
    "            for k in range(0,row):\n",
    "                print(\"*\",end=\"\")\n",
    "            x = x - 1\n",
    "            space+=2\n",
    "            print(\"\")\n",
    "\n",
    "\n",
    "\n",
    "# Example usage\n",
    "if __name__ == \"__main__\":\n",
    "    N = 2\n",
    "    sol = Solution()\n",
    "    sol.pattern20(N)\n",
    "\n",
    "            \n"
   ]
  },
  {
   "cell_type": "code",
   "execution_count": 21,
   "metadata": {},
   "outputs": [
    {
     "name": "stdout",
     "output_type": "stream",
     "text": [
      "*****\n",
      "*   *\n",
      "*   *\n",
      "*   *\n",
      "*****\n"
     ]
    }
   ],
   "source": [
    "# Pattern 21\n",
    "class Solution:\n",
    "    def pattern21(self, n):\n",
    "        self.pattern(n)\n",
    "     \n",
    "    def pattern(self,n):\n",
    "        for row in range(1,n+1):\n",
    "            \n",
    "            if(row==1 or row ==n):\n",
    "                for i in range(n):\n",
    "                    print(\"*\",end=\"\")\n",
    "                print(\"\")\n",
    "            else:\n",
    "                print(\"*\",end=\"\")\n",
    "                #Space\n",
    "                for i in range(n-2):\n",
    "                    print(\" \",end=\"\")\n",
    "                print(\"*\",end=\"\")\n",
    "                print(\"\")\n",
    "\n",
    "# Example usage\n",
    "if __name__ == \"__main__\":\n",
    "    N = 5\n",
    "    sol = Solution()\n",
    "    sol.pattern21(N)\n"
   ]
  },
  {
   "cell_type": "code",
   "execution_count": 22,
   "metadata": {},
   "outputs": [
    {
     "name": "stdout",
     "output_type": "stream",
     "text": [
      "3 3 3 3 3 \n",
      "3 2 2 2 3 \n",
      "3 2 1 2 3 \n",
      "3 2 2 2 3 \n",
      "3 3 3 3 3 \n"
     ]
    }
   ],
   "source": [
    "# Pattern 22\n",
    "class Solution:\n",
    "    def pattern22(self, n):\n",
    "        self.pattern(n)\n",
    "    def pattern(self,n):\n",
    "        for row in range(2*n-1):\n",
    "            for col in range(2*n-1):\n",
    "                top = row\n",
    "                bottom = (2 * n - 2) - row # Why 2 was subtracted ?\n",
    "                left = col\n",
    "                right = (2*n-2)-col\n",
    "                print(f\"{n-min(min(top,bottom),min(left,right))} \",end=\"\")\n",
    "            print(\"\")\n",
    "\n",
    "# Example usage\n",
    "if __name__ == \"__main__\":\n",
    "    N = 3\n",
    "    sol = Solution()\n",
    "    sol.pattern22(N)\n",
    "\n",
    "# 2 was subtracted because:\n",
    "# Let's say we have n = 3. The indices will be 0, 1, 2, 3, 4 (a total of 5, which is 2 * n - 1).\n",
    "# To get the correct distance from the bottom or right, we subtract 2 from 2 * n to match the maximum index (4).\n",
    "\n",
    "# Example pattern for n = 3:\n",
    "# 33333\n",
    "# 32223\n",
    "# 32123\n",
    "# 32223\n",
    "# 33333"
   ]
  }
 ],
 "metadata": {
  "kernelspec": {
   "display_name": "DSA (3.11.13)",
   "language": "python",
   "name": "python3"
  },
  "language_info": {
   "codemirror_mode": {
    "name": "ipython",
    "version": 3
   },
   "file_extension": ".py",
   "mimetype": "text/x-python",
   "name": "python",
   "nbconvert_exporter": "python",
   "pygments_lexer": "ipython3",
   "version": "3.11.13"
  }
 },
 "nbformat": 4,
 "nbformat_minor": 2
}
